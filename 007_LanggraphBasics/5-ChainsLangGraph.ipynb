{
 "cells": [
  {
   "cell_type": "markdown",
   "metadata": {},
   "source": [
    "### Cadenas Usando LangGraph\n",
    "En esta sección veremos cómo podemos construir una cadena simple usando Langgraph que utiliza 4 conceptos importantes:\n",
    "\n",
    "- Cómo usar mensajes de chat como nuestro estado del grafo\n",
    "- Cómo usar modelos de chat en nodos del grafo\n",
    "- Cómo vincular herramientas a nuestro LLM en modelos de chat\n",
    "- Cómo ejecutar las llamadas a herramientas en nuestros nodos del grafo"
   ]
  },
  {
   "cell_type": "code",
   "execution_count": 1,
   "metadata": {},
   "outputs": [],
   "source": [
    "# Importamos load_dotenv para cargar variables de entorno desde .env\n",
    "from dotenv import load_dotenv\n",
    "# Cargamos las variables de entorno\n",
    "load_dotenv()\n",
    "\n",
    "# Importamos os para gestionar variables de entorno\n",
    "import os\n",
    "# Configuramos la API key de OpenAI desde las variables de entorno\n",
    "os.environ[\"OPENAI_API_KEY\"]=os.getenv(\"OPENAI_API_KEY\")\n",
    "# Configuramos la API key de GROQ desde las variables de entorno\n",
    "os.environ[\"GROQ_API_KEY\"]=os.getenv(\"GROQ_API_KEY\")\n"
   ]
  },
  {
   "cell_type": "markdown",
   "metadata": {},
   "source": [
    "#### Cómo usar mensajes de chat como nuestro estado del grafo\n",
    "##### Mensajes\n",
    "\n",
    "Podemos usar mensajes que pueden capturar diferentes roles dentro de una conversación.\n",
    "LangChain tiene varios tipos de mensajes incluyendo HumanMessage, AIMessage, SystemMessage y ToolMessage.\n",
    "Estos representan un mensaje del usuario, del modelo de chat, para que el modelo de chat instrucciones de comportamiento, y de una llamada a herramienta.\n",
    "\n",
    "Cada mensaje tiene estos componentes importantes:\n",
    "\n",
    "- content - contenido del mensaje\n",
    "- name - Especificar el nombre del autor\n",
    "- response_metadata - opcionalmente, un diccionario de metadatos (por ejemplo, a menudo poblado por el proveedor del modelo para AIMessages)\n",
    "\n"
   ]
  },
  {
   "cell_type": "code",
   "execution_count": 3,
   "metadata": {},
   "outputs": [
    {
     "name": "stdout",
     "output_type": "stream",
     "text": [
      "==================================\u001b[1m Ai Message \u001b[0m==================================\n",
      "Name: ModeloLLM\n",
      "\n",
      "Por favor dime cómo puedo ayudarte\n",
      "================================\u001b[1m Human Message \u001b[0m=================================\n",
      "Name: Raul\n",
      "\n",
      "Quiero aprender a programar\n",
      "==================================\u001b[1m Ai Message \u001b[0m==================================\n",
      "Name: ModeloLLM\n",
      "\n",
      "¿Qué lenguaje de programación quieres aprender?\n",
      "================================\u001b[1m Human Message \u001b[0m=================================\n",
      "Name: Raul\n",
      "\n",
      "Quiero aprender el lenguaje de programación Python\n"
     ]
    }
   ],
   "source": [
    "# Importamos AIMessage y HumanMessage para crear diferentes tipos de mensajes\n",
    "from langchain_core.messages import AIMessage,HumanMessage\n",
    "# Importamos pprint para imprimir de forma más legible\n",
    "from pprint import pprint\n",
    "\n",
    "# Creamos una lista de mensajes comenzando con un mensaje del modelo AI\n",
    "messages=[AIMessage(content=f\"Por favor dime cómo puedo ayudarte\",name=\"ModeloLLM\")]\n",
    "# Agregamos un mensaje humano a la conversación\n",
    "messages.append(HumanMessage(content=f\"Quiero aprender a programar\",name=\"Raul\"))\n",
    "# Agregamos otra respuesta del modelo AI\n",
    "messages.append(AIMessage(content=f\"¿Qué lenguaje de programación quieres aprender?\",name=\"ModeloLLM\"))\n",
    "# Agregamos otra pregunta del humano\n",
    "messages.append(HumanMessage(content=f\"Quiero aprender el lenguaje de programación Python\",name=\"Raul\"))\n",
    "\n",
    "# Iteramos sobre todos los mensajes y los imprimimos de forma bonita\n",
    "for message in messages:\n",
    "    message.pretty_print()\n",
    "\n"
   ]
  },
  {
   "cell_type": "markdown",
   "metadata": {},
   "source": [
    "### Modelos de Chat\n",
    "\n",
    "Podemos usar la secuencia de mensajes como entrada con los modelos de chat usando LLM's y OPENAI."
   ]
  },
  {
   "cell_type": "code",
   "execution_count": 4,
   "metadata": {},
   "outputs": [
    {
     "name": "stderr",
     "output_type": "stream",
     "text": [
      "c:\\Udemy\\RAGBootcamp\\.venv\\Lib\\site-packages\\tqdm\\auto.py:21: TqdmWarning: IProgress not found. Please update jupyter and ipywidgets. See https://ipywidgets.readthedocs.io/en/stable/user_install.html\n",
      "  from .autonotebook import tqdm as notebook_tqdm\n"
     ]
    }
   ],
   "source": [
    "# Importamos ChatGroq para usar el modelo de chat de Groq\n",
    "from langchain_groq import ChatGroq\n",
    "# Inicializamos el modelo de lenguaje con el modelo llama-3.1-8b-instant\n",
    "llm=ChatGroq(model=\"llama-3.1-8b-instant\")\n",
    "# Invocamos el modelo con la lista completa de mensajes\n",
    "# El modelo procesará toda la conversación y generará una respuesta\n",
    "result=llm.invoke(messages)"
   ]
  },
  {
   "cell_type": "code",
   "execution_count": 5,
   "metadata": {},
   "outputs": [
    {
     "data": {
      "text/plain": [
       "{'token_usage': {'completion_tokens': 479,\n",
       "  'prompt_tokens': 85,\n",
       "  'total_tokens': 564,\n",
       "  'completion_time': 0.768095814,\n",
       "  'prompt_time': 0.007119703,\n",
       "  'queue_time': 0.230247229,\n",
       "  'total_time': 0.775215517},\n",
       " 'model_name': 'llama-3.1-8b-instant',\n",
       " 'system_fingerprint': 'fp_ab04adca7d',\n",
       " 'service_tier': 'on_demand',\n",
       " 'finish_reason': 'stop',\n",
       " 'logprobs': None}"
      ]
     },
     "execution_count": 5,
     "metadata": {},
     "output_type": "execute_result"
    }
   ],
   "source": [
    "# Accedemos a los metadatos de la respuesta\n",
    "# Esto incluye información sobre el uso de tokens, tiempo de procesamiento, etc.\n",
    "result.response_metadata"
   ]
  },
  {
   "cell_type": "markdown",
   "metadata": {},
   "source": [
    "### Herramientas\n",
    "Las herramientas pueden integrarse con los modelos LLM para interactuar con sistemas externos. Los sistemas externos pueden ser API's, herramientas de terceros.\n",
    "\n",
    "Cuando se hace una consulta, el modelo puede elegir llamar a la herramienta y esta consulta se basa en la \n",
    "entrada de lenguaje natural y esto devolverá una salida que coincide con el esquema de la herramienta"
   ]
  },
  {
   "cell_type": "code",
   "execution_count": 7,
   "metadata": {},
   "outputs": [],
   "source": [
    "# Definimos una función simple que suma dos números\n",
    "def add(a:int,b:int)-> int:\n",
    "    \"\"\" Suma a y b\n",
    "    Args:\n",
    "        a (int): primer entero\n",
    "        b (int): segundo entero\n",
    "\n",
    "    Returns:\n",
    "        int: la suma de a y b\n",
    "    \"\"\"\n",
    "    # Retornamos la suma de los dos números\n",
    "    return a+b"
   ]
  },
  {
   "cell_type": "code",
   "execution_count": 8,
   "metadata": {},
   "outputs": [
    {
     "data": {
      "text/plain": [
       "ChatGroq(client=<groq.resources.chat.completions.Completions object at 0x000001F7015D3B30>, async_client=<groq.resources.chat.completions.AsyncCompletions object at 0x000001F7017FBAD0>, model_name='llama-3.1-8b-instant', model_kwargs={}, groq_api_key=SecretStr('**********'))"
      ]
     },
     "execution_count": 8,
     "metadata": {},
     "output_type": "execute_result"
    }
   ],
   "source": [
    "# Inspeccionamos el objeto llm para ver su configuración\n",
    "llm"
   ]
  },
  {
   "cell_type": "code",
   "execution_count": 9,
   "metadata": {},
   "outputs": [],
   "source": [
    "### Vinculando herramienta con llm\n",
    "\n",
    "# Vinculamos la herramienta 'add' al modelo de lenguaje\n",
    "# Esto permite que el LLM sepa que puede usar esta función\n",
    "llm_with_tools=llm.bind_tools([add])\n",
    "\n",
    "# Invocamos el LLM con una pregunta matemática\n",
    "# El modelo detectará que necesita usar la herramienta 'add'\n",
    "tool_call=llm_with_tools.invoke([HumanMessage(content=f\"¿Cuánto es 2 más 2?\",name=\"Raul\")])"
   ]
  },
  {
   "cell_type": "code",
   "execution_count": 13,
   "metadata": {},
   "outputs": [
    {
     "data": {
      "text/plain": [
       "[{'name': 'add',\n",
       "  'args': {'a': 2, 'b': 2},\n",
       "  'id': 'akw0nky1t',\n",
       "  'type': 'tool_call'}]"
      ]
     },
     "execution_count": 13,
     "metadata": {},
     "output_type": "execute_result"
    }
   ],
   "source": [
    "# Verificamos las llamadas a herramientas que el modelo decidió hacer\n",
    "# Aquí veremos que el modelo llamó a 'add' con los argumentos a=2 y b=2\n",
    "tool_call.tool_calls"
   ]
  },
  {
   "cell_type": "markdown",
   "metadata": {},
   "source": [
    "### Usando mensajes como estado"
   ]
  },
  {
   "cell_type": "code",
   "execution_count": 14,
   "metadata": {},
   "outputs": [],
   "source": [
    "# Importamos TypedDict para definir la estructura del estado\n",
    "from typing_extensions import TypedDict\n",
    "# Importamos AnyMessage que puede ser cualquier tipo de mensaje\n",
    "from langchain_core.messages import AnyMessage\n",
    "\n",
    "# Definimos la clase State con un campo 'message' que es una lista de mensajes\n",
    "class State(TypedDict):\n",
    "    message:list[AnyMessage]"
   ]
  },
  {
   "cell_type": "markdown",
   "metadata": {},
   "source": [
    "#### Reductores\n",
    "¡Ahora, tenemos un problema menor!\n",
    "\n",
    "Como discutimos, cada nodo devolverá un nuevo valor para nuestra clave de estado messages.\n",
    "\n",
    "Pero, este nuevo valor sobrescribirá el valor anterior de messages.\n",
    "\n",
    "A medida que se ejecuta nuestro grafo, queremos agregar mensajes a nuestra clave de estado messages.\n",
    "\n",
    "Podemos usar funciones reductoras para abordar esto.\n",
    "\n",
    "Los reductores nos permiten especificar cómo se realizan las actualizaciones de estado.\n",
    "\n",
    "Si no se especifica una función reductora, entonces se asume que las actualizaciones a la clave deben sobrescribirla como vimos antes.\n",
    "\n",
    "Pero, para agregar mensajes, podemos usar el reductor precompilado add_messages.\n",
    "\n",
    "Esto asegura que cualquier mensaje se agregue a la lista existente de mensajes.\n",
    "\n",
    "Simplemente necesitamos anotar nuestra clave messages con la función reductora add_messages como metadato."
   ]
  },
  {
   "cell_type": "code",
   "execution_count": 15,
   "metadata": {},
   "outputs": [],
   "source": [
    "# Importamos add_messages, el reductor precompilado para agregar mensajes\n",
    "from langgraph.graph.message import add_messages\n",
    "# Importamos Annotated para agregar metadatos a los tipos\n",
    "from typing import Annotated\n",
    "# Redefinimos State con el reductor add_messages\n",
    "class State(TypedDict):\n",
    "    # Anotamos messages con add_messages para que los mensajes se agreguen en lugar de sobrescribirse\n",
    "    messages:Annotated[list[AnyMessage],add_messages]"
   ]
  },
  {
   "cell_type": "markdown",
   "metadata": {},
   "source": [
    "### Reductores con add_messages"
   ]
  },
  {
   "cell_type": "code",
   "execution_count": 16,
   "metadata": {},
   "outputs": [
    {
     "data": {
      "text/plain": [
       "[AIMessage(content='Por favor dime cómo puedo ayudarte', additional_kwargs={}, response_metadata={}, name='ModeloLLM'),\n",
       " HumanMessage(content='Quiero aprender a programar', additional_kwargs={}, response_metadata={}, name='Raul')]"
      ]
     },
     "execution_count": 16,
     "metadata": {},
     "output_type": "execute_result"
    }
   ],
   "source": [
    "# Creamos una lista inicial de mensajes\n",
    "initial_messages=[AIMessage(content=f\"Por favor dime cómo puedo ayudarte\",name=\"ModeloLLM\")]\n",
    "# Agregamos un mensaje humano\n",
    "initial_messages.append(HumanMessage(content=f\"Quiero aprender a programar\",name=\"Raul\"))\n",
    "# Mostramos los mensajes iniciales\n",
    "initial_messages"
   ]
  },
  {
   "cell_type": "code",
   "execution_count": 17,
   "metadata": {},
   "outputs": [
    {
     "data": {
      "text/plain": [
       "AIMessage(content='¿Qué lenguaje de programación quieres aprender?', additional_kwargs={}, response_metadata={}, name='ModeloLLM')"
      ]
     },
     "execution_count": 17,
     "metadata": {},
     "output_type": "execute_result"
    }
   ],
   "source": [
    "# Creamos un nuevo mensaje AI que queremos agregar\n",
    "ai_message=AIMessage(content=f\"¿Qué lenguaje de programación quieres aprender?\",name=\"ModeloLLM\")\n",
    "# Mostramos el mensaje\n",
    "ai_message"
   ]
  },
  {
   "cell_type": "code",
   "execution_count": 18,
   "metadata": {},
   "outputs": [
    {
     "data": {
      "text/plain": [
       "[AIMessage(content='Por favor dime cómo puedo ayudarte', additional_kwargs={}, response_metadata={}, name='ModeloLLM', id='7ae0d5f1-e208-4e21-bfbc-7276d304f11a'),\n",
       " HumanMessage(content='Quiero aprender a programar', additional_kwargs={}, response_metadata={}, name='Raul', id='67387a30-57f3-4d02-9918-06939d3c64e6'),\n",
       " AIMessage(content='¿Qué lenguaje de programación quieres aprender?', additional_kwargs={}, response_metadata={}, name='ModeloLLM', id='2e58f59c-412a-45c5-8555-addff6e9d9a1')]"
      ]
     },
     "execution_count": 18,
     "metadata": {},
     "output_type": "execute_result"
    }
   ],
   "source": [
    "# El reductor add_messages agrega mensajes en lugar de sobrescribirlos\n",
    "# Aquí combinamos initial_messages con ai_message\n",
    "# El resultado será una lista con todos los mensajes combinados\n",
    "add_messages(initial_messages,ai_message)"
   ]
  },
  {
   "cell_type": "code",
   "execution_count": 19,
   "metadata": {},
   "outputs": [],
   "source": [
    "# Definimos la funcionalidad del nodo del chatbot\n",
    "def llm_tool(state:State):\n",
    "    # Invocamos el LLM con herramientas usando los mensajes del estado\n",
    "    # Retornamos un diccionario con los nuevos mensajes que se agregarán al estado\n",
    "    return {\"messages\":[llm_with_tools.invoke(state[\"messages\"])]}"
   ]
  },
  {
   "cell_type": "code",
   "execution_count": 20,
   "metadata": {},
   "outputs": [
    {
     "data": {
      "image/png": "[encoded data removed]",
      "text/plain": [
       "<IPython.core.display.Image object>"
      ]
     },
     "metadata": {},
     "output_type": "display_data"
    }
   ],
   "source": [
    "# Importamos Image y display para visualizar el grafo\n",
    "from IPython.display import Image, display\n",
    "# Importamos los componentes de LangGraph\n",
    "from langgraph.graph import StateGraph, START, END\n",
    "# Creamos el constructor del grafo con el estado definido\n",
    "builder=StateGraph(State)\n",
    "\n",
    "# Agregamos el nodo \"llm_tool\" que ejecuta la función llm_tool\n",
    "builder.add_node(\"llm_tool\",llm_tool)\n",
    "\n",
    "# Conectamos START al nodo \"llm_tool\"\n",
    "builder.add_edge(START,\"llm_tool\")\n",
    "# Conectamos \"llm_tool\" al nodo END\n",
    "builder.add_edge(\"llm_tool\",END)\n",
    "\n",
    "# Compilamos el grafo\n",
    "graph=builder.compile()\n",
    "\n",
    "# Mostramos el diagrama del grafo\n",
    "display(Image(graph.get_graph().draw_mermaid_png()))"
   ]
  },
  {
   "cell_type": "code",
   "execution_count": 21,
   "metadata": {},
   "outputs": [
    {
     "name": "stdout",
     "output_type": "stream",
     "text": [
      "================================\u001b[1m Human Message \u001b[0m=================================\n",
      "\n",
      "¿Cuánto es 2 más 2?\n",
      "==================================\u001b[1m Ai Message \u001b[0m==================================\n",
      "Tool Calls:\n",
      "  add (xqtjqz0rm)\n",
      " Call ID: xqtjqz0rm\n",
      "  Args:\n",
      "    a: 2\n",
      "    b: 2\n"
     ]
    }
   ],
   "source": [
    "# Invocación del grafo\n",
    "\n",
    "# Invocamos el grafo con una pregunta matemática\n",
    "messages=graph.invoke({\"messages\":\"¿Cuánto es 2 más 2?\"})\n",
    "\n",
    "# Iteramos sobre todos los mensajes resultantes y los imprimimos\n",
    "for message in messages[\"messages\"]:\n",
    "    message.pretty_print()"
   ]
  },
  {
   "cell_type": "code",
   "execution_count": 22,
   "metadata": {},
   "outputs": [],
   "source": [
    "# Definimos una lista de herramientas disponibles\n",
    "# En este caso solo tenemos la función 'add'\n",
    "tools=[add]"
   ]
  },
  {
   "cell_type": "code",
   "execution_count": 23,
   "metadata": {},
   "outputs": [],
   "source": [
    "# Importamos ToolNode para crear un nodo que ejecuta herramientas\n",
    "from langgraph.prebuilt import ToolNode\n",
    "# Importamos tools_condition para enrutar condicionalmente según si hay llamadas a herramientas\n",
    "from langgraph.prebuilt import tools_condition\n",
    "\n",
    "# Creamos un nuevo constructor del grafo\n",
    "builder=StateGraph(State)\n",
    "\n",
    "## Agregamos nodos\n",
    "\n",
    "# Agregamos el nodo \"llm_tool\" que llama al LLM con herramientas\n",
    "builder.add_node(\"llm_tool\",llm_tool)\n",
    "# Agregamos el nodo \"tools\" que ejecuta las herramientas llamadas\n",
    "builder.add_node(\"tools\",ToolNode(tools))\n",
    "\n",
    "## Agregamos Aristas\n",
    "# Conectamos START al nodo \"llm_tool\"\n",
    "builder.add_edge(START,\"llm_tool\")\n",
    "# Agregamos aristas condicionales desde \"llm_tool\"\n",
    "builder.add_conditional_edges(\n",
    "    \"llm_tool\",\n",
    "    # Si el último mensaje (resultado) del asistente es una llamada a herramienta -> tools_condition enruta a tools\n",
    "    # Si el último mensaje (resultado) del asistente NO es una llamada a herramienta -> tools_condition enruta a END\n",
    "    tools_condition\n",
    ")\n",
    "# Conectamos \"tools\" a END después de ejecutar la herramienta\n",
    "builder.add_edge(\"tools\",END)\n",
    "\n",
    "# Compilamos el grafo\n",
    "graph_builder = builder.compile()\n",
    "\n"
   ]
  },
  {
   "cell_type": "code",
   "execution_count": 24,
   "metadata": {},
   "outputs": [
    {
     "data": {
      "image/png": "[encoded data removed]",
      "text/plain": [
       "<IPython.core.display.Image object>"
      ]
     },
     "metadata": {},
     "output_type": "display_data"
    }
   ],
   "source": [
    "# Mostramos el diagrama del grafo con enrutamiento condicional\n",
    "display(Image(graph.get_graph().draw_mermaid_png()))"
   ]
  },
  {
   "cell_type": "code",
   "execution_count": 25,
   "metadata": {},
   "outputs": [
    {
     "name": "stdout",
     "output_type": "stream",
     "text": [
      "================================\u001b[1m Human Message \u001b[0m=================================\n",
      "\n",
      "¿Cuánto es 2 más 2?\n",
      "==================================\u001b[1m Ai Message \u001b[0m==================================\n",
      "Tool Calls:\n",
      "  add (vz9e7yx30)\n",
      " Call ID: vz9e7yx30\n",
      "  Args:\n",
      "    a: 2\n",
      "    b: 2\n"
     ]
    }
   ],
   "source": [
    "# Invocación del grafo con ejecución de herramientas\n",
    "\n",
    "# Invocamos el grafo con una pregunta matemática\n",
    "messages=graph.invoke({\"messages\":\"¿Cuánto es 2 más 2?\"})\n",
    "\n",
    "# Iteramos sobre todos los mensajes (pregunta, llamada a herramienta y resultado)\n",
    "for message in messages[\"messages\"]:\n",
    "    message.pretty_print()"
   ]
  },
  {
   "cell_type": "code",
   "execution_count": 26,
   "metadata": {},
   "outputs": [
    {
     "name": "stdout",
     "output_type": "stream",
     "text": [
      "================================\u001b[1m Human Message \u001b[0m=================================\n",
      "\n",
      "¿Qué es Machine Learning?\n",
      "==================================\u001b[1m Ai Message \u001b[0m==================================\n",
      "\n",
      "<brave_search> Machine Learning\n"
     ]
    }
   ],
   "source": [
    "# Invocamos el grafo con una pregunta que NO requiere herramientas\n",
    "# El modelo responderá directamente sin llamar a la herramienta 'add'\n",
    "messages=graph.invoke({\"messages\":\"¿Qué es Machine Learning?\"})\n",
    "\n",
    "# Iteramos sobre los mensajes de la conversación\n",
    "for message in messages[\"messages\"]:\n",
    "    message.pretty_print()"
   ]
  },
  {
   "cell_type": "code",
   "execution_count": null,
   "metadata": {},
   "outputs": [],
   "source": []
  }
 ],
 "metadata": {
  "kernelspec": {
   "display_name": ".venv",
   "language": "python",
   "name": "python3"
  },
  "language_info": {
   "codemirror_mode": {
    "name": "ipython",
    "version": 3
   },
   "file_extension": ".py",
   "mimetype": "text/x-python",
   "name": "python",
   "nbconvert_exporter": "python",
   "pygments_lexer": "ipython3",
   "version": "3.12.11"
  }
 },
 "nbformat": 4,
 "nbformat_minor": 2
}
