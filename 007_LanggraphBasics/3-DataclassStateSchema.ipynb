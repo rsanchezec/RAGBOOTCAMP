{
 "cells": [
  {
   "cell_type": "markdown",
   "metadata": {},
   "source": [
    "### Esquema de Estado con DataClasses\n",
    "Cuando definimos un StateGraph de LangGraph, usamos un esquema de estado.\n",
    "\n",
    "El esquema de estado representa la estructura y tipos de datos que nuestro grafo utilizará.\n",
    "\n",
    "Se espera que todos los nodos se comuniquen con ese esquema.\n",
    "\n",
    "¡LangGraph ofrece flexibilidad en cómo defines tu esquema de estado, acomodando varios tipos de Python y enfoques de validación!"
   ]
  },
  {
   "cell_type": "markdown",
   "metadata": {},
   "source": [
    "Podemos usar la clase TypedDict del módulo typing de Python.\n",
    "\n",
    "Te permite especificar claves y sus correspondientes tipos de valores.\n",
    "\n",
    "Pero, ten en cuenta que estas son pistas de tipo (type hints).\n",
    "\n",
    "Pueden ser usadas por verificadores de tipos estáticos (como mypy) o IDEs para detectar posibles errores relacionados con tipos antes de que se ejecute el código.\n",
    "\n",
    "¡Pero no se aplican en tiempo de ejecución!"
   ]
  },
  {
   "cell_type": "code",
   "execution_count": 1,
   "metadata": {},
   "outputs": [],
   "source": [
    "# Importamos TypedDict para definir diccionarios con tipos específicos\n",
    "from typing_extensions import TypedDict\n",
    "# Importamos Literal para definir valores literales específicos permitidos\n",
    "from typing import Literal\n",
    "\n",
    "# Definimos el esquema de estado usando TypedDict\n",
    "class TypedDictState(TypedDict):\n",
    "    # name: campo de tipo string que almacena el nombre\n",
    "    name:str\n",
    "    # game: campo que solo acepta los valores literales \"cricket\" o \"badminton\"\n",
    "    game:Literal[\"cricket\",\"badminton\"]\n",
    "\n",
    "    "
   ]
  },
  {
   "cell_type": "code",
   "execution_count": 2,
   "metadata": {},
   "outputs": [],
   "source": [
    "# Definimos la función play_game que procesa el estado inicial\n",
    "def play_game(state:TypedDictState):\n",
    "    # Imprimimos mensaje indicando que el nodo ha sido llamado\n",
    "    print(\"---Nodo Jugar ha sido llamado--\")\n",
    "    # Retornamos un diccionario actualizando el nombre con \" quiere jugar \"\n",
    "    return {\"name\":state['name'] + \" quiere jugar \"}\n",
    "\n",
    "# Definimos la función cricket para el juego de cricket\n",
    "def cricket(state:TypedDictState):\n",
    "    # Imprimimos mensaje indicando que el nodo cricket ha sido llamado\n",
    "    print(\"-- Nodo Cricket ha sido llamado--\")\n",
    "    # Retornamos el nombre actualizado con \" cricket\" y establecemos game a \"cricket\"\n",
    "    return {\"name\":state[\"name\"] + \" cricket\",\"game\":\"cricket\"}\n",
    "\n",
    "# Definimos la función badminton para el juego de badminton\n",
    "def badminton(state:TypedDictState):\n",
    "    # Imprimimos mensaje indicando que el nodo badminton ha sido llamado\n",
    "    print(\"-- Nodo Badminton ha sido llamado--\")\n",
    "    # Retornamos el nombre actualizado con \" badminton\" y establecemos game a \"badminton\"\n",
    "    return {\"name\":state[\"name\"] + \" badminton\",\"game\":\"badminton\"}"
   ]
  },
  {
   "cell_type": "code",
   "execution_count": 3,
   "metadata": {},
   "outputs": [],
   "source": [
    "# Importamos random para generar números aleatorios\n",
    "import random\n",
    "# Definimos la función decide_play que decide qué juego se jugará\n",
    "def decide_play(state:TypedDictState)->Literal[\"cricket\",\"badminton\"]:\n",
    "    # Aquí, hacemos una división 50/50 entre los nodos cricket y badminton\n",
    "    # Generamos un número aleatorio entre 0 y 1\n",
    "    if random.random() < 0.5:\n",
    "        # Si el número es menor a 0.5, retornamos \"cricket\"\n",
    "        return \"cricket\"\n",
    "    else:\n",
    "        # Si el número es mayor o igual a 0.5, retornamos \"badminton\"\n",
    "        return \"badminton\""
   ]
  },
  {
   "cell_type": "code",
   "execution_count": 4,
   "metadata": {},
   "outputs": [
    {
     "data": {
      "image/png": "[encoded data removed]",
      "text/plain": [
       "<IPython.core.display.Image object>"
      ]
     },
     "metadata": {},
     "output_type": "display_data"
    }
   ],
   "source": [
    "# Importamos Image y display para visualizar el grafo\n",
    "from IPython.display import Image, display\n",
    "# Importamos los componentes de LangGraph para construir el grafo\n",
    "from langgraph.graph import StateGraph, START, END\n",
    "\n",
    "# Creamos el constructor del grafo con el esquema TypedDictState\n",
    "builder=StateGraph(TypedDictState)\n",
    "# Agregamos el nodo \"playgame\" que ejecuta la función play_game\n",
    "builder.add_node(\"playgame\",play_game)\n",
    "# Agregamos el nodo \"cricket\" que ejecuta la función cricket\n",
    "builder.add_node(\"cricket\",cricket)\n",
    "# Agregamos el nodo \"badminton\" que ejecuta la función badminton\n",
    "builder.add_node(\"badminton\",badminton)\n",
    "\n",
    "## Flujo del grafo\n",
    "\n",
    "# Conectamos el nodo START al nodo \"playgame\" (primer nodo a ejecutar)\n",
    "builder.add_edge(START,\"playgame\")\n",
    "# Agregamos aristas condicionales desde \"playgame\" usando la función decide_play\n",
    "# Esta función decide si se va a cricket o badminton\n",
    "builder.add_conditional_edges(\"playgame\",decide_play)\n",
    "# Conectamos el nodo \"cricket\" al nodo END (finaliza el flujo)\n",
    "builder.add_edge(\"cricket\",END)\n",
    "# Conectamos el nodo \"badminton\" al nodo END (finaliza el flujo)\n",
    "builder.add_edge(\"badminton\",END)\n",
    "\n",
    "# Compilamos el grafo para poder ejecutarlo\n",
    "graph = builder.compile()\n",
    "\n",
    "# Visualizamos el grafo generado en formato Mermaid PNG\n",
    "display(Image(graph.get_graph().draw_mermaid_png()))\n"
   ]
  },
  {
   "cell_type": "code",
   "execution_count": 5,
   "metadata": {},
   "outputs": [
    {
     "name": "stdout",
     "output_type": "stream",
     "text": [
      "---Nodo Jugar ha sido llamado--\n",
      "-- Nodo Cricket ha sido llamado--\n"
     ]
    },
    {
     "data": {
      "text/plain": [
       "{'name': 'Krish quiere jugar  cricket', 'game': 'cricket'}"
      ]
     },
     "execution_count": 5,
     "metadata": {},
     "output_type": "execute_result"
    }
   ],
   "source": [
    "# Invocamos el grafo con un diccionario que contiene el nombre \"Krish\"\n",
    "# TypedDict permite pasar diccionarios directamente sin validación en tiempo de ejecución\n",
    "graph.invoke({\"name\":\"Krish\"})"
   ]
  },
  {
   "cell_type": "code",
   "execution_count": null,
   "metadata": {},
   "outputs": [],
   "source": [
    "# Invocamos el grafo con un número en lugar de un string\n",
    "# TypedDict NO valida el tipo al crear el diccionario (acepta {\"name\":123})\n",
    "# Sin embargo, el error ocurre durante la ejecución cuando intentamos\n",
    "# concatenar el int 123 con el string \" quiere jugar \" en la función play_game\n",
    "# Esto causará un TypeError: unsupported operand type(s) for +: 'int' and 'str'\n",
    "graph.invoke({\"name\":123})"
   ]
  },
  {
   "cell_type": "code",
   "execution_count": null,
   "metadata": {},
   "outputs": [],
   "source": [
    "### Pydantic (Python)"
   ]
  },
  {
   "cell_type": "markdown",
   "metadata": {},
   "source": [
    "### Dataclasses\n",
    "Las dataclasses de Python proporcionan otra forma de definir datos estructurados.\n",
    "\n",
    "Las dataclasses ofrecen una sintaxis concisa para crear clases que se usan principalmente para almacenar datos."
   ]
  },
  {
   "cell_type": "code",
   "execution_count": 9,
   "metadata": {},
   "outputs": [],
   "source": [
    "### DataClasses\n",
    "\n",
    "# Importamos dataclass para crear clases de datos\n",
    "from dataclasses import dataclass\n",
    "\n",
    "# Usamos el decorador @dataclass para crear una clase de datos\n",
    "@dataclass\n",
    "class DataClassState:\n",
    "    # name: atributo de tipo string que almacena el nombre\n",
    "    name:str\n",
    "    # game: atributo que solo acepta los valores literales \"badminton\" o \"cricket\"\n",
    "    game:Literal[\"badminton\",\"cricket\"]"
   ]
  },
  {
   "cell_type": "code",
   "execution_count": 10,
   "metadata": {},
   "outputs": [],
   "source": [
    "# Redefinimos la función play_game para trabajar con DataClassState\n",
    "def play_game(state:DataClassState):\n",
    "    # Imprimimos mensaje indicando que el nodo ha sido llamado\n",
    "    print(\"---Nodo Jugar ha sido llamado--\")\n",
    "    # Accedemos al atributo name usando notación de punto (state.name)\n",
    "    # en lugar de diccionario (state['name'])\n",
    "    return {\"name\":state.name + \" quiere jugar \"}\n",
    "\n",
    "# Redefinimos la función cricket para DataClassState\n",
    "def cricket(state:DataClassState):\n",
    "    # Imprimimos mensaje indicando que el nodo cricket ha sido llamado\n",
    "    print(\"-- Nodo Cricket ha sido llamado--\")\n",
    "    # Usamos state.name para acceder al atributo de la dataclass\n",
    "    return {\"name\":state.name + \" cricket\",\"game\":\"cricket\"}\n",
    "\n",
    "# Redefinimos la función badminton para DataClassState\n",
    "def badminton(state:DataClassState):\n",
    "    # Imprimimos mensaje indicando que el nodo badminton ha sido llamado\n",
    "    print(\"-- Nodo Badminton ha sido llamado--\")\n",
    "    # Usamos state.name para acceder al atributo de la dataclass\n",
    "    return {\"name\":state.name + \" badminton\",\"game\":\"badminton\"}"
   ]
  },
  {
   "cell_type": "code",
   "execution_count": 11,
   "metadata": {},
   "outputs": [],
   "source": [
    "# Importamos random para generar números aleatorios\n",
    "import random\n",
    "# Redefinimos decide_play para trabajar con DataClassState\n",
    "def decide_play(state:DataClassState)->Literal[\"cricket\",\"badminton\"]:\n",
    "    # Aquí, hacemos una división 50/50 entre los nodos cricket y badminton\n",
    "    # Generamos un número aleatorio entre 0 y 1\n",
    "    if random.random() < 0.5:\n",
    "        # Si el número es menor a 0.5, retornamos \"cricket\"\n",
    "        return \"cricket\"\n",
    "    else:\n",
    "        # Si el número es mayor o igual a 0.5, retornamos \"badminton\"\n",
    "        return \"badminton\""
   ]
  },
  {
   "cell_type": "code",
   "execution_count": 12,
   "metadata": {},
   "outputs": [
    {
     "data": {
      "image/png": "[encoded data removed]",
      "text/plain": [
       "<IPython.core.display.Image object>"
      ]
     },
     "metadata": {},
     "output_type": "display_data"
    }
   ],
   "source": [
    "# Creamos el constructor del grafo con el esquema DataClassState\n",
    "builder=StateGraph(DataClassState)\n",
    "# Agregamos el nodo \"playgame\" que ejecuta la función play_game\n",
    "builder.add_node(\"playgame\",play_game)\n",
    "# Agregamos el nodo \"cricket\" que ejecuta la función cricket\n",
    "builder.add_node(\"cricket\",cricket)\n",
    "# Agregamos el nodo \"badminton\" que ejecuta la función badminton\n",
    "builder.add_node(\"badminton\",badminton)\n",
    "\n",
    "## Flujo del grafo\n",
    "\n",
    "# Conectamos el nodo START al nodo \"playgame\" (primer nodo a ejecutar)\n",
    "builder.add_edge(START,\"playgame\")\n",
    "# Agregamos aristas condicionales desde \"playgame\" usando la función decide_play\n",
    "builder.add_conditional_edges(\"playgame\",decide_play)\n",
    "# Conectamos el nodo \"cricket\" al nodo END (finaliza el flujo)\n",
    "builder.add_edge(\"cricket\",END)\n",
    "# Conectamos el nodo \"badminton\" al nodo END (finaliza el flujo)\n",
    "builder.add_edge(\"badminton\",END)\n",
    "\n",
    "# Compilamos el grafo para poder ejecutarlo\n",
    "graph = builder.compile()\n",
    "\n",
    "# Visualizamos el grafo generado en formato Mermaid PNG\n",
    "display(Image(graph.get_graph().draw_mermaid_png()))"
   ]
  },
  {
   "cell_type": "code",
   "execution_count": 37,
   "metadata": {},
   "outputs": [
    {
     "name": "stdout",
     "output_type": "stream",
     "text": [
      "---Nodo Jugar ha sido llamado--\n",
      "-- Nodo Badminton ha sido llamado--\n"
     ]
    },
    {
     "data": {
      "text/plain": [
       "{'name': 'Raul quiere jugar  badminton', 'game': 'badminton'}"
      ]
     },
     "execution_count": 37,
     "metadata": {},
     "output_type": "execute_result"
    }
   ],
   "source": [
    "# Invocamos el grafo pasando una instancia de DataClassState\n",
    "# Con DataClass debemos crear una instancia usando el constructor de la clase\n",
    "graph.invoke(DataClassState(name=\"Raul\",game=\"cricket\"))"
   ]
  },
  {
   "cell_type": "code",
   "execution_count": 41,
   "metadata": {},
   "outputs": [
    {
     "name": "stdout",
     "output_type": "stream",
     "text": [
      "---Nodo Jugar ha sido llamado--\n",
      "-- Nodo Cricket ha sido llamado--\n"
     ]
    },
    {
     "data": {
      "text/plain": [
       "{'name': 'Raul quiere jugar  cricket', 'game': 'cricket'}"
      ]
     },
     "execution_count": 41,
     "metadata": {},
     "output_type": "execute_result"
    }
   ],
   "source": [
    "# Invocamos el grafo nuevamente con DataClassState\n",
    "# Cada invocación puede resultar en diferentes caminos debido a la aleatoriedad\n",
    "graph.invoke(DataClassState(name=\"Raul\",game=\"cricket\"))"
   ]
  },
  {
   "cell_type": "code",
   "execution_count": 25,
   "metadata": {},
   "outputs": [
    {
     "name": "stdout",
     "output_type": "stream",
     "text": [
      "---Nodo Jugar ha sido llamado--\n",
      "-- Nodo Cricket ha sido llamado--\n"
     ]
    },
    {
     "data": {
      "text/plain": [
       "{'name': 'Raul quiere jugar  cricket', 'game': 'cricket'}"
      ]
     },
     "execution_count": 25,
     "metadata": {},
     "output_type": "execute_result"
    }
   ],
   "source": [
    "graph.invoke(DataClassState(name=\"Raul\", game= \"\"))"
   ]
  }
 ],
 "metadata": {
  "kernelspec": {
   "display_name": ".venv",
   "language": "python",
   "name": "python3"
  },
  "language_info": {
   "codemirror_mode": {
    "name": "ipython",
    "version": 3
   },
   "file_extension": ".py",
   "mimetype": "text/x-python",
   "name": "python",
   "nbconvert_exporter": "python",
   "pygments_lexer": "ipython3",
   "version": "3.12.11"
  }
 },
 "nbformat": 4,
 "nbformat_minor": 2
}
