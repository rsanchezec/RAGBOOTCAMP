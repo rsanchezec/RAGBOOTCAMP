{
 "cells": [
  {
   "cell_type": "markdown",
   "metadata": {},
   "source": [
    "### Construyendo un Chatbot Con Múltiples Herramientas Usando Langgraph\n",
    "\n",
    "#### Objetivo\n",
    "Crear un chatbot con capacidades de herramientas de arxiv, búsqueda en wikipedia y algunas funciones"
   ]
  },
  {
   "cell_type": "code",
   "execution_count": 1,
   "metadata": {},
   "outputs": [],
   "source": [
    "# Importamos herramientas para consultar Arxiv (repositorio de papers científicos)\n",
    "from langchain_community.tools import ArxivQueryRun,WikipediaQueryRun\n",
    "# Importamos los wrappers de API para Wikipedia y Arxiv\n",
    "from langchain_community.utilities import WikipediaAPIWrapper,ArxivAPIWrapper"
   ]
  },
  {
   "cell_type": "code",
   "execution_count": 2,
   "metadata": {},
   "outputs": [
    {
     "name": "stdout",
     "output_type": "stream",
     "text": [
      "arxiv\n"
     ]
    }
   ],
   "source": [
    "# Configuramos el wrapper de la API de Arxiv\n",
    "# top_k_results=2: devuelve los 2 mejores resultados\n",
    "# doc_content_chars_max=500: limita el contenido a 500 caracteres\n",
    "api_wrapper_arxiv=ArxivAPIWrapper(top_k_results=2,doc_content_chars_max=500)\n",
    "# Creamos la herramienta de búsqueda de Arxiv usando el wrapper configurado\n",
    "arxiv=ArxivQueryRun(api_wrapper=api_wrapper_arxiv)\n",
    "# Imprimimos el nombre de la herramienta\n",
    "print(arxiv.name)"
   ]
  },
  {
   "cell_type": "code",
   "execution_count": 3,
   "metadata": {},
   "outputs": [
    {
     "data": {
      "text/plain": [
       "\"Published: 2024-07-22\\nTitle: Attention Is All You Need But You Don't Need All Of It For Inference of Large Language Models\\nAuthors: Georgy Tyukin, Gbetondji J-S Dovonon, Jean Kaddour, Pasquale Minervini\\nSummary: The inference demand for LLMs has skyrocketed in recent months, and serving\\nmodels with low latencies remains challenging due to the quadratic input length\\ncomplexity of the attention layers. In this work, we investigate the effect of\\ndropping MLP and attention layers at inference time o\""
      ]
     },
     "execution_count": 3,
     "metadata": {},
     "output_type": "execute_result"
    }
   ],
   "source": [
    "# Invocamos la herramienta de Arxiv con una búsqueda del famoso paper \"Attention is All You Need\"\n",
    "arxiv.invoke(\"Attention is all you need\")"
   ]
  },
  {
   "cell_type": "code",
   "execution_count": 4,
   "metadata": {},
   "outputs": [
    {
     "data": {
      "text/plain": [
       "'wikipedia'"
      ]
     },
     "execution_count": 4,
     "metadata": {},
     "output_type": "execute_result"
    }
   ],
   "source": [
    "# Configuramos el wrapper de la API de Wikipedia\n",
    "# top_k_results=1: devuelve solo el mejor resultado\n",
    "# doc_content_chars_max=500: limita el contenido a 500 caracteres\n",
    "api_wrapper_wiki=WikipediaAPIWrapper(top_k_results=1,doc_content_chars_max=500)\n",
    "# Creamos la herramienta de búsqueda de Wikipedia usando el wrapper configurado\n",
    "wiki=WikipediaQueryRun(api_wrapper=api_wrapper_wiki)\n",
    "# Mostramos el nombre de la herramienta\n",
    "wiki.name"
   ]
  },
  {
   "cell_type": "code",
   "execution_count": 5,
   "metadata": {},
   "outputs": [
    {
     "data": {
      "text/plain": [
       "'Page: Ideogram (text-to-image model)\\nSummary: Ideogram is a freemium text-to-image model developed by Ideogram, Inc. using deep learning methodologies to generate digital images from natural language descriptions known as prompts. The model is capable of generating legible text in the images compared to other text-to-image models.\\n\\n'"
      ]
     },
     "execution_count": 5,
     "metadata": {},
     "output_type": "execute_result"
    }
   ],
   "source": [
    "# Invocamos la herramienta de Wikipedia con una consulta sobre machine learning\n",
    "wiki.invoke(\"¿Qué es machine learning?\")"
   ]
  },
  {
   "cell_type": "code",
   "execution_count": 7,
   "metadata": {},
   "outputs": [],
   "source": [
    "# Importamos load_dotenv para cargar variables de entorno\n",
    "from dotenv import load_dotenv\n",
    "# Cargamos las variables de entorno desde el archivo .env\n",
    "load_dotenv()\n",
    "\n",
    "# Importamos os para gestionar variables de entorno\n",
    "import os\n",
    "\n",
    "# Configuramos la API key de Tavily (herramienta de búsqueda web)\n",
    "os.environ[\"TAVILY_API_KEY\"]=os.getenv(\"TAVILY_API_KEY\")\n",
    "# Configuramos la API key de GROQ\n",
    "os.environ[\"GROQ_API_KEY\"]=os.getenv(\"GROQ_API_KEY\")\n",
    "\n"
   ]
  },
  {
   "cell_type": "code",
   "execution_count": 8,
   "metadata": {},
   "outputs": [
    {
     "name": "stderr",
     "output_type": "stream",
     "text": [
      "C:\\Users\\raule\\AppData\\Local\\Temp\\ipykernel_26924\\585581067.py:6: LangChainDeprecationWarning: The class `TavilySearchResults` was deprecated in LangChain 0.3.25 and will be removed in 1.0. An updated version of the class exists in the :class:`~langchain-tavily package and should be used instead. To use it run `pip install -U :class:`~langchain-tavily` and import as `from :class:`~langchain_tavily import TavilySearch``.\n",
      "  tavily = TavilySearchResults()\n"
     ]
    }
   ],
   "source": [
    "### Herramienta de Búsqueda Tavily\n",
    "# Importamos TavilySearchResults, una herramienta de búsqueda web optimizada para LLMs\n",
    "from langchain_community.tools.tavily_search import TavilySearchResults\n",
    "\n",
    "# Inicializamos la herramienta de búsqueda Tavily\n",
    "tavily = TavilySearchResults()"
   ]
  },
  {
   "cell_type": "code",
   "execution_count": 10,
   "metadata": {},
   "outputs": [
    {
     "data": {
      "text/plain": [
       "[{'title': 'Noticias del día 11 de octubre de 2025 - Cinco Días',\n",
       "  'url': 'https://cincodias.elpais.com/hemeroteca/2025-10-11/',\n",
       "  'content': 'Julián Fernández lanzó su primer satélite a los 16 años. A los 22 dirige una empresa con la que pretende dar conectividad segura a ejércitos y a compañías con activos en zonas remotas\\n\\n## Inteligencia artificial: ¿es oro todo lo que reluce?\\n\\nIncluir firmas del ramo es razonable, pero hay que equilibrarlo con activos en sectores defensivos\\n\\n## No existe tal cosa como una burbuja ‘buena’\\n\\nLa economía está peor preparada para el estallido de la inversión en IA que cuando lo hicieron las puntocom [...] Cinco Días\\n\\n# 11 de octubre de 2025\\n\\n## Este truco para el iPhone te permite escribir mucho más rápido con el móvil\\n\\nConseguirás esto sin perder ni un ápice de precisión y, por lo tanto, serás mucho más eficiente a la hora de escribir un correo e, incluso, al mandar mensajes por redes sociales.\\n\\n## El niño prodigio de los satélites españoles se hace mayor con la vista puesta en defensa [...] ## La educación financiera, la clave al elegir hipoteca\\n\\nLos bancos van a hacer lo posible por vincular la contratación del crédito con otros productos\\n\\n## Valores que pueden llevar al Ibex 35 hacia nuevos máximos históricos\\n\\nLas compañías más rezagadas en la subida, algunos bancos, Inditex y valores energéticos podrían prolongar la ganancia del 35% que acumula este año el índice español, a punto de batir su récord de 2007',\n",
       "  'score': 0.7067782},\n",
       " {'title': 'Sábado, 11 de octubre de 2025 (13.00 horas) - SWI swissinfo.ch',\n",
       "  'url': 'https://www.swissinfo.ch/spa/s%C3%A1bado%2C-11-de-octubre-de-2025-%2813.00-horas%29/90150880',\n",
       "  'content': '# Sábado, 11 de octubre de 2025 (13.00 horas)\\n\\nISRAEL PALESTINA\\n\\nJerusalén – Miles de gazatíes vuelven a sus casas tras entrar en vigor un alto el fuego que les ha permitido pasar la primera noche tranquila después de meses de bombardeos, a la espera del intercambio de rehenes por presos en cumplimiento del plan de paz que continúa en proceso de negociación entre Hamás e Israel.\\n\\n(Texto)(Foto)(Vídeo) [...] 14:00.- Varsovia.- POLONIA MIGRACIÓN.- El partido ultraconservador polaco Ley y Justicia (PiS) convoca en Varsovia una manifestación contra la inmigración irregular.\\n\\n18.00.- Ciudad del Vaticano.- PAPA PAZ.- El papa León XIV celebra un rosario en la plaza de San Pedro en la que se pedirá por la paz en el mundo. (Texto) [...] – El presidente de EE.UU., Donald Trump, tiene previsto partir hacia el Cairo para escenificar la firma del acuerdo del precario alto el fuego en la franja de Gaza y posteriormente viajar a Jerusalén, donde espera presenciar las liberaciones de los rehenes de Hamás.\\n\\n(Texto)\\n\\nUCRANIA GUERRA\\n\\nLeópolis – En los dos años transcurridos desde el inicio de su ofensiva el Ejército ruso ha logrado ganar terreno pero no ha conseguido superar la resistencia del las fuerzas ucranianas.\\n\\n(Texto) (Foto)',\n",
       "  'score': 0.54346967},\n",
       " {'title': 'América Latina acelera en inteligencia artificial más de lo esperado ...',\n",
       "  'url': 'https://news.un.org/es/story/2025/10/1540524',\n",
       "  'content': 'América Latina y el Caribe muestra una adopción de inteligencia artificial que supera su peso digital global, pero enfrenta desafíos críticos en talento, inversión y gobernanza que amenazan su competitividad futura, según revela el Índice Latinoamericano de Inteligencia Artificial (ILIA) 2025 presentado este martes. [...] El ILIA 2025, elaborado con más de 100 subindicadores organizados en tres dimensiones -factores habilitantes; investigación, desarrollo y adopción; y gobernanza- se consolida como referencia esencial para guiar decisiones de política basadas en evidencia en la región.\\n\\nPara estar informado de la actualidad internacional, subscríbete a nuestro boletín\\n\\nDescarga nuestra aplicación Noticias ONU para IOS o Android devices.\\n\\n inteligencia artificial\\n Latinoamérica [...] El informe detecta que, aunque un número creciente de países ha desarrollado estrategias nacionales de IA, la mayoría carece de financiamiento adecuado, mecanismos de implementación efectivos y sistemas de evaluación de impacto. Además, se observa una notable ausencia de enfoques ambientales y de equidad de género en estas políticas.',\n",
       "  'score': 0.51076555},\n",
       " {'title': 'IA: Qué se espera en 2025 de la inteligencia artificial, el avance que ...',\n",
       "  'url': 'https://www.bbc.com/mundo/articles/c4gxzx0kpp6o',\n",
       "  'content': 'Los agentes de IA autónomos basados en modelos de lenguaje son el objetivo para 2025 de las grandes empresas tecnológicas como OpenAI (ChatGPT), Meta (LLaMA), Google (Gemini) o Anthropic (Claude).\\n\\nHasta ahora, estos sistemas de IA hacen recomendaciones, en 2025 se desea que tomen decisiones por nosotros. [...] ### Escasez y altos precios: cómo Ucrania ha convertido los ataques contra plantas petroleras rusas en una de sus principales tácticas de guerra\\n ### Detienen a 5 personas en Ecuador luego de que el gobierno denunciara un intento de asesinato contra el presidente Daniel Noboa\\n ### \"Carteles gringos\": las pandillas que venden en EE.UU. la droga producida en América Latina (y por qué no tienen capos como \"El Chapo\")\\n\\n## No te lo pierdas [...] 7. Los 3 científicos que ganaron el Nobel de Física 2025 por hacer que \"las extrañas propiedades del mundo cuántico\" funcionen en un chip\\n8. Detienen a 5 personas en Ecuador luego de que el gobierno denunciara un intento de asesinato contra el presidente Daniel Noboa\\n9. Pagaron miles de dólares para dar la vuelta al mundo en un crucero que nunca zarpó y ahora no pueden recuperar su dinero',\n",
       "  'score': 0.46818325},\n",
       " {'title': 'Últimas noticias | 11 octubre 2025 - Mediodía',\n",
       "  'url': 'https://es-us.noticias.yahoo.com/noticias-11-octubre-2025-mediod%C3%ADa-100025852.html',\n",
       "  'content': 'Gestiona tu cuenta\\n\\nEuronews Videos\\nEuronews Videos\\n\\n# Últimas noticias | 11 octubre 2025 - Mediodía\\n\\nPonte al día con las noticias más importantes de Europa y el mundo este 11 octubre 2025: noticias de última hora, internacional, negocios, entretenimiento, política, cultura, viajes.\\n\\nView on euronews\\n\\nPágina de inicio de Yahoo news',\n",
       "  'score': 0.3434964}]"
      ]
     },
     "execution_count": 10,
     "metadata": {},
     "output_type": "execute_result"
    }
   ],
   "source": [
    "# Invocamos Tavily con una búsqueda de noticias recientes de IA\n",
    "tavily.invoke(\"Proporcióname las noticias recientes de IA del 11 de octube de 2025\")"
   ]
  },
  {
   "cell_type": "code",
   "execution_count": 11,
   "metadata": {},
   "outputs": [],
   "source": [
    "### Combinamos todas las herramientas en una lista\n",
    "\n",
    "# Creamos una lista con todas las herramientas disponibles\n",
    "# arxiv: para buscar papers científicos\n",
    "# wiki: para buscar información enciclopédica\n",
    "# tavily: para buscar noticias y contenido web actual\n",
    "tools=[arxiv,wiki,tavily]"
   ]
  },
  {
   "cell_type": "code",
   "execution_count": 12,
   "metadata": {},
   "outputs": [
    {
     "name": "stderr",
     "output_type": "stream",
     "text": [
      "c:\\Udemy\\RAGBootcamp\\.venv\\Lib\\site-packages\\tqdm\\auto.py:21: TqdmWarning: IProgress not found. Please update jupyter and ipywidgets. See https://ipywidgets.readthedocs.io/en/stable/user_install.html\n",
      "  from .autonotebook import tqdm as notebook_tqdm\n"
     ]
    }
   ],
   "source": [
    "## Inicializamos nuestro modelo LLM\n",
    "\n",
    "# Importamos ChatGroq para usar modelos de chat de Groq\n",
    "from langchain_groq import ChatGroq\n",
    "\n",
    "# Inicializamos el modelo de lenguaje con llama-3.1-8b-instant\n",
    "llm=ChatGroq(model=\"llama-3.1-8b-instant\")\n",
    "\n",
    "# Vinculamos todas las herramientas al modelo\n",
    "# Esto permite que el LLM sepa qué herramientas tiene disponibles y cuándo usarlas\n",
    "llm_with_tools=llm.bind_tools(tools)"
   ]
  },
  {
   "cell_type": "code",
   "execution_count": 13,
   "metadata": {},
   "outputs": [
    {
     "data": {
      "text/plain": [
       "AIMessage(content='', additional_kwargs={'tool_calls': [{'id': '18zbv9hjj', 'function': {'arguments': '{\"query\":\"noticias recientes de IA\"}', 'name': 'tavily_search_results_json'}, 'type': 'function'}]}, response_metadata={'token_usage': {'completion_tokens': 23, 'prompt_tokens': 559, 'total_tokens': 582, 'completion_time': 0.050017785, 'prompt_time': 0.058124107, 'queue_time': 0.24069536, 'total_time': 0.108141892}, 'model_name': 'llama-3.1-8b-instant', 'system_fingerprint': 'fp_ab04adca7d', 'service_tier': 'on_demand', 'finish_reason': 'tool_calls', 'logprobs': None}, id='run--bef75e7e-ded7-48d7-bc23-483018443886-0', tool_calls=[{'name': 'tavily_search_results_json', 'args': {'query': 'noticias recientes de IA'}, 'id': '18zbv9hjj', 'type': 'tool_call'}], usage_metadata={'input_tokens': 559, 'output_tokens': 23, 'total_tokens': 582})"
      ]
     },
     "execution_count": 13,
     "metadata": {},
     "output_type": "execute_result"
    }
   ],
   "source": [
    "# Importamos pprint para impresión formateada\n",
    "from pprint import pprint\n",
    "# Importamos tipos de mensajes de LangChain\n",
    "from langchain_core.messages import AIMessage, HumanMessage\n",
    "# Invocamos el LLM con una pregunta sobre noticias de IA\n",
    "# El modelo decidirá automáticamente qué herramienta usar (en este caso, Tavily)\n",
    "llm_with_tools.invoke([HumanMessage(content=f\"¿Cuáles son las noticias recientes de IA?\")])"
   ]
  },
  {
   "cell_type": "code",
   "execution_count": 14,
   "metadata": {},
   "outputs": [
    {
     "data": {
      "text/plain": [
       "[{'name': 'tavily_search_results_json',\n",
       "  'args': {'query': 'noticias recientes de IA'},\n",
       "  'id': 'xqfbzvgz1',\n",
       "  'type': 'tool_call'}]"
      ]
     },
     "execution_count": 14,
     "metadata": {},
     "output_type": "execute_result"
    }
   ],
   "source": [
    "# Accedemos a las llamadas de herramientas que el modelo decidió hacer\n",
    "# Veremos que eligió usar tavily_search_results_json para buscar noticias recientes\n",
    "llm_with_tools.invoke([HumanMessage(content=f\"¿Cuáles son las noticias recientes de IA?\")]).tool_calls"
   ]
  },
  {
   "cell_type": "code",
   "execution_count": 15,
   "metadata": {},
   "outputs": [],
   "source": [
    "## Esquema de Estado\n",
    "# Importamos TypedDict para definir la estructura del estado\n",
    "from typing_extensions import TypedDict\n",
    "# Importamos AnyMessage que puede ser cualquier tipo de mensaje\n",
    "from langchain_core.messages import AnyMessage\n",
    "# Importamos Annotated para agregar metadatos a los tipos\n",
    "from typing import Annotated\n",
    "# Importamos add_messages para agregar mensajes en lugar de sobrescribirlos\n",
    "from langgraph.graph.message import add_messages\n",
    "# Definimos el esquema de estado con messages anotado con add_messages\n",
    "class State(TypedDict):\n",
    "    messages:Annotated[list[AnyMessage],add_messages]"
   ]
  },
  {
   "cell_type": "code",
   "execution_count": 16,
   "metadata": {},
   "outputs": [
    {
     "data": {
      "image/png": "[encoded data removed]",
      "text/plain": [
       "<IPython.core.display.Image object>"
      ]
     },
     "metadata": {},
     "output_type": "display_data"
    }
   ],
   "source": [
    "### Chatbot Completo Con LangGraph\n",
    "# Importamos Image y display para visualizar el grafo\n",
    "from IPython.display import Image, display\n",
    "# Importamos componentes de LangGraph\n",
    "from langgraph.graph import StateGraph, START, END\n",
    "# Importamos ToolNode para ejecutar herramientas\n",
    "from langgraph.prebuilt import ToolNode\n",
    "# Importamos tools_condition para enrutamiento condicional\n",
    "from langgraph.prebuilt import tools_condition\n",
    "\n",
    "### Definición del nodo\n",
    "# Definimos la función que llama al LLM con herramientas\n",
    "def tool_calling_llm(state:State):\n",
    "    # Invocamos el LLM con los mensajes del estado\n",
    "    # El LLM decidirá si necesita llamar a alguna herramienta\n",
    "    return {\"messages\":[llm_with_tools.invoke(state[\"messages\"])]}\n",
    "\n",
    "# Construimos el grafo\n",
    "builder = StateGraph(State)\n",
    "# Agregamos el nodo que llama al LLM con herramientas\n",
    "builder.add_node(\"tool_calling_llm\", tool_calling_llm)\n",
    "# Agregamos el nodo que ejecuta las herramientas (arxiv, wiki, tavily)\n",
    "builder.add_node(\"tools\", ToolNode(tools))\n",
    "\n",
    "# Conectamos START al nodo tool_calling_llm\n",
    "builder.add_edge(START, \"tool_calling_llm\")\n",
    "# Agregamos aristas condicionales desde tool_calling_llm\n",
    "builder.add_conditional_edges(\n",
    "    \"tool_calling_llm\",\n",
    "    # Si el último mensaje del asistente es una llamada a herramienta -> enruta a tools\n",
    "    # Si el último mensaje del asistente NO es una llamada a herramienta -> enruta a END\n",
    "    tools_condition,\n",
    ")\n",
    "# Conectamos tools a END después de ejecutar la herramienta\n",
    "builder.add_edge(\"tools\", END)\n",
    "\n",
    "# Compilamos el grafo\n",
    "graph = builder.compile()\n",
    "\n",
    "# Visualizamos el grafo\n",
    "display(Image(graph.get_graph().draw_mermaid_png()))\n"
   ]
  },
  {
   "cell_type": "code",
   "execution_count": 17,
   "metadata": {},
   "outputs": [
    {
     "name": "stdout",
     "output_type": "stream",
     "text": [
      "================================\u001b[1m Human Message \u001b[0m=================================\n",
      "\n",
      "1706.03762\n",
      "==================================\u001b[1m Ai Message \u001b[0m==================================\n",
      "Tool Calls:\n",
      "  arxiv (hzcr78tbz)\n",
      " Call ID: hzcr78tbz\n",
      "  Args:\n",
      "    query: 1706.03762\n",
      "=================================\u001b[1m Tool Message \u001b[0m=================================\n",
      "Name: arxiv\n",
      "\n",
      "Published: 2023-08-02\n",
      "Title: Attention Is All You Need\n",
      "Authors: Ashish Vaswani, Noam Shazeer, Niki Parmar, Jakob Uszkoreit, Llion Jones, Aidan N. Gomez, Lukasz Kaiser, Illia Polosukhin\n",
      "Summary: The dominant sequence transduction models are based on complex recurrent or\n",
      "convolutional neural networks in an encoder-decoder configuration. The best\n",
      "performing models also connect the encoder and decoder through an attention\n",
      "mechanism. We propose a new simple network architecture, the Transformer, base\n"
     ]
    }
   ],
   "source": [
    "# Invocamos el grafo con un número de paper de Arxiv (1706.03762 = \"Attention is All You Need\")\n",
    "# El LLM detectará que debe usar la herramienta arxiv para buscar este paper\n",
    "messages=graph.invoke({\"messages\":HumanMessage(content=\"1706.03762\")})\n",
    "# Iteramos sobre todos los mensajes y los imprimimos\n",
    "for m in messages['messages']:\n",
    "    m.pretty_print()"
   ]
  },
  {
   "cell_type": "code",
   "execution_count": 18,
   "metadata": {},
   "outputs": [
    {
     "name": "stdout",
     "output_type": "stream",
     "text": [
      "================================\u001b[1m Human Message \u001b[0m=================================\n",
      "\n",
      "Proporcióname las 10 noticias más recientes de IA del 3 de marzo de 2025\n",
      "==================================\u001b[1m Ai Message \u001b[0m==================================\n",
      "Tool Calls:\n",
      "  tavily_search_results_json (agmc552ng)\n",
      " Call ID: agmc552ng\n",
      "  Args:\n",
      "    query: IA noticias 3 marzo 2025\n",
      "=================================\u001b[1m Tool Message \u001b[0m=================================\n",
      "Name: tavily_search_results_json\n",
      "\n",
      "[{\"title\": \"¿Cómo podemos llevar la IA al límite de lo posible?\", \"url\": \"https://es.weforum.org/stories/2025/03/how-can-we-take-ai-to-the-edge-of-possibility/\", \"content\": \"Tecnologías emergentes\\n\\n# ¿Cómo podemos llevar la IA al límite de lo posible?\\n\\nLa IA sigue estando subutilizada: Cumbre de Acción sobre Inteligencia Artificial en París, 2025.Image: REUTERS/Aurelien Morissard\\n\\n##### Cathy Li\\n\\nHead, Centre for AI Excellence; Member of the Executive Committee, World Economic Forum\\n\\n##### Andrew Caruana Galizia\\n\\nHead of Europe and Eurasia, Member of the Executive Committee, World Economic Forum [...] En esencia, los esfuerzos actuales se centran en soluciones a pequeña escala en lugar de objetivos ambiciosos. Por eso debemos aprender a adoptar, democratizar y utilizar la IA.\\n\\nDescubre\\n\\n'Los sectores económicos en la era inteligente' en Davos 2025\\n\\n¿De qué modo los directivos de las empresas pueden alcanzar un equilibrio entre los objetivos a corto plazo y los imperativos a largo plazo en la transformación de sus sectores? [...] La Reunión Anual 2025 congrega a líderes mundiales para abordar los principales retos globales y regionales. Responder a las crisis geopolíticas, impulsar el crecimiento para mejorar el nivel de vida y dirigir una transición energética justa e inclusiva son algunos de esos retos. Los sectores económicos en la era inteligente es uno de los temas principales de la Reunión Anual 2025.\", \"score\": 0.70823324}, {\"title\": \"Inteligencia Artificial: Últimas noticias, fotos y videos - WIRED\", \"url\": \"https://es.wired.com/tag/inteligencia-artificial\", \"content\": \"### El futuro del turismo en México: la visión de Airbnb en WIRED Summit 2025\\n\\nLa hospitalidad en México está a punto de cambiar gracias a uno de los eventos más importantes a nivel mundial.\\n\\nSoftware y Cómputo\\n\\n### Los chatbots juegan con tus emociones para que sigas hablando con ellos\\n\\nUn estudio de la Harvard Business School muestra que varios compañeros de IA utilizan diversos trucos para evitar que una conversación termine.\\n\\nSoftware y Cómputo [...] ### Sora, la app de video de OpenAI, te permite crear deepfakes de ti mismo\\n\\nLa última aplicación de OpenAI anima a los usuarios a generar un avatar digital personal y a desplazarse por videos generados por la IA sobre sí mismos y sus amigos.\\n\\nStartup y Cultura Tecnológica\\n\\n### Mira Murati, la líder que dejó OpenAI para seguir su camino, presenta su primer producto [...] ### OpenAI lanza la función que permite usar apps como Spotify desde ChatGPT\\n\\nOpenAI señala que la primera vez que se utilice una aplicación dentro de ChatGPT, el sistema pedirá al usuario crear una cuenta y otorgar los permisos correspondientes de privacidad y uso de datos.\\n\\nSeguridad\\n\\n### Los humanos son más deshonestos cuando delegan sus decisiones a la IA, según estudio\", \"score\": 0.61307496}, {\"title\": \"Google I/O 2025: de la investigación a la realidad\", \"url\": \"https://blog.google/intl/es-es/noticias-compania/google-io-2025-de-la-investigacion-a-la-realidad/\", \"content\": \"Para quienes quieren una experiencia de búsqueda íntegramente de IA, presentamos el nuevo Modo IA. Es una reinvención total de la Búsqueda. Gracias a un razonamiento más avanzado, puedes hacer preguntas más largas y complejas en el Modo IA. De hecho, los primeros usuarios que la han probado han hecho consultas que son entre dos y tres veces más largas que las búsquedas tradicionales, y puedes ir más allá con las preguntas de seguimiento. Todo esto está disponible en una nueva pestaña de la [...] La oportunidad que ofrece la IA no podría ser mayor. Que sus ventajas lleguen al mayor número de personas posible dependerá de esta ola de desarrolladores, creadores de tecnología y catalizadores de innovación. También resulta especialmente inspirador pensar que la investigación en la que estamos trabajando hoy se convertirá en los cimientos de la realidad del mañana, desde la robótica a la computación cuántica, AlphaFold y Waymo. [...] La he estado usando mucho y ha cambiado por completo mi forma de usar la Búsqueda. Y me alegra anunciar que el Modo IA estará disponible para todos los usuarios de EE. UU. a partir de hoy. Con nuestros últimos modelos de Gemini, nuestras respuestas de IA tienen la calidad y la precisión que ya esperas de la Búsqueda, y son las más rápidas del sector. Y, a partir de esta semana, Gemini 2.5 también estará disponible en la Búsqueda en EE.UU..\", \"score\": 0.55883324}, {\"title\": \"IA | \\\"Un reto de ingeniería extremo\\\": la extraordinaria inversión de ...\", \"url\": \"https://www.bbc.com/mundo/articles/cp3v9gqw72no\", \"content\": \"### Por qué los enormes centros de datos que permiten nuestra vida online requieren una enorme cantidad de agua (y el impacto que están generando)\\n ### Cómo tus clics están transformando internet en algo diferente a lo que conocemos\\n ### Cómo China usó a empresas como Apple para superar a EE.UU. y convertirse en líder mundial de la tecnología\\n\\n## Principales noticias [...] Afirmó que la propia IA diseñaría mejores turbinas de gas, paneles solares, turbinas eólicas y energía de fusión para producir energía sostenible más rentable.\\n\\nMicrosoft está invirtiendo miles de millones de dólares en proyectos energéticos, entre ellos un acuerdo con Constellation Energy para volver a producir energía en la central nuclear cerrada de Three Mile Island, en Pensilvania, EE.UU. [...] Google, propiedad de Alphabet, también está invirtiendo en energía nuclear como parte de una estrategia para funcionar con energía libre de carbono para 2030.\\n\\nPor su parte, Amazon Web Services (AWS), que forma parte del gigante minorista Amazon, afirma que ya es el mayor comprador corporativo de energía renovable del mundo.\", \"score\": 0.37305376}, {\"title\": \"La IA pronto será más inteligente que los humanos\", \"url\": \"https://www.nytimes.com/es/2025/03/18/espanol/negocios/inteligencia-artificial-mas-inteligente-humanos.html\", \"content\": \"Creo que muy pronto —probablemente en 2026 o 2027, pero es posible que tan pronto como este año— una o más empresas de IA afirmarán que han creado una inteligencia artificial general (AGI, por su sigla en inglés), la cual suele definirse algo así como “un sistema de IA de uso general que puede hacer casi todas las tareas cognitivas que puede hacer un humano”. [...] # La IA pronto será más inteligente que los humanos\\n\\nExpertos advierten que muy pronto se creará una inteligencia artificial general, la cual suele definirse como “un sistema de IA de uso general que puede hacer casi todas las tareas cognitivas que puede hacer un humano”.\\n\\nCredit...Shira Inbar\\n\\nSupported by\\n\\nSKIP ADVERTISEMENT\\n\\nPor Kevin Roose\\n\\nKevin Roose es un columnista de tecnología y es uno de los presentadores deHard Fork, un pódcast de tecnología de The New York Times.\\n\\nRead in English [...] En el sentido de las manecillas del reloj, desde arriba a la izquierda: Dario Amodei, director ejecutivo de Anthropic; Sam Altman, director ejecutivo de OpenAI; Demis Hassabis, director ejecutivo de Google DeepMind; y Geoffrey Hinton, investigador pionero en inteligencia artificial.Credit...Massimo Berruti para The New York Times; Haiyun Jiang para The New York Times; Chloe Ellingson para The New York Times; Toby Melville/Reuters\", \"score\": 0.36643156}]\n"
     ]
    }
   ],
   "source": [
    "# Invocamos el grafo con una pregunta sobre noticias recientes de IA\n",
    "# El LLM detectará que debe usar la herramienta tavily para buscar noticias actuales\n",
    "messages=graph.invoke({\"messages\":HumanMessage(content=\"Proporcióname las 10 noticias más recientes de IA del 3 de marzo de 2025\")})\n",
    "# Iteramos sobre todos los mensajes (pregunta, llamada a herramienta y resultados)\n",
    "for m in messages['messages']:\n",
    "    m.pretty_print()"
   ]
  },
  {
   "cell_type": "code",
   "execution_count": 19,
   "metadata": {},
   "outputs": [
    {
     "name": "stdout",
     "output_type": "stream",
     "text": [
      "================================\u001b[1m Human Message \u001b[0m=================================\n",
      "\n",
      "¿Qué es machine learning?\n",
      "==================================\u001b[1m Ai Message \u001b[0m==================================\n",
      "Tool Calls:\n",
      "  wikipedia (vprx3fbsy)\n",
      " Call ID: vprx3fbsy\n",
      "  Args:\n",
      "    query: Machine learning\n",
      "=================================\u001b[1m Tool Message \u001b[0m=================================\n",
      "Name: wikipedia\n",
      "\n",
      "Page: Machine learning\n",
      "Summary: Machine learning (ML) is a field of study in artificial intelligence concerned with the development and study of statistical algorithms that can learn from data and generalise to unseen data, and thus perform tasks without explicit instructions. Within a subdiscipline in machine learning, advances in the field of deep learning have allowed neural networks, a class of statistical algorithms, to surpass many previous machine learning approaches in performance.\n",
      "ML fi\n"
     ]
    }
   ],
   "source": [
    "# Invocamos el grafo con una pregunta sobre machine learning\n",
    "# El LLM detectará que debe usar la herramienta wikipedia para obtener información enciclopédica\n",
    "messages=graph.invoke({\"messages\":HumanMessage(content=\"¿Qué es machine learning?\")})\n",
    "# Iteramos sobre todos los mensajes y los imprimimos\n",
    "for m in messages['messages']:\n",
    "    m.pretty_print()"
   ]
  },
  {
   "cell_type": "code",
   "execution_count": null,
   "metadata": {},
   "outputs": [],
   "source": []
  }
 ],
 "metadata": {
  "kernelspec": {
   "display_name": ".venv",
   "language": "python",
   "name": "python3"
  },
  "language_info": {
   "codemirror_mode": {
    "name": "ipython",
    "version": 3
   },
   "file_extension": ".py",
   "mimetype": "text/x-python",
   "name": "python",
   "nbconvert_exporter": "python",
   "pygments_lexer": "ipython3",
   "version": "3.12.11"
  }
 },
 "nbformat": 4,
 "nbformat_minor": 2
}
