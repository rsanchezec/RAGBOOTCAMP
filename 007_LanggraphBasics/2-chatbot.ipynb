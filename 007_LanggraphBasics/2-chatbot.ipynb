{
 "cells": [
  {
   "cell_type": "markdown",
   "metadata": {},
   "source": [
    "### Implementación de un Chatbot Simple Usando LangGraph"
   ]
  },
  {
   "cell_type": "code",
   "execution_count": 1,
   "metadata": {},
   "outputs": [],
   "source": [
    "# Importamos TypedDict para definir tipos de diccionarios con estructura específica\n",
    "from typing_extensions import TypedDict\n",
    "\n",
    "# Importamos los componentes principales de LangGraph para construir el grafo\n",
    "from langgraph.graph import StateGraph, START, END\n",
    "\n",
    "# Reductores - Funciones que combinan múltiples estados\n",
    "# Importamos Annotated para agregar metadata a los tipos\n",
    "from typing import Annotated\n",
    "# Importamos add_messages, un reducer que maneja listas de mensajes\n",
    "from langgraph.graph.message import add_messages"
   ]
  },
  {
   "cell_type": "code",
   "execution_count": 2,
   "metadata": {},
   "outputs": [],
   "source": [
    "# Definimos la clase State que representa el estado del grafo\n",
    "class State(TypedDict):\n",
    "    # messages es una lista anotada con add_messages\n",
    "    # add_messages permite agregar nuevos mensajes sin sobrescribir los existentes\n",
    "    messages:Annotated[list,add_messages]"
   ]
  },
  {
   "cell_type": "code",
   "execution_count": 4,
   "metadata": {},
   "outputs": [],
   "source": [
    "# Importamos os para trabajar con variables de entorno\n",
    "import os\n",
    "# Importamos load_dotenv para cargar variables desde el archivo .env\n",
    "from dotenv import load_dotenv\n",
    "# Cargamos las variables de entorno del archivo .env\n",
    "load_dotenv()\n",
    "\n",
    "# Configuramos la API key de OpenAI desde las variables de entorno\n",
    "os.environ[\"OPENAI_API_KEY\"]=os.getenv(\"OPENAI_API_KEY\")\n",
    "# Configuramos la API key de GROQ desde las variables de entorno\n",
    "os.environ[\"GROQ_API_KEY\"]=os.getenv(\"GROQ_API_KEY\")\n"
   ]
  },
  {
   "cell_type": "code",
   "execution_count": 5,
   "metadata": {},
   "outputs": [
    {
     "name": "stderr",
     "output_type": "stream",
     "text": [
      "c:\\Udemy\\RAGBootcamp\\.venv\\Lib\\site-packages\\tqdm\\auto.py:21: TqdmWarning: IProgress not found. Please update jupyter and ipywidgets. See https://ipywidgets.readthedocs.io/en/stable/user_install.html\n",
      "  from .autonotebook import tqdm as notebook_tqdm\n"
     ]
    },
    {
     "data": {
      "text/plain": [
       "AIMessage(content='¡Hola! ¿En qué puedo ayudarte hoy?', additional_kwargs={'refusal': None}, response_metadata={'token_usage': {'completion_tokens': 10, 'prompt_tokens': 8, 'total_tokens': 18, 'completion_tokens_details': {'accepted_prediction_tokens': 0, 'audio_tokens': 0, 'reasoning_tokens': 0, 'rejected_prediction_tokens': 0}, 'prompt_tokens_details': {'audio_tokens': 0, 'cached_tokens': 0}}, 'model_name': 'gpt-4o-2024-08-06', 'system_fingerprint': 'fp_cbf1785567', 'id': 'chatcmpl-CPRs8FDahQztXsI4mnOZyonmCocyL', 'service_tier': 'default', 'finish_reason': 'stop', 'logprobs': None}, id='run--d35d64e2-4edd-474c-9776-f5550f7fb471-0', usage_metadata={'input_tokens': 8, 'output_tokens': 10, 'total_tokens': 18, 'input_token_details': {'audio': 0, 'cache_read': 0}, 'output_token_details': {'audio': 0, 'reasoning': 0}})"
      ]
     },
     "execution_count": 5,
     "metadata": {},
     "output_type": "execute_result"
    }
   ],
   "source": [
    "# Importamos ChatOpenAI para usar modelos de chat de OpenAI\n",
    "from langchain_openai import ChatOpenAI\n",
    "# Inicializamos el modelo de lenguaje con GPT-4o\n",
    "llm=ChatOpenAI(model=\"gpt-4o\")\n",
    "# Invocamos el modelo con un mensaje de prueba en español\n",
    "llm.invoke(\"Hola\")"
   ]
  },
  {
   "cell_type": "code",
   "execution_count": null,
   "metadata": {},
   "outputs": [
    {
     "data": {
      "text/plain": [
       "AIMessage(content='Hola Raul, ¡fantástico que te guste el cricket! ¿Alguna vez has jugado a un partido oficial o más bien eres un aficionado? ¿Tienes un equipo o juegas con amigos?', additional_kwargs={}, response_metadata={'token_usage': {'completion_tokens': 47, 'prompt_tokens': 46, 'total_tokens': 93, 'completion_time': 0.09165138, 'prompt_time': 0.002613934, 'queue_time': 0.213711371, 'total_time': 0.094265314}, 'model_name': 'llama-3.1-8b-instant', 'system_fingerprint': 'fp_ab04adca7d', 'service_tier': 'on_demand', 'finish_reason': 'stop', 'logprobs': None}, id='run--bb2fe75b-f0e7-4a7e-960c-9ae5e9aac7cc-0', usage_metadata={'input_tokens': 46, 'output_tokens': 47, 'total_tokens': 93})"
      ]
     },
     "execution_count": 13,
     "metadata": {},
     "output_type": "execute_result"
    }
   ],
   "source": [
    "# Importamos ChatGroq para usar modelos de chat de Groq\n",
    "from langchain_groq import ChatGroq\n",
    "\n",
    "# Inicializamos el modelo de Groq con el modelo llama-3.1-8b-instant\n",
    "llm_groq=ChatGroq(model=\"llama-3.1-8b-instant\")\n",
    "# Invocamos el modelo con un mensaje de presentación en español\n",
    "llm_groq.invoke(\"Hola, soy Raul  y me gusta jugar cricket\")"
   ]
  },
  {
   "cell_type": "markdown",
   "metadata": {},
   "source": [
    "### Comenzaremos Creando los Nodos"
   ]
  },
  {
   "cell_type": "code",
   "execution_count": 14,
   "metadata": {},
   "outputs": [],
   "source": [
    "# Definimos la función superbot que procesa el estado\n",
    "def superbot(state:State):\n",
    "    # Invocamos el modelo de Groq con los mensajes del estado actual\n",
    "    # Retornamos un diccionario con la respuesta del modelo agregada a los mensajes\n",
    "    return {\"messages\":[llm_groq.invoke(state['messages'])]}"
   ]
  },
  {
   "cell_type": "code",
   "execution_count": 15,
   "metadata": {},
   "outputs": [
    {
     "data": {
      "image/png": "[encoded data removed]",
      "text/plain": [
       "<IPython.core.display.Image object>"
      ]
     },
     "metadata": {},
     "output_type": "display_data"
    }
   ],
   "source": [
    "# Creamos el grafo de estado con la clase State definida anteriormente\n",
    "graph=StateGraph(State)\n",
    "\n",
    "# Nodos - Agregamos el nodo \"SuperBot\" que ejecuta la función superbot\n",
    "graph.add_node(\"SuperBot\",superbot)\n",
    "\n",
    "# Aristas - Definimos las conexiones entre nodos\n",
    "# Conectamos el nodo START al nodo SuperBot\n",
    "graph.add_edge(START,\"SuperBot\")\n",
    "# Conectamos el nodo SuperBot al nodo END\n",
    "graph.add_edge(\"SuperBot\",END)\n",
    "\n",
    "# Compilamos el grafo para poder ejecutarlo\n",
    "graph_builder=graph.compile()\n",
    "\n",
    "\n",
    "# Visualización - Mostramos el diagrama del grafo\n",
    "# Importamos Image y display para mostrar imágenes en Jupyter\n",
    "from IPython.display import Image, display\n",
    "# Generamos y mostramos el diagrama del grafo en formato Mermaid PNG\n",
    "display(Image(graph_builder.get_graph().draw_mermaid_png()))"
   ]
  },
  {
   "cell_type": "code",
   "execution_count": 16,
   "metadata": {},
   "outputs": [
    {
     "data": {
      "text/plain": [
       "{'messages': [HumanMessage(content='Hola, me llamo Krish y me gusta el cricket', additional_kwargs={}, response_metadata={}, id='eff956e4-f857-4c9b-b0c8-14046f2ae21c'),\n",
       "  AIMessage(content='Hola Krish. Me alegra saber que te gusta el cricket. ¿Cuál es tu equipo favorito o jugador favorito? El cricket es un deporte fascinante con una rica historia y una gran variedad de estilos de juego. ¿Te gusta seguir partidos internacionales, como la Copa del Mundo o la Liga de Naciones, o prefieres seguir a los equipos de tu país o región?', additional_kwargs={}, response_metadata={'token_usage': {'completion_tokens': 87, 'prompt_tokens': 46, 'total_tokens': 133, 'completion_time': 0.18796716, 'prompt_time': 0.003019172, 'queue_time': 0.392140023, 'total_time': 0.190986332}, 'model_name': 'llama-3.1-8b-instant', 'system_fingerprint': 'fp_33e8adf159', 'service_tier': 'on_demand', 'finish_reason': 'stop', 'logprobs': None}, id='run--9687d3f1-af1b-4e4a-b918-6d4272bcca33-0', usage_metadata={'input_tokens': 46, 'output_tokens': 87, 'total_tokens': 133})]}"
      ]
     },
     "execution_count": 16,
     "metadata": {},
     "output_type": "execute_result"
    }
   ],
   "source": [
    "# Invocación - Ejecutamos el grafo con un mensaje inicial\n",
    "\n",
    "# Invocamos el grafo compilado con un mensaje en español\n",
    "graph_builder.invoke({'messages':\"Hola, me llamo Krish y me gusta el cricket\"})"
   ]
  },
  {
   "cell_type": "markdown",
   "metadata": {},
   "source": [
    "#### Transmitiendo las Respuestas (Streaming)"
   ]
  },
  {
   "cell_type": "code",
   "execution_count": 17,
   "metadata": {},
   "outputs": [
    {
     "name": "stdout",
     "output_type": "stream",
     "text": [
      "{'SuperBot': {'messages': [AIMessage(content='Hola Raul, ¿cómo estás? ¿En qué puedo ayudarte hoy?', additional_kwargs={}, response_metadata={'token_usage': {'completion_tokens': 19, 'prompt_tokens': 42, 'total_tokens': 61, 'completion_time': 0.025405495, 'prompt_time': 0.005943937, 'queue_time': 0.203234645, 'total_time': 0.031349432}, 'model_name': 'llama-3.1-8b-instant', 'system_fingerprint': 'fp_ab04adca7d', 'service_tier': 'on_demand', 'finish_reason': 'stop', 'logprobs': None}, id='run--57e819e6-f8d5-4e71-86bc-be2c965066bf-0', usage_metadata={'input_tokens': 42, 'output_tokens': 19, 'total_tokens': 61})]}}\n"
     ]
    }
   ],
   "source": [
    "# Iteramos sobre los eventos generados por el streaming del grafo\n",
    "# stream() permite recibir las respuestas de manera incremental\n",
    "for event in graph_builder.stream({\"messages\":\"Hola, me llamo Raul\"}):\n",
    "    # Imprimimos cada evento generado durante la ejecución\n",
    "    print(event)"
   ]
  },
  {
   "cell_type": "code",
   "execution_count": null,
   "metadata": {},
   "outputs": [],
   "source": []
  }
 ],
 "metadata": {
  "kernelspec": {
   "display_name": ".venv",
   "language": "python",
   "name": "python3"
  },
  "language_info": {
   "codemirror_mode": {
    "name": "ipython",
    "version": 3
   },
   "file_extension": ".py",
   "mimetype": "text/x-python",
   "name": "python",
   "nbconvert_exporter": "python",
   "pygments_lexer": "ipython3",
   "version": "3.12.11"
  }
 },
 "nbformat": 4,
 "nbformat_minor": 2
}
