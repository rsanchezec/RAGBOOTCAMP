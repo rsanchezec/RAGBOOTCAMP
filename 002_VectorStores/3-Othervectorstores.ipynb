{
 "cells": [
  {
   "cell_type": "markdown",
   "id": "94de5dc2",
   "metadata": {},
   "source": [
    "### InMemoryVectorStore\n",
    "Implementación de almacén de vectores en memoria.\n",
    "\n",
    "Utiliza un diccionario y calcula la similitud del coseno para realizar búsquedas usando numpy."
   ]
  },
  {
   "cell_type": "code",
   "execution_count": 3,
   "id": "95b1337c",
   "metadata": {},
   "outputs": [
    {
     "data": {
      "text/plain": [
       "ChatOpenAI(client=<openai.resources.chat.completions.completions.Completions object at 0x0000018051A0E9F0>, async_client=<openai.resources.chat.completions.completions.AsyncCompletions object at 0x0000018051A54830>, root_client=<openai.OpenAI object at 0x000001802590EB10>, root_async_client=<openai.AsyncOpenAI object at 0x0000018051A0EB10>, model_name='gpt-4o-mini', model_kwargs={}, openai_api_key=SecretStr('**********'), stream_usage=True)"
      ]
     },
     "execution_count": 3,
     "metadata": {},
     "output_type": "execute_result"
    }
   ],
   "source": [
    "# Importar módulo para interactuar con variables de entorno del sistema operativo\n",
    "import os\n",
    "# Importar función para cargar variables de entorno desde un archivo .env\n",
    "from dotenv import load_dotenv\n",
    "# Cargar las variables de entorno desde el archivo .env en el directorio actual\n",
    "load_dotenv()\n",
    "\n",
    "# Establecer la clave API de OpenAI en las variables de entorno del sistema\n",
    "# Esto permite que las librerías de OpenAI accedan a la clave automáticamente\n",
    "os.environ[\"OPENAI_API_KEY\"]=os.getenv(\"OPENAI_API_KEY\")\n",
    "\n",
    "# Importar la función para inicializar modelos de chat desde LangChain\n",
    "from langchain.chat_models import init_chat_model\n",
    "\n",
    "# Inicializar el modelo de chat GPT-4o-mini de OpenAI\n",
    "# Este es un modelo más económico y rápido de la familia GPT-4\n",
    "llm=init_chat_model(\"openai:gpt-4o-mini\")\n",
    "# Mostrar el objeto del modelo inicializado con su configuración\n",
    "llm"
   ]
  },
  {
   "cell_type": "code",
   "execution_count": 4,
   "id": "2df986c0",
   "metadata": {},
   "outputs": [],
   "source": [
    "# Importar la clase de embeddings de OpenAI desde LangChain\n",
    "from langchain_openai import OpenAIEmbeddings\n",
    "\n",
    "# Importar la clase InMemoryVectorStore que almacena vectores en memoria RAM\n",
    "from langchain_core.vectorstores import InMemoryVectorStore\n",
    "\n",
    "# Crear una instancia del almacén de vectores en memoria\n",
    "# Se configura con OpenAIEmbeddings para convertir textos en vectores numéricos\n",
    "# InMemoryVectorStore guardará todos los vectores en la memoria durante la ejecución\n",
    "vector_store=InMemoryVectorStore(embedding=OpenAIEmbeddings())"
   ]
  },
  {
   "cell_type": "code",
   "execution_count": 6,
   "id": "edc31b4b",
   "metadata": {},
   "outputs": [],
   "source": [
    "# Importar la clase Document para crear objetos de documento con contenido y metadatos\n",
    "from langchain_core.documents import Document\n",
    "\n",
    "# Crear el primer documento: Tweet sobre desayuno\n",
    "# page_content: el contenido textual del documento\n",
    "# metadata: información adicional (en este caso, la fuente es un tweet)\n",
    "document_1 = Document(\n",
    "    page_content=\"Desayuné panqueques con chispas de chocolate y huevos revueltos esta mañana.\",\n",
    "    metadata={\"source\": \"tweet\"},\n",
    ")\n",
    "\n",
    "# Crear el segundo documento: Noticia sobre el clima\n",
    "# Fuente: news (noticias)\n",
    "document_2 = Document(\n",
    "    page_content=\"El pronóstico del tiempo para mañana es nublado y cubierto, con una máxima de 62 grados.\",\n",
    "    metadata={\"source\": \"news\"},\n",
    ")\n",
    "\n",
    "# Crear el tercer documento: Tweet sobre un proyecto con LangChain\n",
    "# Fuente: tweet\n",
    "document_3 = Document(\n",
    "    page_content=\"Construyendo un nuevo proyecto emocionante con LangChain - ¡ven a verlo!\",\n",
    "    metadata={\"source\": \"tweet\"},\n",
    ")\n",
    "\n",
    "# Crear el cuarto documento: Noticia sobre un robo bancario\n",
    "# Fuente: news (noticias)\n",
    "document_4 = Document(\n",
    "    page_content=\"Los ladrones asaltaron el banco de la ciudad y robaron 1 millón de dólares en efectivo.\",\n",
    "    metadata={\"source\": \"news\"},\n",
    ")\n",
    "\n",
    "# Crear el quinto documento: Tweet sobre una película\n",
    "# Fuente: tweet\n",
    "document_5 = Document(\n",
    "    page_content=\"¡Guau! Esa fue una película increíble. No puedo esperar para verla de nuevo.\",\n",
    "    metadata={\"source\": \"tweet\"},\n",
    ")\n",
    "\n",
    "# Crear el sexto documento: Artículo web sobre el iPhone\n",
    "# Fuente: website (sitio web)\n",
    "document_6 = Document(\n",
    "    page_content=\"¿Vale la pena el precio del nuevo iPhone? Lee esta reseña para descubrirlo.\",\n",
    "    metadata={\"source\": \"website\"},\n",
    ")\n",
    "\n",
    "# Crear el séptimo documento: Artículo web sobre futbolistas\n",
    "# Fuente: website (sitio web)\n",
    "document_7 = Document(\n",
    "    page_content=\"Los 10 mejores jugadores de fútbol del mundo en este momento.\",\n",
    "    metadata={\"source\": \"website\"},\n",
    ")\n",
    "\n",
    "# Crear el octavo documento: Tweet sobre LangGraph\n",
    "# Fuente: tweet\n",
    "document_8 = Document(\n",
    "    page_content=\"¡LangGraph es el mejor framework para construir aplicaciones con estado y agentes!\",\n",
    "    metadata={\"source\": \"tweet\"},\n",
    ")\n",
    "\n",
    "# Crear el noveno documento: Noticia sobre la bolsa de valores\n",
    "# Fuente: news (noticias)\n",
    "document_9 = Document(\n",
    "    page_content=\"El mercado de valores cayó 500 puntos hoy debido a temores de una recesión.\",\n",
    "    metadata={\"source\": \"news\"},\n",
    ")\n",
    "\n",
    "# Crear el décimo documento: Tweet con sentimiento negativo\n",
    "# Fuente: tweet\n",
    "document_10 = Document(\n",
    "    page_content=\"Tengo el mal presentimiento de que voy a ser eliminado :(\",\n",
    "    metadata={\"source\": \"tweet\"},\n",
    ")\n",
    "\n",
    "# Crear una lista con todos los documentos para facilitar su procesamiento\n",
    "# Esta lista se usará para agregar todos los documentos al vector store\n",
    "documents = [\n",
    "    document_1,\n",
    "    document_2,\n",
    "    document_3,\n",
    "    document_4,\n",
    "    document_5,\n",
    "    document_6,\n",
    "    document_7,\n",
    "    document_8,\n",
    "    document_9,\n",
    "    document_10,\n",
    "]"
   ]
  },
  {
   "cell_type": "code",
   "execution_count": 7,
   "id": "554addb1",
   "metadata": {},
   "outputs": [
    {
     "data": {
      "text/plain": [
       "[Document(metadata={'source': 'tweet'}, page_content='Desayuné panqueques con chispas de chocolate y huevos revueltos esta mañana.'),\n",
       " Document(metadata={'source': 'news'}, page_content='El pronóstico del tiempo para mañana es nublado y cubierto, con una máxima de 62 grados.'),\n",
       " Document(metadata={'source': 'tweet'}, page_content='Construyendo un nuevo proyecto emocionante con LangChain - ¡ven a verlo!'),\n",
       " Document(metadata={'source': 'news'}, page_content='Los ladrones asaltaron el banco de la ciudad y robaron 1 millón de dólares en efectivo.'),\n",
       " Document(metadata={'source': 'tweet'}, page_content='¡Guau! Esa fue una película increíble. No puedo esperar para verla de nuevo.'),\n",
       " Document(metadata={'source': 'website'}, page_content='¿Vale la pena el precio del nuevo iPhone? Lee esta reseña para descubrirlo.'),\n",
       " Document(metadata={'source': 'website'}, page_content='Los 10 mejores jugadores de fútbol del mundo en este momento.'),\n",
       " Document(metadata={'source': 'tweet'}, page_content='¡LangGraph es el mejor framework para construir aplicaciones con estado y agentes!'),\n",
       " Document(metadata={'source': 'news'}, page_content='El mercado de valores cayó 500 puntos hoy debido a temores de una recesión.'),\n",
       " Document(metadata={'source': 'tweet'}, page_content='Tengo el mal presentimiento de que voy a ser eliminado :(')]"
      ]
     },
     "execution_count": 7,
     "metadata": {},
     "output_type": "execute_result"
    }
   ],
   "source": [
    "# Mostrar la lista completa de documentos\n",
    "# Esto permite verificar que todos los documentos se crearon correctamente\n",
    "documents"
   ]
  },
  {
   "cell_type": "code",
   "execution_count": 8,
   "id": "2a17d0ae",
   "metadata": {},
   "outputs": [
    {
     "data": {
      "text/plain": [
       "['953c9689-451a-4386-9485-67d9fd11d500',\n",
       " '3f11cdda-a94c-4278-a382-3ad81efb7030',\n",
       " '1a2d22f9-6a44-4c8c-b190-1da310370c4f',\n",
       " '6a640ef1-b3c8-4fbf-8984-2363c7146855',\n",
       " '22e14d0f-6cb8-402c-b18c-1e85f8523d85',\n",
       " 'fcc04198-4b58-4758-b061-9579c60d33cd',\n",
       " '6a33b0c8-1977-45bd-9ba8-53cf558f8178',\n",
       " 'bcae4ce2-8793-4893-80e5-663cdaba4b88',\n",
       " '349e7a52-99a5-4219-b1a8-8b79b2e312f0',\n",
       " '7370e07d-a9f1-4833-89a9-80e55455933b']"
      ]
     },
     "execution_count": 8,
     "metadata": {},
     "output_type": "execute_result"
    }
   ],
   "source": [
    "# Agregar todos los documentos al almacén de vectores\n",
    "# El método add_documents convierte cada documento en un vector usando OpenAI embeddings\n",
    "# Luego almacena estos vectores en memoria para realizar búsquedas de similaridad\n",
    "# Retorna una lista de IDs únicos generados automáticamente para cada documento\n",
    "vector_store.add_documents(documents=documents)"
   ]
  },
  {
   "cell_type": "code",
   "execution_count": 9,
   "id": "72b32938",
   "metadata": {},
   "outputs": [
    {
     "data": {
      "text/plain": [
       "[Document(id='3f11cdda-a94c-4278-a382-3ad81efb7030', metadata={'source': 'news'}, page_content='El pronóstico del tiempo para mañana es nublado y cubierto, con una máxima de 62 grados.'),\n",
       " Document(id='7370e07d-a9f1-4833-89a9-80e55455933b', metadata={'source': 'tweet'}, page_content='Tengo el mal presentimiento de que voy a ser eliminado :('),\n",
       " Document(id='953c9689-451a-4386-9485-67d9fd11d500', metadata={'source': 'tweet'}, page_content='Desayuné panqueques con chispas de chocolate y huevos revueltos esta mañana.'),\n",
       " Document(id='349e7a52-99a5-4219-b1a8-8b79b2e312f0', metadata={'source': 'news'}, page_content='El mercado de valores cayó 500 puntos hoy debido a temores de una recesión.')]"
      ]
     },
     "execution_count": 9,
     "metadata": {},
     "output_type": "execute_result"
    }
   ],
   "source": [
    "# Realizar una búsqueda de similaridad en el vector store\n",
    "# La consulta \"cómo está el pronóstico del tiempo\" se convierte en un vector\n",
    "# Luego se comparan todos los vectores almacenados usando similitud del coseno\n",
    "# Por defecto, retorna los 4 documentos más similares a la consulta\n",
    "vector_store.similarity_search(\"cómo está el pronóstico del tiempo\")"
   ]
  },
  {
   "cell_type": "code",
   "execution_count": 10,
   "id": "f0420c1a",
   "metadata": {},
   "outputs": [
    {
     "data": {
      "text/plain": [
       "[Document(id='3f11cdda-a94c-4278-a382-3ad81efb7030', metadata={'source': 'news'}, page_content='El pronóstico del tiempo para mañana es nublado y cubierto, con una máxima de 62 grados.'),\n",
       " Document(id='7370e07d-a9f1-4833-89a9-80e55455933b', metadata={'source': 'tweet'}, page_content='Tengo el mal presentimiento de que voy a ser eliminado :(')]"
      ]
     },
     "execution_count": 10,
     "metadata": {},
     "output_type": "execute_result"
    }
   ],
   "source": [
    "# Realizar una búsqueda de similaridad limitando los resultados\n",
    "# El parámetro k=2 indica que solo queremos los 2 documentos más similares\n",
    "# Esto es útil cuando solo necesitamos los resultados más relevantes\n",
    "vector_store.similarity_search(\"cómo está el pronóstico del tiempo\",k=2)"
   ]
  },
  {
   "cell_type": "code",
   "execution_count": 11,
   "id": "6fce3d3e",
   "metadata": {},
   "outputs": [
    {
     "data": {
      "text/plain": [
       "VectorStoreRetriever(tags=['InMemoryVectorStore', 'OpenAIEmbeddings'], vectorstore=<langchain_core.vectorstores.in_memory.InMemoryVectorStore object at 0x0000018051A560F0>, search_kwargs={'k': 2})"
      ]
     },
     "execution_count": 11,
     "metadata": {},
     "output_type": "execute_result"
    }
   ],
   "source": [
    "### Convertir el vectorstore a retriever\n",
    "\n",
    "# Convertir el vector store en un retriever (recuperador)\n",
    "# Un retriever es una interfaz estándar en LangChain para recuperar documentos\n",
    "# El parámetro search_kwargs permite configurar opciones de búsqueda\n",
    "# En este caso, k=2 indica que el retriever retornará los 2 documentos más similares\n",
    "retriever=vector_store.as_retriever(search_kwargs={\"k\":2})\n",
    "\n",
    "# Mostrar el objeto retriever con su configuración\n",
    "retriever"
   ]
  },
  {
   "cell_type": "code",
   "execution_count": 12,
   "id": "dc115fb1",
   "metadata": {},
   "outputs": [
    {
     "data": {
      "text/plain": [
       "[Document(id='3f11cdda-a94c-4278-a382-3ad81efb7030', metadata={'source': 'news'}, page_content='El pronóstico del tiempo para mañana es nublado y cubierto, con una máxima de 62 grados.'),\n",
       " Document(id='7370e07d-a9f1-4833-89a9-80e55455933b', metadata={'source': 'tweet'}, page_content='Tengo el mal presentimiento de que voy a ser eliminado :(')]"
      ]
     },
     "execution_count": 12,
     "metadata": {},
     "output_type": "execute_result"
    }
   ],
   "source": [
    "## Invocar el retriever\n",
    "\n",
    "# Usar el método invoke para recuperar documentos similares a la consulta\n",
    "# invoke es el método estándar en LangChain para ejecutar componentes de una cadena\n",
    "# En este caso, busca y retorna los 2 documentos más similares a la consulta sobre el clima\n",
    "# El retriever realiza automáticamente la conversión de la consulta a vector y la búsqueda\n",
    "retriever.invoke(\"cómo está el pronóstico del tiempo\")"
   ]
  },
  {
   "cell_type": "code",
   "execution_count": null,
   "id": "2bda8f23",
   "metadata": {},
   "outputs": [],
   "source": []
  }
 ],
 "metadata": {
  "kernelspec": {
   "display_name": ".venv",
   "language": "python",
   "name": "python3"
  },
  "language_info": {
   "codemirror_mode": {
    "name": "ipython",
    "version": 3
   },
   "file_extension": ".py",
   "mimetype": "text/x-python",
   "name": "python",
   "nbconvert_exporter": "python",
   "pygments_lexer": "ipython3",
   "version": "3.12.11"
  }
 },
 "nbformat": 4,
 "nbformat_minor": 5
}
