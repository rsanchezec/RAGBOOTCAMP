{
 "cells": [
  {
   "cell_type": "markdown",
   "id": "e222d7e9",
   "metadata": {},
   "source": [
    "### Construcción de un Sistema RAG con LangChain y ChromaDB\n",
    "#### Introducción\n",
    "La Generación Aumentada por Recuperación (RAG) es una técnica poderosa que combina las capacidades de los modelos de lenguaje grandes con la recuperación de conocimiento externo. Este cuaderno te guiará a través de la construcción de un sistema RAG completo usando:\n",
    "\n",
    "- LangChain: Un framework para desarrollar aplicaciones impulsadas por modelos de lenguaje\n",
    "- ChromaDB: Una base de datos vectorial de código abierto para almacenar y recuperar embeddings\n",
    "- OpenAI: Para embeddings y modelo de lenguaje (puedes sustituir con otros proveedores)"
   ]
  },
  {
   "cell_type": "code",
   "execution_count": 16,
   "id": "bbb9cb80",
   "metadata": {},
   "outputs": [
    {
     "data": {
      "text/plain": [
       "True"
      ]
     },
     "execution_count": 16,
     "metadata": {},
     "output_type": "execute_result"
    }
   ],
   "source": [
    "# Cargar variables de entorno para API keys\n",
    "import os\n",
    "from dotenv import load_dotenv\n",
    "load_dotenv()  # Carga las variables de entorno desde el archivo .env"
   ]
  },
  {
   "cell_type": "code",
   "execution_count": 17,
   "id": "41ec2e78",
   "metadata": {},
   "outputs": [],
   "source": [
    "# Importaciones de langchain para procesamiento de documentos\n",
    "from langchain.text_splitter import RecursiveCharacterTextSplitter  # Para dividir documentos en chunks\n",
    "from langchain_community.document_loaders import TextLoader  # Para cargar documentos de texto\n",
    "from langchain_openai import OpenAIEmbeddings  # Para generar embeddings con OpenAI\n",
    "from langchain.schema import Document  # Clase base para documentos\n",
    "\n",
    "# Importaciones de vectorstores (almacenes vectoriales)\n",
    "from langchain_community.vectorstores import Chroma  # Base de datos vectorial ChromaDB\n",
    "\n",
    "# Importaciones de utilidades\n",
    "import numpy as np  # Para operaciones matemáticas con arrays\n",
    "from typing import List  # Para anotaciones de tipos"
   ]
  },
  {
   "cell_type": "code",
   "execution_count": 18,
   "id": "d4d97e0b",
   "metadata": {},
   "outputs": [
    {
     "name": "stdout",
     "output_type": "stream",
     "text": [
      "\n",
      "Arquitectura RAG (Generación Aumentada por Recuperación):\n",
      "\n",
      "1. Carga de Documentos: Cargar documentos desde varias fuentes\n",
      "2. División de Documentos: Dividir documentos en chunks más pequeños\n",
      "3. Generación de Embeddings: Convertir chunks en representaciones vectoriales\n",
      "4. Almacenamiento Vectorial: Almacenar embeddings en ChromaDB\n",
      "5. Procesamiento de Consultas: Convertir consulta del usuario a embedding\n",
      "6. Búsqueda por Similitud: Encontrar chunks relevantes del almacén vectorial\n",
      "7. Aumento de Contexto: Combinar chunks recuperados con la consulta\n",
      "8. Generación de Respuesta: El LLM genera respuesta usando el contexto\n",
      "\n",
      "Beneficios de RAG:\n",
      "- Reduce las alucinaciones\n",
      "- Proporciona información actualizada\n",
      "- Permite citar fuentes\n",
      "- Funciona con conocimiento específico del dominio\n",
      "\n"
     ]
    }
   ],
   "source": [
    "# Resumen de la Arquitectura RAG\n",
    "print(\"\"\"\n",
    "Arquitectura RAG (Generación Aumentada por Recuperación):\n",
    "\n",
    "1. Carga de Documentos: Cargar documentos desde varias fuentes\n",
    "2. División de Documentos: Dividir documentos en chunks más pequeños\n",
    "3. Generación de Embeddings: Convertir chunks en representaciones vectoriales\n",
    "4. Almacenamiento Vectorial: Almacenar embeddings en ChromaDB\n",
    "5. Procesamiento de Consultas: Convertir consulta del usuario a embedding\n",
    "6. Búsqueda por Similitud: Encontrar chunks relevantes del almacén vectorial\n",
    "7. Aumento de Contexto: Combinar chunks recuperados con la consulta\n",
    "8. Generación de Respuesta: El LLM genera respuesta usando el contexto\n",
    "\n",
    "Beneficios de RAG:\n",
    "- Reduce las alucinaciones\n",
    "- Proporciona información actualizada\n",
    "- Permite citar fuentes\n",
    "- Funciona con conocimiento específico del dominio\n",
    "\"\"\")"
   ]
  },
  {
   "cell_type": "markdown",
   "id": "eeef678d",
   "metadata": {},
   "source": [
    "### 1. Datos de Muestra"
   ]
  },
  {
   "cell_type": "code",
   "execution_count": 19,
   "id": "2248bcd4",
   "metadata": {},
   "outputs": [
    {
     "data": {
      "text/plain": [
       "['\\n    Fundamentos del Aprendizaje Automático (Machine Learning)\\n\\n    El aprendizaje automático es un subconjunto de la inteligencia artificial que permite \\n    a los sistemas aprender y mejorar a partir de la experiencia sin ser programados \\n    explícitamente. Hay tres tipos principales de aprendizaje automático: aprendizaje \\n    supervisado, aprendizaje no supervisado y aprendizaje por refuerzo. El aprendizaje \\n    supervisado utiliza datos etiquetados para entrenar modelos, mientras que el \\n    aprendizaje no supervisado encuentra patrones en datos no etiquetados. El aprendizaje \\n    por refuerzo aprende a través de la interacción con un entorno utilizando recompensas \\n    y penalizaciones.\\n    ',\n",
       " '\\n    Aprendizaje Profundo y Redes Neuronales\\n\\n    El aprendizaje profundo es un subconjunto del aprendizaje automático basado en redes \\n    neuronales artificiales. Estas redes están inspiradas en el cerebro humano y consisten \\n    en capas de nodos interconectados. El aprendizaje profundo ha revolucionado campos \\n    como la visión por computadora, el procesamiento de lenguaje natural y el reconocimiento \\n    de voz. Las Redes Neuronales Convolucionales (CNN) son particularmente efectivas para \\n    el procesamiento de imágenes, mientras que las Redes Neuronales Recurrentes (RNN) y \\n    los Transformers destacan en el procesamiento de datos secuenciales.\\n    ',\n",
       " '\\n    Procesamiento de Lenguaje Natural (PLN)\\n\\n    El PLN es un campo de la IA que se enfoca en la interacción entre computadoras y \\n    lenguaje humano. Las tareas clave en PLN incluyen clasificación de texto, \\n    reconocimiento de entidades nombradas, análisis de sentimientos, traducción automática \\n    y respuesta a preguntas. El PLN moderno depende en gran medida de arquitecturas \\n    transformer como BERT, GPT y T5. Estos modelos utilizan mecanismos de atención para \\n    entender el contexto y las relaciones entre palabras en el texto.\\n    ']"
      ]
     },
     "execution_count": 19,
     "metadata": {},
     "output_type": "execute_result"
    }
   ],
   "source": [
    "# Crear documentos de muestra con información sobre Machine Learning\n",
    "sample_docs = [\n",
    "    \"\"\"\n",
    "    Fundamentos del Aprendizaje Automático (Machine Learning)\n",
    "    \n",
    "    El aprendizaje automático es un subconjunto de la inteligencia artificial que permite \n",
    "    a los sistemas aprender y mejorar a partir de la experiencia sin ser programados \n",
    "    explícitamente. Hay tres tipos principales de aprendizaje automático: aprendizaje \n",
    "    supervisado, aprendizaje no supervisado y aprendizaje por refuerzo. El aprendizaje \n",
    "    supervisado utiliza datos etiquetados para entrenar modelos, mientras que el \n",
    "    aprendizaje no supervisado encuentra patrones en datos no etiquetados. El aprendizaje \n",
    "    por refuerzo aprende a través de la interacción con un entorno utilizando recompensas \n",
    "    y penalizaciones.\n",
    "    \"\"\",\n",
    "    \n",
    "    \"\"\"\n",
    "    Aprendizaje Profundo y Redes Neuronales\n",
    "    \n",
    "    El aprendizaje profundo es un subconjunto del aprendizaje automático basado en redes \n",
    "    neuronales artificiales. Estas redes están inspiradas en el cerebro humano y consisten \n",
    "    en capas de nodos interconectados. El aprendizaje profundo ha revolucionado campos \n",
    "    como la visión por computadora, el procesamiento de lenguaje natural y el reconocimiento \n",
    "    de voz. Las Redes Neuronales Convolucionales (CNN) son particularmente efectivas para \n",
    "    el procesamiento de imágenes, mientras que las Redes Neuronales Recurrentes (RNN) y \n",
    "    los Transformers destacan en el procesamiento de datos secuenciales.\n",
    "    \"\"\",\n",
    "    \n",
    "    \"\"\"\n",
    "    Procesamiento de Lenguaje Natural (PLN)\n",
    "    \n",
    "    El PLN es un campo de la IA que se enfoca en la interacción entre computadoras y \n",
    "    lenguaje humano. Las tareas clave en PLN incluyen clasificación de texto, \n",
    "    reconocimiento de entidades nombradas, análisis de sentimientos, traducción automática \n",
    "    y respuesta a preguntas. El PLN moderno depende en gran medida de arquitecturas \n",
    "    transformer como BERT, GPT y T5. Estos modelos utilizan mecanismos de atención para \n",
    "    entender el contexto y las relaciones entre palabras en el texto.\n",
    "    \"\"\"\n",
    "]\n",
    "\n",
    "sample_docs  # Mostrar los documentos creados"
   ]
  },
  {
   "cell_type": "code",
   "execution_count": 23,
   "id": "b308eee0",
   "metadata": {},
   "outputs": [
    {
     "name": "stdout",
     "output_type": "stream",
     "text": [
      "Documentos de muestra creados en: C:\\Users\\raule\\AppData\\Local\\Temp\\tmp7yg3sy23\n"
     ]
    }
   ],
   "source": [
    "# Guardar documentos de muestra en archivos temporales para poder cargarlos después\n",
    "import tempfile\n",
    "temp_dir = tempfile.mkdtemp()  # Crear directorio temporal\n",
    "\n",
    "# Escribir cada documento en un archivo separado\n",
    "for i, doc in enumerate(sample_docs):\n",
    "    with open(f\"{temp_dir}/doc_{i}.txt\", \"w\", encoding='utf-8') as f:\n",
    "        f.write(doc)\n",
    "\n",
    "print(f\"Documentos de muestra creados en: {temp_dir}\")"
   ]
  },
  {
   "cell_type": "code",
   "execution_count": 24,
   "id": "0dac0590",
   "metadata": {},
   "outputs": [],
   "source": [
    "# Alternativa: guardar documentos en el directorio actual (opcional)\n",
    "import tempfile\n",
    "#temp_dir = tempfile.mkdtemp()\n",
    "\n",
    "# Escribir documentos en archivos individuales\n",
    "for i, doc in enumerate(sample_docs):\n",
    "    with open(f\"doc_{i}.txt\", \"w\", encoding='utf-8') as f:\n",
    "        f.write(doc)"
   ]
  },
  {
   "cell_type": "markdown",
   "id": "ada15124",
   "metadata": {},
   "source": [
    "### 2. Carga de Documentos"
   ]
  },
  {
   "cell_type": "code",
   "execution_count": 25,
   "id": "68b48ba3",
   "metadata": {},
   "outputs": [
    {
     "name": "stdout",
     "output_type": "stream",
     "text": [
      "Cargados 3 documentos\n",
      "\n",
      "Vista previa del primer documento:\n",
      "\n",
      "    Fundamentos del Aprendizaje Automático (Machine Learning)\n",
      "\n",
      "    El aprendizaje automático es un subconjunto de la inteligencia artificial que permite \n",
      "    a los sistemas aprender y mejorar a parti...\n"
     ]
    }
   ],
   "source": [
    "# Cargar documentos desde el directorio usando LangChain\n",
    "from langchain_community.document_loaders import DirectoryLoader, TextLoader\n",
    "\n",
    "# Crear un cargador de documentos que busque archivos .txt en el directorio temporal\n",
    "loader = DirectoryLoader(\n",
    "    temp_dir,  # Directorio donde están los archivos\n",
    "    glob=\"*.txt\",  # Patrón para buscar solo archivos .txt\n",
    "    loader_cls=TextLoader,  # Clase para cargar archivos de texto\n",
    "    loader_kwargs={'encoding': 'utf-8'}  # Especificar codificación UTF-8\n",
    ")\n",
    "\n",
    "# Cargar todos los documentos encontrados\n",
    "documents = loader.load()\n",
    "\n",
    "print(f\"Cargados {len(documents)} documentos\")\n",
    "\n",
    "# Verificar si hay documentos antes de intentar acceder\n",
    "if len(documents) > 0:\n",
    "    print(f\"\\nVista previa del primer documento:\")\n",
    "    print(documents[0].page_content[:200] + \"...\")\n",
    "else:\n",
    "    print(\"\\nNo se encontraron documentos en el directorio.\")\n",
    "    print(f\"Verificando directorio: {temp_dir}\")\n",
    "    import os\n",
    "    if os.path.exists(temp_dir):\n",
    "        files = os.listdir(temp_dir)\n",
    "        print(f\"Archivos en el directorio: {files}\")\n",
    "    else:\n",
    "        print(\"El directorio temporal no existe.\")"
   ]
  },
  {
   "cell_type": "code",
   "execution_count": 26,
   "id": "851ae9d5",
   "metadata": {},
   "outputs": [
    {
     "data": {
      "text/plain": [
       "[Document(metadata={'source': 'C:\\\\Users\\\\raule\\\\AppData\\\\Local\\\\Temp\\\\tmp7yg3sy23\\\\doc_0.txt'}, page_content='\\n    Fundamentos del Aprendizaje Automático (Machine Learning)\\n\\n    El aprendizaje automático es un subconjunto de la inteligencia artificial que permite \\n    a los sistemas aprender y mejorar a partir de la experiencia sin ser programados \\n    explícitamente. Hay tres tipos principales de aprendizaje automático: aprendizaje \\n    supervisado, aprendizaje no supervisado y aprendizaje por refuerzo. El aprendizaje \\n    supervisado utiliza datos etiquetados para entrenar modelos, mientras que el \\n    aprendizaje no supervisado encuentra patrones en datos no etiquetados. El aprendizaje \\n    por refuerzo aprende a través de la interacción con un entorno utilizando recompensas \\n    y penalizaciones.\\n    '),\n",
       " Document(metadata={'source': 'C:\\\\Users\\\\raule\\\\AppData\\\\Local\\\\Temp\\\\tmp7yg3sy23\\\\doc_1.txt'}, page_content='\\n    Aprendizaje Profundo y Redes Neuronales\\n\\n    El aprendizaje profundo es un subconjunto del aprendizaje automático basado en redes \\n    neuronales artificiales. Estas redes están inspiradas en el cerebro humano y consisten \\n    en capas de nodos interconectados. El aprendizaje profundo ha revolucionado campos \\n    como la visión por computadora, el procesamiento de lenguaje natural y el reconocimiento \\n    de voz. Las Redes Neuronales Convolucionales (CNN) son particularmente efectivas para \\n    el procesamiento de imágenes, mientras que las Redes Neuronales Recurrentes (RNN) y \\n    los Transformers destacan en el procesamiento de datos secuenciales.\\n    '),\n",
       " Document(metadata={'source': 'C:\\\\Users\\\\raule\\\\AppData\\\\Local\\\\Temp\\\\tmp7yg3sy23\\\\doc_2.txt'}, page_content='\\n    Procesamiento de Lenguaje Natural (PLN)\\n\\n    El PLN es un campo de la IA que se enfoca en la interacción entre computadoras y \\n    lenguaje humano. Las tareas clave en PLN incluyen clasificación de texto, \\n    reconocimiento de entidades nombradas, análisis de sentimientos, traducción automática \\n    y respuesta a preguntas. El PLN moderno depende en gran medida de arquitecturas \\n    transformer como BERT, GPT y T5. Estos modelos utilizan mecanismos de atención para \\n    entender el contexto y las relaciones entre palabras en el texto.\\n    ')]"
      ]
     },
     "execution_count": 26,
     "metadata": {},
     "output_type": "execute_result"
    }
   ],
   "source": [
    "# Mostrar todos los documentos cargados con sus metadatos\n",
    "documents"
   ]
  },
  {
   "cell_type": "markdown",
   "id": "688807d4",
   "metadata": {},
   "source": [
    "### 3. División de Documentos (Document Splitting)"
   ]
  },
  {
   "cell_type": "code",
   "execution_count": 27,
   "id": "a3620217",
   "metadata": {},
   "outputs": [
    {
     "name": "stdout",
     "output_type": "stream",
     "text": [
      "Creados 6 chunks a partir de 3 documentos\n",
      "\n",
      "Ejemplo de chunk:\n",
      "Contenido: Fundamentos del Aprendizaje Automático (Machine Learning)\n",
      "\n",
      "    El aprendizaje automático es un subconjunto de la inteligencia artificial que permite \n",
      "...\n",
      "Metadatos: {'source': 'C:\\\\Users\\\\raule\\\\AppData\\\\Local\\\\Temp\\\\tmp7yg3sy23\\\\doc_0.txt'}\n"
     ]
    }
   ],
   "source": [
    "# Inicializar el divisor de texto para crear chunks más pequeños\n",
    "text_splitter = RecursiveCharacterTextSplitter(\n",
    "    chunk_size=500,  # Tamaño máximo de cada chunk en caracteres\n",
    "    chunk_overlap=50,  # Superposición entre chunks para mantener contexto\n",
    "    length_function=len,  # Función para medir la longitud\n",
    "    separators=[\" \"]  # Jerarquía de separadores (espacios en este caso)\n",
    ")\n",
    "\n",
    "# Dividir todos los documentos en chunks más pequeños\n",
    "chunks = text_splitter.split_documents(documents)\n",
    "\n",
    "print(f\"Creados {len(chunks)} chunks a partir de {len(documents)} documentos\")\n",
    "print(f\"\\nEjemplo de chunk:\")\n",
    "print(f\"Contenido: {chunks[0].page_content[:150]}...\")\n",
    "print(f\"Metadatos: {chunks[0].metadata}\")"
   ]
  },
  {
   "cell_type": "code",
   "execution_count": 28,
   "id": "5bccc475",
   "metadata": {},
   "outputs": [
    {
     "data": {
      "text/plain": [
       "[Document(metadata={'source': 'C:\\\\Users\\\\raule\\\\AppData\\\\Local\\\\Temp\\\\tmp7yg3sy23\\\\doc_0.txt'}, page_content='Fundamentos del Aprendizaje Automático (Machine Learning)\\n\\n    El aprendizaje automático es un subconjunto de la inteligencia artificial que permite \\n    a los sistemas aprender y mejorar a partir de la experiencia sin ser programados \\n    explícitamente. Hay tres tipos principales de aprendizaje automático: aprendizaje \\n    supervisado, aprendizaje no supervisado y aprendizaje por refuerzo. El aprendizaje \\n    supervisado utiliza datos etiquetados para entrenar modelos, mientras que el'),\n",
       " Document(metadata={'source': 'C:\\\\Users\\\\raule\\\\AppData\\\\Local\\\\Temp\\\\tmp7yg3sy23\\\\doc_0.txt'}, page_content='para entrenar modelos, mientras que el \\n    aprendizaje no supervisado encuentra patrones en datos no etiquetados. El aprendizaje \\n    por refuerzo aprende a través de la interacción con un entorno utilizando recompensas \\n    y penalizaciones.'),\n",
       " Document(metadata={'source': 'C:\\\\Users\\\\raule\\\\AppData\\\\Local\\\\Temp\\\\tmp7yg3sy23\\\\doc_1.txt'}, page_content='Aprendizaje Profundo y Redes Neuronales\\n\\n    El aprendizaje profundo es un subconjunto del aprendizaje automático basado en redes \\n    neuronales artificiales. Estas redes están inspiradas en el cerebro humano y consisten \\n    en capas de nodos interconectados. El aprendizaje profundo ha revolucionado campos \\n    como la visión por computadora, el procesamiento de lenguaje natural y el reconocimiento \\n    de voz. Las Redes Neuronales Convolucionales (CNN) son particularmente efectivas para'),\n",
       " Document(metadata={'source': 'C:\\\\Users\\\\raule\\\\AppData\\\\Local\\\\Temp\\\\tmp7yg3sy23\\\\doc_1.txt'}, page_content='(CNN) son particularmente efectivas para \\n    el procesamiento de imágenes, mientras que las Redes Neuronales Recurrentes (RNN) y \\n    los Transformers destacan en el procesamiento de datos secuenciales.'),\n",
       " Document(metadata={'source': 'C:\\\\Users\\\\raule\\\\AppData\\\\Local\\\\Temp\\\\tmp7yg3sy23\\\\doc_2.txt'}, page_content='Procesamiento de Lenguaje Natural (PLN)\\n\\n    El PLN es un campo de la IA que se enfoca en la interacción entre computadoras y \\n    lenguaje humano. Las tareas clave en PLN incluyen clasificación de texto, \\n    reconocimiento de entidades nombradas, análisis de sentimientos, traducción automática \\n    y respuesta a preguntas. El PLN moderno depende en gran medida de arquitecturas \\n    transformer como BERT, GPT y T5. Estos modelos utilizan mecanismos de atención para \\n    entender el'),\n",
       " Document(metadata={'source': 'C:\\\\Users\\\\raule\\\\AppData\\\\Local\\\\Temp\\\\tmp7yg3sy23\\\\doc_2.txt'}, page_content='mecanismos de atención para \\n    entender el contexto y las relaciones entre palabras en el texto.')]"
      ]
     },
     "execution_count": 28,
     "metadata": {},
     "output_type": "execute_result"
    }
   ],
   "source": [
    "# Mostrar todos los chunks creados para inspección\n",
    "chunks"
   ]
  },
  {
   "cell_type": "markdown",
   "id": "f8485c41",
   "metadata": {},
   "source": [
    "### 4. Modelos de Embedding"
   ]
  },
  {
   "cell_type": "code",
   "execution_count": 29,
   "id": "8c6c93e3",
   "metadata": {},
   "outputs": [],
   "source": [
    "# Configurar la API key de OpenAI desde las variables de entorno\n",
    "os.environ[\"OPENAI_API_KEY\"] = os.getenv(\"OPENAI_API_KEY\")"
   ]
  },
  {
   "cell_type": "code",
   "execution_count": 30,
   "id": "f1491c25",
   "metadata": {},
   "outputs": [
    {
     "data": {
      "text/plain": [
       "OpenAIEmbeddings(client=<openai.resources.embeddings.Embeddings object at 0x0000021533328B60>, async_client=<openai.resources.embeddings.AsyncEmbeddings object at 0x0000021533C649E0>, model='text-embedding-ada-002', dimensions=None, deployment='text-embedding-ada-002', openai_api_version=None, openai_api_base=None, openai_api_type=None, openai_proxy=None, embedding_ctx_length=8191, openai_api_key=SecretStr('**********'), openai_organization=None, allowed_special=None, disallowed_special=None, chunk_size=1000, max_retries=2, request_timeout=None, headers=None, tiktoken_enabled=True, tiktoken_model_name=None, show_progress_bar=False, model_kwargs={}, skip_empty=False, default_headers=None, default_query=None, retry_min_seconds=4, retry_max_seconds=20, http_client=None, http_async_client=None, check_embedding_ctx_length=True)"
      ]
     },
     "execution_count": 30,
     "metadata": {},
     "output_type": "execute_result"
    }
   ],
   "source": [
    "# Probar el modelo de embeddings con un texto de ejemplo\n",
    "sample_text = \"El Aprendizaje Automático es fascinante\"\n",
    "embeddings = OpenAIEmbeddings()  # Inicializar el modelo de embeddings de OpenAI\n",
    "embeddings  # Mostrar configuración del modelo"
   ]
  },
  {
   "cell_type": "code",
   "execution_count": 31,
   "id": "3e814386",
   "metadata": {},
   "outputs": [
    {
     "data": {
      "text/plain": [
       "[-0.026229841634631157,\n",
       " 0.008753953501582146,\n",
       " 0.027715515345335007,\n",
       " -0.01675226166844368,\n",
       " -0.019762033596634865,\n",
       " 0.015727659687399864,\n",
       " -0.011008080095052719,\n",
       " -0.002105239313095808,\n",
       " -0.005612904205918312,\n",
       " -0.029559802263975143,\n",
       " 0.01067508477717638,\n",
       " 0.03493896871805191,\n",
       " -0.0023822023067623377,\n",
       " 0.010162782855331898,\n",
       " 0.0029105134308338165,\n",
       " -0.004015163518488407,\n",
       " 0.020620139315724373,\n",
       " 0.007889444939792156,\n",
       " -0.00010020899208029732,\n",
       " 0.003184274537488818,\n",
       " -0.02053048647940159,\n",
       " 0.017533522099256516,\n",
       " -0.007345124147832394,\n",
       " -0.03709063678979874,\n",
       " -0.02630668692290783,\n",
       " 0.00011306656233500689,\n",
       " 0.006711150985211134,\n",
       " -0.04003636911511421,\n",
       " 0.003893492044880986,\n",
       " -0.023604296147823334,\n",
       " 0.03542565554380417,\n",
       " -0.011392306536436081,\n",
       " -0.0028672879561781883,\n",
       " -0.03442666679620743,\n",
       " -0.007063358090817928,\n",
       " -0.030866170302033424,\n",
       " -0.012372083030641079,\n",
       " -0.02078663744032383,\n",
       " -0.003336364170536399,\n",
       " 0.01200706884264946,\n",
       " 0.021145248785614967,\n",
       " 0.01978764869272709,\n",
       " -0.008151998743414879,\n",
       " -0.007633293513208628,\n",
       " -0.0099002281203866,\n",
       " 0.010854389518499374,\n",
       " -0.0300464890897274,\n",
       " -0.014600595459342003,\n",
       " -0.022848650813102722,\n",
       " 0.024411171674728394,\n",
       " -0.001957952743396163,\n",
       " 0.012781924568116665,\n",
       " -0.014049870893359184,\n",
       " -0.015176935121417046,\n",
       " 0.019685188308358192,\n",
       " 0.008484994992613792,\n",
       " -0.011533189564943314,\n",
       " 0.0009925843914970756,\n",
       " 0.02935488149523735,\n",
       " -0.014856746420264244,\n",
       " 0.009490386582911015,\n",
       " -0.02909873053431511,\n",
       " -0.00993224699050188,\n",
       " 0.02848396822810173,\n",
       " -0.007249067537486553,\n",
       " 0.011949434876441956,\n",
       " -0.0023709957022219896,\n",
       " 0.018788661807775497,\n",
       " 0.024744166061282158,\n",
       " 0.005026959348469973,\n",
       " 0.0045050522312521935,\n",
       " -0.006595883052796125,\n",
       " -0.023181647062301636,\n",
       " -0.017354216426610947,\n",
       " 0.03324837237596512,\n",
       " 0.0021756808273494244,\n",
       " -0.009234236553311348,\n",
       " -0.006583075504750013,\n",
       " 0.009381523355841637,\n",
       " 0.011315461248159409,\n",
       " -0.005167842376977205,\n",
       " -0.0168803371489048,\n",
       " -9.965866775019094e-05,\n",
       " 0.01941622979938984,\n",
       " 0.006973705254495144,\n",
       " 0.01144353672862053,\n",
       " -0.0038966939318925142,\n",
       " 0.00312503962777555,\n",
       " -0.020953135564923286,\n",
       " -0.016175922006368637,\n",
       " -0.017764057964086533,\n",
       " 0.0027184002101421356,\n",
       " 0.023809216916561127,\n",
       " 0.01986449398100376,\n",
       " -0.018583741039037704,\n",
       " 0.01157161220908165,\n",
       " 0.007754965219646692,\n",
       " 0.007005724124610424,\n",
       " 0.011904608458280563,\n",
       " -0.03209569305181503,\n",
       " -0.021734394133090973,\n",
       " 0.007492410950362682,\n",
       " -0.011840570718050003,\n",
       " -0.013050883077085018,\n",
       " -0.011052906513214111,\n",
       " 0.010950446128845215,\n",
       " 0.021875277161598206,\n",
       " 0.028458353132009506,\n",
       " 0.020184682682156563,\n",
       " -0.0010350092779845,\n",
       " 0.0104829715564847,\n",
       " 0.012218393385410309,\n",
       " -0.022694960236549377,\n",
       " -0.028125356882810593,\n",
       " -0.01030366588383913,\n",
       " -0.005180649925023317,\n",
       " -0.0057153645902872086,\n",
       " -0.0005479225656017661,\n",
       " -0.028586428612470627,\n",
       " -0.042469803243875504,\n",
       " 0.018455665558576584,\n",
       " 0.03691133111715317,\n",
       " 0.019390614703297615,\n",
       " -0.016675416380167007,\n",
       " 0.0037974354345351458,\n",
       " 0.0036629564128816128,\n",
       " -0.012308045290410519,\n",
       " -0.01426759921014309,\n",
       " -0.014639018103480339,\n",
       " -0.0011670871172100306,\n",
       " -0.0011310658883303404,\n",
       " 0.016560148447752,\n",
       " -0.0036245337687432766,\n",
       " -0.0034356224350631237,\n",
       " -0.021875277161598206,\n",
       " 0.025294890627264977,\n",
       " -0.027459366247057915,\n",
       " 0.021952122449874878,\n",
       " -0.027331290766596794,\n",
       " -0.008709127083420753,\n",
       " 0.026012113317847252,\n",
       " 0.016214344650506973,\n",
       " -0.03550250083208084,\n",
       " -0.020133452489972115,\n",
       " 0.0034484299831092358,\n",
       " -0.000266356801148504,\n",
       " -0.003979942761361599,\n",
       " 0.012711483053863049,\n",
       " 0.026332302019000053,\n",
       " 0.004767606500536203,\n",
       " -0.007229856215417385,\n",
       " -0.03166024014353752,\n",
       " 0.004700366873294115,\n",
       " 0.01875023916363716,\n",
       " 0.011866185814142227,\n",
       " -0.0013191766338422894,\n",
       " 0.04515938460826874,\n",
       " -0.002795245498418808,\n",
       " -0.016534533351659775,\n",
       " -0.014907976612448692,\n",
       " 0.014037063345313072,\n",
       " -0.01965957321226597,\n",
       " -0.0059202853590250015,\n",
       " -0.014997629448771477,\n",
       " 0.023617103695869446,\n",
       " 0.02617861144244671,\n",
       " 0.007966289296746254,\n",
       " -0.005129419732838869,\n",
       " 0.00462352205067873,\n",
       " -0.0010974460747092962,\n",
       " -0.014293214306235313,\n",
       " 0.03921668604016304,\n",
       " -0.0168803371489048,\n",
       " 0.026050535961985588,\n",
       " -0.01309570949524641,\n",
       " -0.010687892325222492,\n",
       " 0.01823793724179268,\n",
       " 0.003541284706443548,\n",
       " -0.021747201681137085,\n",
       " -0.007434776984155178,\n",
       " 0.010623854584991932,\n",
       " 0.019147271290421486,\n",
       " 0.012711483053863049,\n",
       " 0.02512839250266552,\n",
       " 0.0021548685617744923,\n",
       " -0.0036341394297778606,\n",
       " 0.0016345622716471553,\n",
       " -0.00025575055042281747,\n",
       " 0.00530552351847291,\n",
       " 0.0001922131486935541,\n",
       " 0.0016825905768200755,\n",
       " 0.014177946373820305,\n",
       " 0.0020347977988421917,\n",
       " -0.009503194130957127,\n",
       " -0.6397622227668762,\n",
       " 0.0025503013748675585,\n",
       " 0.02419344335794449,\n",
       " 0.006061168387532234,\n",
       " 0.0014272402040660381,\n",
       " 0.02332253009080887,\n",
       " -0.004392986185848713,\n",
       " -0.008478591218590736,\n",
       " 0.02681898884475231,\n",
       " -0.060297898948192596,\n",
       " 0.01269227173179388,\n",
       " -0.0068840524181723595,\n",
       " -0.008184017613530159,\n",
       " 0.0016809896333143115,\n",
       " -0.005427194759249687,\n",
       " -0.015855735167860985,\n",
       " 0.018788661807775497,\n",
       " -0.04672190546989441,\n",
       " -0.002756822854280472,\n",
       " 0.03419613093137741,\n",
       " 0.004434610716998577,\n",
       " 0.022374771535396576,\n",
       " -0.0069801090285182,\n",
       " 0.012890788726508617,\n",
       " -0.009938650764524937,\n",
       " 0.014113908633589745,\n",
       " 0.010246031917631626,\n",
       " 0.002278141211718321,\n",
       " 0.003819848643615842,\n",
       " 0.00813278742134571,\n",
       " -0.019877301529049873,\n",
       " 0.01445971243083477,\n",
       " -0.001232725684531033,\n",
       " -0.004207276739180088,\n",
       " 0.05353551730513573,\n",
       " -0.0419318862259388,\n",
       " 0.009695307351648808,\n",
       " 0.027536209672689438,\n",
       " -0.010751930065453053,\n",
       " 0.02948295697569847,\n",
       " -0.010489375330507755,\n",
       " 0.0013135733315721154,\n",
       " 0.009599250741302967,\n",
       " -0.012397698126733303,\n",
       " 0.013742489740252495,\n",
       " -0.003131443401798606,\n",
       " 0.025717539712786674,\n",
       " -0.017392639070749283,\n",
       " -0.00996426586061716,\n",
       " -0.009874613024294376,\n",
       " 0.024167828261852264,\n",
       " -0.0009989880491048098,\n",
       " -0.004482639022171497,\n",
       " 0.0028544804081320763,\n",
       " 0.009349504485726357,\n",
       " 0.012224797159433365,\n",
       " 0.0186862014234066,\n",
       " 0.010181994177401066,\n",
       " 0.0020347977988421917,\n",
       " -0.024219058454036713,\n",
       " -0.03109670616686344,\n",
       " -0.010623854584991932,\n",
       " -0.011129751801490784,\n",
       " -0.00777417654171586,\n",
       " -0.027561824768781662,\n",
       " 0.026229841634631157,\n",
       " 0.0004222485877107829,\n",
       " 0.009592846967279911,\n",
       " 0.004194469191133976,\n",
       " -0.018634971231222153,\n",
       " 0.008670704439282417,\n",
       " -0.002646357985213399,\n",
       " -0.001962755573913455,\n",
       " 0.01750790700316429,\n",
       " 0.010649469681084156,\n",
       " 0.005830632522702217,\n",
       " 0.010156379081308842,\n",
       " -0.00425210315734148,\n",
       " 0.008958874270319939,\n",
       " 0.025896845385432243,\n",
       " 0.003701379057019949,\n",
       " -0.007274682633578777,\n",
       " -0.01067508477717638,\n",
       " -0.009535213001072407,\n",
       " 0.02190089225769043,\n",
       " -0.01017559040337801,\n",
       " -0.034093670547008514,\n",
       " -0.017584752291440964,\n",
       " -0.0007160215172916651,\n",
       " 0.013153343461453915,\n",
       " 0.004441014491021633,\n",
       " -0.00041544457781128585,\n",
       " -0.010534201748669147,\n",
       " -0.0190576184540987,\n",
       " -0.001741825370118022,\n",
       " 0.006057966500520706,\n",
       " 0.004636329598724842,\n",
       " 0.019390614703297615,\n",
       " 0.026485992595553398,\n",
       " -0.020863482728600502,\n",
       " 0.01402425579726696,\n",
       " -0.009016508236527443,\n",
       " 0.020568909123539925,\n",
       " 0.01904481090605259,\n",
       " 0.013947410508990288,\n",
       " 0.005023757461458445,\n",
       " 0.014306021854281425,\n",
       " 0.015125704929232597,\n",
       " 0.02588403783738613,\n",
       " -0.023245684802532196,\n",
       " -0.011545997112989426,\n",
       " 0.003139448119327426,\n",
       " -0.013140535913407803,\n",
       " 0.006365347187966108,\n",
       " -0.014664633199572563,\n",
       " -0.02419344335794449,\n",
       " -0.007031339220702648,\n",
       " 0.012986845336854458,\n",
       " 0.026972679421305656,\n",
       " -0.003006570041179657,\n",
       " 0.007370739243924618,\n",
       " -0.005833834409713745,\n",
       " 0.011955838650465012,\n",
       " -0.009535213001072407,\n",
       " -0.0014608600176870823,\n",
       " -0.028432738035917282,\n",
       " -0.008331304416060448,\n",
       " -0.014472519978880882,\n",
       " -0.005443204194307327,\n",
       " -0.01213514432311058,\n",
       " -0.011674072593450546,\n",
       " -0.009042123332619667,\n",
       " -0.002683179685845971,\n",
       " -0.006554258521646261,\n",
       " 0.015369047410786152,\n",
       " -0.01051499042659998,\n",
       " 0.01483113132417202,\n",
       " -0.012032683938741684,\n",
       " 0.004168854095041752,\n",
       " -0.011040098965168,\n",
       " -0.02904750034213066,\n",
       " -0.0025935268495231867,\n",
       " 0.010169186629354954,\n",
       " 0.02809974178671837,\n",
       " 0.017264563590288162,\n",
       " -0.024129405617713928,\n",
       " -0.003105828305706382,\n",
       " 0.006973705254495144,\n",
       " -0.011123348027467728,\n",
       " -0.024667320773005486,\n",
       " -0.0009573635761626065,\n",
       " -0.027100754901766777,\n",
       " -0.023745179176330566,\n",
       " 0.03035387024283409,\n",
       " -0.004473033361136913,\n",
       " 0.01786651834845543,\n",
       " -0.023258492350578308,\n",
       " -0.004473033361136913,\n",
       " -0.022874265909194946,\n",
       " -0.01144353672862053,\n",
       " 0.000705615384504199,\n",
       " 0.009887420572340488,\n",
       " -5.5282544053625315e-05,\n",
       " 0.016803491860628128,\n",
       " -0.016739454120397568,\n",
       " -0.00967609602957964,\n",
       " -0.007671716157346964,\n",
       " 0.034964583814144135,\n",
       " -0.03791031613945961,\n",
       " -0.02538454346358776,\n",
       " 0.00626608869060874,\n",
       " -0.0006743970443494618,\n",
       " 0.009714518673717976,\n",
       " 0.006666324567049742,\n",
       " -0.00606757216155529,\n",
       " 0.019070426002144814,\n",
       " -0.01837882027029991,\n",
       " -0.0012671459699049592,\n",
       " 0.0010133965406566858,\n",
       " -0.0059138815850019455,\n",
       " -0.00046827568439766765,\n",
       " 0.01930096186697483,\n",
       " 0.0036597545258700848,\n",
       " -0.011661265045404434,\n",
       " 0.02257969230413437,\n",
       " 0.015714852139353752,\n",
       " 0.028432738035917282,\n",
       " -0.01116817444562912,\n",
       " -0.03724432736635208,\n",
       " 0.01713648810982704,\n",
       " 0.011155366897583008,\n",
       " 0.01954430527985096,\n",
       " 0.014651825651526451,\n",
       " 0.005734575912356377,\n",
       " 0.004898883868008852,\n",
       " 0.022566884756088257,\n",
       " -0.03995952382683754,\n",
       " -0.02072259970009327,\n",
       " 0.0005443204427137971,\n",
       " 0.04277718439698219,\n",
       " 0.003922309260815382,\n",
       " 0.013166151009500027,\n",
       " 0.01408829353749752,\n",
       " -0.0007360333111137152,\n",
       " 0.024295903742313385,\n",
       " -0.023002341389656067,\n",
       " 0.01039972249418497,\n",
       " 0.0007832610863260925,\n",
       " 0.021196478977799416,\n",
       " 0.013665645383298397,\n",
       " 0.020146260038018227,\n",
       " -0.01290359627455473,\n",
       " 0.015087282285094261,\n",
       " -0.02444959431886673,\n",
       " 0.009688903577625751,\n",
       " 0.018071439117193222,\n",
       " -0.005808219313621521,\n",
       " -0.004844451788812876,\n",
       " -0.022733382880687714,\n",
       " 0.004777212161570787,\n",
       " -0.0021596713922917843,\n",
       " -0.0061316099017858505,\n",
       " 0.02288707345724106,\n",
       " -0.0071081845089793205,\n",
       " 0.019211309030652046,\n",
       " 0.02117086388170719,\n",
       " 0.007562852464616299,\n",
       " 0.024782588705420494,\n",
       " -0.0025358928833156824,\n",
       " -0.027894821017980576,\n",
       " -0.025294890627264977,\n",
       " 0.0005086994497105479,\n",
       " -0.004136835224926472,\n",
       " 0.004232891835272312,\n",
       " -0.003171466989442706,\n",
       " 0.015689237043261528,\n",
       " 0.007588467560708523,\n",
       " -0.008600262925028801,\n",
       " 0.05266460403800011,\n",
       " 0.01157161220908165,\n",
       " 0.00027536210836842656,\n",
       " 0.00011306656233500689,\n",
       " 0.033094681799411774,\n",
       " -0.007473199628293514,\n",
       " 0.01588135026395321,\n",
       " 0.015369047410786152,\n",
       " 0.03053317405283451,\n",
       " -0.009272659197449684,\n",
       " -0.01799459382891655,\n",
       " 0.01191101223230362,\n",
       " -0.011283442378044128,\n",
       " -0.005897872149944305,\n",
       " -0.012115933001041412,\n",
       " -0.01107211783528328,\n",
       " -0.014779901131987572,\n",
       " -0.02804851159453392,\n",
       " 0.02115805633366108,\n",
       " 0.004408995620906353,\n",
       " 0.023629911243915558,\n",
       " 0.019966954365372658,\n",
       " 0.016675416380167007,\n",
       " 0.03406805545091629,\n",
       " -0.000704014440998435,\n",
       " 0.0007648502942174673,\n",
       " 0.009983477182686329,\n",
       " -0.0040920088067650795,\n",
       " -0.007831810973584652,\n",
       " -0.01051499042659998,\n",
       " -0.003017776645720005,\n",
       " 0.00485405744984746,\n",
       " -0.004043980501592159,\n",
       " -0.02078663744032383,\n",
       " 0.0032467113342136145,\n",
       " -0.01670103147625923,\n",
       " 0.028279047459363937,\n",
       " -0.026716528460383415,\n",
       " 0.022554077208042145,\n",
       " 0.000524708884768188,\n",
       " 0.004264910705387592,\n",
       " 0.025154007598757744,\n",
       " -0.0013151742750778794,\n",
       " -0.02295111119747162,\n",
       " 0.01483113132417202,\n",
       " 0.015445892699062824,\n",
       " 0.01818670704960823,\n",
       " -0.011078521609306335,\n",
       " -0.003326758509501815,\n",
       " -0.013704068027436733,\n",
       " -0.0016457688761875033,\n",
       " 0.004441014491021633,\n",
       " 0.011245019733905792,\n",
       " 0.01077114138752222,\n",
       " -0.012634637765586376,\n",
       " -0.00996426586061716,\n",
       " -0.019185693934559822,\n",
       " 0.004469831474125385,\n",
       " 0.04418601095676422,\n",
       " -0.00025354925310239196,\n",
       " -0.04116343334317207,\n",
       " -0.04029252007603645,\n",
       " -0.01570204459130764,\n",
       " -0.003678965847939253,\n",
       " -0.028150971978902817,\n",
       " -0.020761022344231606,\n",
       " 0.004021567292511463,\n",
       " 0.03368382900953293,\n",
       " -0.013908987864851952,\n",
       " -0.0209659431129694,\n",
       " -0.012365679256618023,\n",
       " -0.005440002307295799,\n",
       " 3.3081976198445773e-06,\n",
       " -0.00983619038015604,\n",
       " -0.0004902886576019228,\n",
       " -0.0047804140485823154,\n",
       " 0.0030834150966256857,\n",
       " 0.011213000863790512,\n",
       " -0.009829786606132984,\n",
       " 0.010585431940853596,\n",
       " 0.024052560329437256,\n",
       " 0.018340397626161575,\n",
       " -0.024116598069667816,\n",
       " -0.0011903006816282868,\n",
       " 0.0005971515201963484,\n",
       " 0.009746537543833256,\n",
       " 0.04536430537700653,\n",
       " 0.010617450810968876,\n",
       " -0.004431408829987049,\n",
       " 0.007364335469901562,\n",
       " -0.008030327036976814,\n",
       " -0.01389618031680584,\n",
       " -0.037141866981983185,\n",
       " -0.018775854259729385,\n",
       " 0.024155020713806152,\n",
       " -0.010931234806776047,\n",
       " -0.02599930576980114,\n",
       " 0.011840570718050003,\n",
       " 0.01476709358394146,\n",
       " 0.004386582411825657,\n",
       " 0.008164806291460991,\n",
       " 0.0014912779442965984,\n",
       " 0.005507241934537888,\n",
       " -0.025282083079218864,\n",
       " -0.003848665626719594,\n",
       " -0.024769781157374382,\n",
       " -0.0016777877463027835,\n",
       " 0.004280920140445232,\n",
       " 0.01712368056178093,\n",
       " 0.00887562520802021,\n",
       " 0.011782936751842499,\n",
       " -0.03294099122285843,\n",
       " 0.017034027725458145,\n",
       " 0.019557112827897072,\n",
       " -0.0011102536227554083,\n",
       " -0.04026690497994423,\n",
       " 0.027382520958781242,\n",
       " 0.027587439864873886,\n",
       " 0.012743501923978329,\n",
       " 0.02222108095884323,\n",
       " -0.000866109854541719,\n",
       " 0.012890788726508617,\n",
       " -0.004469831474125385,\n",
       " 0.012372083030641079,\n",
       " 0.02699829451739788,\n",
       " 0.004562686197459698,\n",
       " 0.03501581400632858,\n",
       " 0.015509930439293385,\n",
       " 0.013640030287206173,\n",
       " -0.025115584954619408,\n",
       " 0.019890109077095985,\n",
       " -0.009407137520611286,\n",
       " 0.0018074640538543463,\n",
       " 0.031173551455140114,\n",
       " -0.01157161220908165,\n",
       " -0.033350832760334015,\n",
       " -0.0025390947703272104,\n",
       " -0.010021899826824665,\n",
       " -0.02029995061457157,\n",
       " 0.005142227280884981,\n",
       " -0.0030754103790968657,\n",
       " 0.024616090580821037,\n",
       " 0.013857757672667503,\n",
       " 0.011462748050689697,\n",
       " -0.006672728341072798,\n",
       " 0.020645754411816597,\n",
       " -0.017277371138334274,\n",
       " -0.023348145186901093,\n",
       " 0.0057121627032756805,\n",
       " -0.012493754737079144,\n",
       " -0.012890788726508617,\n",
       " -0.009266255423426628,\n",
       " 0.00039483243017457426,\n",
       " 0.0011086526792496443,\n",
       " -0.02594807557761669,\n",
       " 0.01892954297363758,\n",
       " 0.010822371579706669,\n",
       " -0.048310041427612305,\n",
       " -0.05374043807387352,\n",
       " -0.016854722052812576,\n",
       " 0.021068403497338295,\n",
       " 0.010668681003153324,\n",
       " -0.006269290577620268,\n",
       " -3.4945573133882135e-05,\n",
       " -0.020210297778248787,\n",
       " 0.025640694424510002,\n",
       " 0.0008300886838696897,\n",
       " -0.00395753001794219,\n",
       " -0.015343432314693928,\n",
       " -0.029073115438222885,\n",
       " 0.011545997112989426,\n",
       " 0.003915905486792326,\n",
       " -0.004053586162626743,\n",
       " -0.028868194669485092,\n",
       " 0.01337107177823782,\n",
       " -0.0009589645196683705,\n",
       " 0.011597227305173874,\n",
       " -0.0033107490744441748,\n",
       " 0.030814940109848976,\n",
       " 0.02488504908978939,\n",
       " 0.025243660435080528,\n",
       " -0.02320726215839386,\n",
       " 0.021747201681137085,\n",
       " 3.664657560875639e-05,\n",
       " 0.024539247155189514,\n",
       " -0.02190089225769043,\n",
       " 0.03276168555021286,\n",
       " -0.035271964967250824,\n",
       " -0.018519703298807144,\n",
       " -0.016560148447752,\n",
       " 0.018775854259729385,\n",
       " 0.023053571581840515,\n",
       " 0.013575992546975613,\n",
       " 0.016893144696950912,\n",
       " -0.015100089833140373,\n",
       " -0.0018042621668428183,\n",
       " 0.0045242635533213615,\n",
       " 0.023424990475177765,\n",
       " 0.015176935121417046,\n",
       " -0.01495920680463314,\n",
       " 0.005375965032726526,\n",
       " 0.032351844012737274,\n",
       " -0.007863829843699932,\n",
       " 0.010995272547006607,\n",
       " -0.020748214796185493,\n",
       " -0.02530769817531109,\n",
       " 0.002113244030624628,\n",
       " -0.0231432244181633,\n",
       " 0.034836508333683014,\n",
       " 0.0205432940274477,\n",
       " 0.016227152198553085,\n",
       " -0.008696319535374641,\n",
       " 0.0286632739007473,\n",
       " -0.024961894378066063,\n",
       " -0.010149975307285786,\n",
       " 0.01067508477717638,\n",
       " -0.0006808007601648569,\n",
       " 0.025986498221755028,\n",
       " -0.01513851247727871,\n",
       " -0.00606757216155529,\n",
       " -0.02979033812880516,\n",
       " -0.011187385767698288,\n",
       " -0.017764057964086533,\n",
       " 0.012890788726508617,\n",
       " -0.01408829353749752,\n",
       " 0.005965111777186394,\n",
       " -0.015868542715907097,\n",
       " -0.00025074760196730494,\n",
       " 0.00931108184158802,\n",
       " -0.0059138815850019455,\n",
       " -0.0064133754931390285,\n",
       " -0.03209569305181503,\n",
       " 0.006208454724401236,\n",
       " 0.01649611070752144,\n",
       " -0.004428206942975521,\n",
       " 0.040932897478342056,\n",
       " -0.02227231115102768,\n",
       " 0.02804851159453392,\n",
       " -0.014510942623019218,\n",
       " -0.016470495611429214,\n",
       " -0.0049917385913431644,\n",
       " 0.007210644893348217,\n",
       " -0.003864675061777234,\n",
       " -0.02307918667793274,\n",
       " 0.04859180748462677,\n",
       " 0.02582000009715557,\n",
       " 0.04749035835266113,\n",
       " -0.011859782040119171,\n",
       " -0.0020123845897614956,\n",
       " 0.011488363146781921,\n",
       " 0.0006235670880414546,\n",
       " -0.02619141899049282,\n",
       " 0.001741825370118022,\n",
       " 0.0029249219223856926,\n",
       " -0.015714852139353752,\n",
       " 0.029380496591329575,\n",
       " 0.01014357153326273,\n",
       " 0.001983567839488387,\n",
       " 0.009093353524804115,\n",
       " -0.026639683172106743,\n",
       " 0.010066726244986057,\n",
       " 0.011321865022182465,\n",
       " -0.014613403007388115,\n",
       " -0.016227152198553085,\n",
       " -0.01910884864628315,\n",
       " -0.014229176566004753,\n",
       " 0.0014200359582901,\n",
       " 0.005084593314677477,\n",
       " 0.014434097334742546,\n",
       " 0.003826252417638898,\n",
       " -0.011315461248159409,\n",
       " -0.0031026264186948538,\n",
       " 0.017392639070749283,\n",
       " -0.010476567782461643,\n",
       " 0.019096041098237038,\n",
       " 0.015778889879584312,\n",
       " 0.03898615017533302,\n",
       " -0.018724624067544937,\n",
       " -0.021913699805736542,\n",
       " 0.013780912384390831,\n",
       " 0.013652837835252285,\n",
       " -0.03706502169370651,\n",
       " 0.002822461538016796,\n",
       " -0.03903738036751747,\n",
       " -0.010457356460392475,\n",
       " 0.05727531760931015,\n",
       " 0.01799459382891655,\n",
       " 0.005542462691664696,\n",
       " 0.016790684312582016,\n",
       " 0.0054784249514341354,\n",
       " -0.009701711125671864,\n",
       " 0.0002867688308469951,\n",
       " 0.032736070454120636,\n",
       " -0.007453988306224346,\n",
       " -0.0018170697148889303,\n",
       " -0.015535545535385609,\n",
       " -0.01200706884264946,\n",
       " -0.043596863746643066,\n",
       " 0.008926855400204659,\n",
       " -0.02804851159453392,\n",
       " 0.0020412015728652477,\n",
       " 0.0021836855448782444,\n",
       " -0.031685855239629745,\n",
       " 0.008151998743414879,\n",
       " -0.022823035717010498,\n",
       " -0.0139602180570364,\n",
       " -0.001411230769008398,\n",
       " 0.019083233550190926,\n",
       " 0.049180950969457626,\n",
       " 0.005244687665253878,\n",
       " 0.008773164823651314,\n",
       " 0.040420595556497574,\n",
       " 0.004184863530099392,\n",
       " 0.0036437450908124447,\n",
       " 0.029021885246038437,\n",
       " 0.015586775727570057,\n",
       " -0.01725175604224205,\n",
       " 0.015996616333723068,\n",
       " 0.01992853172123432,\n",
       " 0.002463850425556302,\n",
       " -0.032172538340091705,\n",
       " 0.0073259128257632256,\n",
       " 0.0078061954118311405,\n",
       " -0.015932578593492508,\n",
       " -0.03709063678979874,\n",
       " 0.003829454304650426,\n",
       " 0.006666324567049742,\n",
       " 0.018699008971452713,\n",
       " -0.03209569305181503,\n",
       " -0.002686381572857499,\n",
       " -0.01750790700316429,\n",
       " 0.020005377009510994,\n",
       " -0.0260633435100317,\n",
       " 0.008734742179512978,\n",
       " -0.007018531672656536,\n",
       " -0.004072797484695911,\n",
       " -0.03381190448999405,\n",
       " 0.004735587630420923,\n",
       " -0.011270634829998016,\n",
       " -0.009586443193256855,\n",
       " -0.017456676810979843,\n",
       " -0.003912703599780798,\n",
       " 0.015279394574463367,\n",
       " -0.016470495611429214,\n",
       " 0.0027472171932458878,\n",
       " 0.013409494422376156,\n",
       " -0.014779901131987572,\n",
       " 0.028150971978902817,\n",
       " 0.004706770647317171,\n",
       " 0.010982464998960495,\n",
       " 0.00868351198732853,\n",
       " 0.007550044916570187,\n",
       " -0.016777876764535904,\n",
       " 0.0029489360749721527,\n",
       " 0.0059106796979904175,\n",
       " 0.016521725803613663,\n",
       " 0.004373774863779545,\n",
       " -0.02307918667793274,\n",
       " 0.005606500431895256,\n",
       " 0.01644488051533699,\n",
       " 0.013729683123528957,\n",
       " -0.013742489740252495,\n",
       " -0.001231925212778151,\n",
       " -0.0029617436230182648,\n",
       " 0.003848665626719594,\n",
       " -0.0014376463368535042,\n",
       " -0.005875458940863609,\n",
       " 0.012013472616672516,\n",
       " -0.009010104462504387,\n",
       " 0.005097400862723589,\n",
       " -6.608890544157475e-05,\n",
       " -0.021145248785614967,\n",
       " -0.010476567782461643,\n",
       " 0.01086079329252243,\n",
       " 0.016726646572351456,\n",
       " 0.04838688671588898,\n",
       " -0.0073195090517401695,\n",
       " 0.0056993551552295685,\n",
       " 0.008427361026406288,\n",
       " 0.024923471733927727,\n",
       " 0.006554258521646261,\n",
       " -0.01228243112564087,\n",
       " 0.0025663108099251986,\n",
       " 0.021337362006306648,\n",
       " -0.007434776984155178,\n",
       " 0.00021172464767005295,\n",
       " -0.0020363987423479557,\n",
       " 0.004809231031686068,\n",
       " -0.0012015072861686349,\n",
       " 0.011923819780349731,\n",
       " 0.016662608832120895,\n",
       " -0.011782936751842499,\n",
       " 0.04579976201057434,\n",
       " 0.0028560813516378403,\n",
       " 0.007761368993669748,\n",
       " 0.00996426586061716,\n",
       " 0.008830798789858818,\n",
       " 0.00911896862089634,\n",
       " 0.008382534608244896,\n",
       " -0.017046835273504257,\n",
       " 0.0059010740369558334,\n",
       " 0.020030992105603218,\n",
       " -0.0068904561921954155,\n",
       " -0.0034068056847900152,\n",
       " -0.005612904205918312,\n",
       " -0.0008316896273754537,\n",
       " 0.02530769817531109,\n",
       " 0.0011518781539052725,\n",
       " 0.017469484359025955,\n",
       " -0.03176270052790642,\n",
       " -0.008830798789858818,\n",
       " 0.027766745537519455,\n",
       " -0.022938303649425507,\n",
       " -0.01458778791129589,\n",
       " -0.02469293586909771,\n",
       " 0.007165818475186825,\n",
       " -0.03419613093137741,\n",
       " 0.004946912173181772,\n",
       " -0.002265333663672209,\n",
       " -0.02078663744032383,\n",
       " -0.0010246031451970339,\n",
       " -0.005030161235481501,\n",
       " -0.02283584326505661,\n",
       " 0.008581051602959633,\n",
       " -0.007050550542771816,\n",
       " -0.02395009994506836,\n",
       " 0.00140002416446805,\n",
       " 0.010681488551199436,\n",
       " -0.009823382832109928,\n",
       " 0.003049795515835285,\n",
       " -0.017341408878564835,\n",
       " -0.009765748865902424,\n",
       " 0.0009445560863241553,\n",
       " 0.0049981423653662205,\n",
       " -0.02779236063361168,\n",
       " 0.004930902738124132,\n",
       " -0.02396290749311447,\n",
       " 0.027023909613490105,\n",
       " 0.005404782015830278,\n",
       " -0.007562852464616299,\n",
       " -0.01389618031680584,\n",
       " 0.002106840256601572,\n",
       " -0.03417051583528519,\n",
       " 0.02152947522699833,\n",
       " -0.019262539222836494,\n",
       " 0.01389618031680584,\n",
       " 0.02233634889125824,\n",
       " -0.001924332813359797,\n",
       " -0.0034452280960977077,\n",
       " 0.0004052385629620403,\n",
       " -0.010617450810968876,\n",
       " 0.02091471292078495,\n",
       " -0.020940328016877174,\n",
       " 0.009048527106642723,\n",
       " -0.016099076718091965,\n",
       " -0.005196659360080957,\n",
       " -0.010297262109816074,\n",
       " -0.026665298268198967,\n",
       " -0.038499463349580765,\n",
       " 0.0077101388014853,\n",
       " 0.0040856050327420235,\n",
       " -0.014485327526926994,\n",
       " 0.013473532162606716,\n",
       " 0.0020155864767730236,\n",
       " -0.009330293163657188,\n",
       " 0.005292715970426798,\n",
       " 0.03340206295251846,\n",
       " -0.003317152848467231,\n",
       " -0.01483113132417202,\n",
       " -0.006589479278773069,\n",
       " 0.014677440747618675,\n",
       " -0.0052254763431847095,\n",
       " -0.006941686384379864,\n",
       " -0.0014632614329457283,\n",
       " -0.01330703403800726,\n",
       " -0.01408829353749752,\n",
       " -0.0071081845089793205,\n",
       " 0.0056000966578722,\n",
       " 0.007281086407601833,\n",
       " 0.013409494422376156,\n",
       " -0.013806527480483055,\n",
       " -0.00021892887889407575,\n",
       " -0.013870565220713615,\n",
       " -0.0009533612173981965,\n",
       " 0.018481280654668808,\n",
       " -0.011520382016897202,\n",
       " -0.006576671730726957,\n",
       " 0.043955475091934204,\n",
       " 0.010386914946138859,\n",
       " 0.0013640029355883598,\n",
       " -0.006246877368539572,\n",
       " 0.01773844286799431,\n",
       " 0.00026875821640715003,\n",
       " -0.007639697287231684,\n",
       " 0.005990726873278618,\n",
       " -0.020389603450894356,\n",
       " 0.015074474737048149,\n",
       " -0.027997281402349472,\n",
       " 0.0025262872222810984,\n",
       " -0.028637658804655075,\n",
       " 0.01020760927349329,\n",
       " -0.004258506931364536,\n",
       " 0.01207110658288002,\n",
       " -0.0286632739007473,\n",
       " 0.0066279019229114056,\n",
       " 0.00467155035585165,\n",
       " -0.002630348550155759,\n",
       " 0.013588800095021725,\n",
       " -0.006480615120381117,\n",
       " 0.01694437488913536,\n",
       " -0.010623854584991932,\n",
       " -0.03619410842657089,\n",
       " 0.024129405617713928,\n",
       " -0.014421289786696434,\n",
       " -0.0007240262348204851,\n",
       " -0.012557792477309704,\n",
       " -0.009387927129864693,\n",
       " -0.008657896891236305,\n",
       " 0.03196761757135391,\n",
       " 0.022810228168964386,\n",
       " -0.0009189409902319312,\n",
       " -0.0013511955039575696,\n",
       " 0.21065841615200043,\n",
       " -0.04398109018802643,\n",
       " -0.02462889812886715,\n",
       " 0.019813263788819313,\n",
       " -0.010719911195337772,\n",
       " 0.0449032336473465,\n",
       " 0.013409494422376156,\n",
       " 0.007370739243924618,\n",
       " -0.021760009229183197,\n",
       " 0.004255305044353008,\n",
       " 0.001243932289071381,\n",
       " -0.029457341879606247,\n",
       " -0.04213680699467659,\n",
       " 0.003666158299893141,\n",
       " 0.011046502739191055,\n",
       " -0.01036770362406969,\n",
       " -0.017917748540639877,\n",
       " -0.012314449064433575,\n",
       " -0.00010806361387949437,\n",
       " -0.04321264103055,\n",
       " 0.020069414749741554,\n",
       " -0.008196825161576271,\n",
       " -0.02147824503481388,\n",
       " -0.019390614703297615,\n",
       " 0.020184682682156563,\n",
       " -0.010585431940853596,\n",
       " -0.010342088527977467,\n",
       " 0.0003127841337118298,\n",
       " -0.0003880284202750772,\n",
       " 0.0186862014234066,\n",
       " -0.01522816438227892,\n",
       " 0.007684523705393076,\n",
       " 0.020402410998940468,\n",
       " 0.001382413785904646,\n",
       " -0.029508572071790695,\n",
       " -0.002492667408660054,\n",
       " -0.009471175260841846,\n",
       " -0.004444216378033161,\n",
       " 0.025102777406573296,\n",
       " 0.03870438411831856,\n",
       " 0.018225129693746567,\n",
       " -0.003835858078673482,\n",
       " 0.023975715041160583,\n",
       " -0.023924484848976135,\n",
       " -0.002984156832098961,\n",
       " 0.01625276729464531,\n",
       " ...]"
      ]
     },
     "execution_count": 31,
     "metadata": {},
     "output_type": "execute_result"
    }
   ],
   "source": [
    "# Generar embedding para el texto de muestra\n",
    "vector = embeddings.embed_query(sample_text)  # Convierte el texto en vector numérico\n",
    "vector  # Mostrar el vector resultante (será una lista de números)"
   ]
  },
  {
   "cell_type": "markdown",
   "id": "c424dc3d",
   "metadata": {},
   "source": [
    "### 5. Inicializar ChromaDB y Almacenar los Chunks en Representación Vectorial"
   ]
  },
  {
   "cell_type": "code",
   "execution_count": 32,
   "id": "7fe48585",
   "metadata": {},
   "outputs": [
    {
     "data": {
      "text/plain": [
       "[Document(metadata={'source': 'C:\\\\Users\\\\raule\\\\AppData\\\\Local\\\\Temp\\\\tmp7yg3sy23\\\\doc_0.txt'}, page_content='Fundamentos del Aprendizaje Automático (Machine Learning)\\n\\n    El aprendizaje automático es un subconjunto de la inteligencia artificial que permite \\n    a los sistemas aprender y mejorar a partir de la experiencia sin ser programados \\n    explícitamente. Hay tres tipos principales de aprendizaje automático: aprendizaje \\n    supervisado, aprendizaje no supervisado y aprendizaje por refuerzo. El aprendizaje \\n    supervisado utiliza datos etiquetados para entrenar modelos, mientras que el'),\n",
       " Document(metadata={'source': 'C:\\\\Users\\\\raule\\\\AppData\\\\Local\\\\Temp\\\\tmp7yg3sy23\\\\doc_0.txt'}, page_content='para entrenar modelos, mientras que el \\n    aprendizaje no supervisado encuentra patrones en datos no etiquetados. El aprendizaje \\n    por refuerzo aprende a través de la interacción con un entorno utilizando recompensas \\n    y penalizaciones.'),\n",
       " Document(metadata={'source': 'C:\\\\Users\\\\raule\\\\AppData\\\\Local\\\\Temp\\\\tmp7yg3sy23\\\\doc_1.txt'}, page_content='Aprendizaje Profundo y Redes Neuronales\\n\\n    El aprendizaje profundo es un subconjunto del aprendizaje automático basado en redes \\n    neuronales artificiales. Estas redes están inspiradas en el cerebro humano y consisten \\n    en capas de nodos interconectados. El aprendizaje profundo ha revolucionado campos \\n    como la visión por computadora, el procesamiento de lenguaje natural y el reconocimiento \\n    de voz. Las Redes Neuronales Convolucionales (CNN) son particularmente efectivas para'),\n",
       " Document(metadata={'source': 'C:\\\\Users\\\\raule\\\\AppData\\\\Local\\\\Temp\\\\tmp7yg3sy23\\\\doc_1.txt'}, page_content='(CNN) son particularmente efectivas para \\n    el procesamiento de imágenes, mientras que las Redes Neuronales Recurrentes (RNN) y \\n    los Transformers destacan en el procesamiento de datos secuenciales.'),\n",
       " Document(metadata={'source': 'C:\\\\Users\\\\raule\\\\AppData\\\\Local\\\\Temp\\\\tmp7yg3sy23\\\\doc_2.txt'}, page_content='Procesamiento de Lenguaje Natural (PLN)\\n\\n    El PLN es un campo de la IA que se enfoca en la interacción entre computadoras y \\n    lenguaje humano. Las tareas clave en PLN incluyen clasificación de texto, \\n    reconocimiento de entidades nombradas, análisis de sentimientos, traducción automática \\n    y respuesta a preguntas. El PLN moderno depende en gran medida de arquitecturas \\n    transformer como BERT, GPT y T5. Estos modelos utilizan mecanismos de atención para \\n    entender el'),\n",
       " Document(metadata={'source': 'C:\\\\Users\\\\raule\\\\AppData\\\\Local\\\\Temp\\\\tmp7yg3sy23\\\\doc_2.txt'}, page_content='mecanismos de atención para \\n    entender el contexto y las relaciones entre palabras en el texto.')]"
      ]
     },
     "execution_count": 32,
     "metadata": {},
     "output_type": "execute_result"
    }
   ],
   "source": [
    "# Verificar los chunks antes de almacenarlos\n",
    "chunks"
   ]
  },
  {
   "cell_type": "code",
   "execution_count": 33,
   "id": "232e915f",
   "metadata": {},
   "outputs": [
    {
     "name": "stdout",
     "output_type": "stream",
     "text": [
      "Base de datos vectorial creada con 6 vectores\n",
      "Persistida en: ./chroma_db\n"
     ]
    }
   ],
   "source": [
    "# Crear la base de datos vectorial ChromaDB\n",
    "persist_directory = \"./chroma_db\"  # Directorio donde se guardará la base de datos\n",
    "\n",
    "# Inicializar ChromaDB con embeddings de OpenAI\n",
    "vectorstore = Chroma.from_documents(\n",
    "    documents=chunks,  # Los chunks de texto a almacenar\n",
    "    embedding=OpenAIEmbeddings(),  # Modelo para generar embeddings\n",
    "    persist_directory=persist_directory,  # Directorio de persistencia\n",
    "    collection_name=\"rag_collection\"  # Nombre de la colección\n",
    ")\n",
    "\n",
    "print(f\"Base de datos vectorial creada con {vectorstore._collection.count()} vectores\")\n",
    "print(f\"Persistida en: {persist_directory}\")"
   ]
  },
  {
   "cell_type": "markdown",
   "id": "72fe5ad8",
   "metadata": {},
   "source": [
    "### 6. Probar Búsqueda por Similitud"
   ]
  },
  {
   "cell_type": "code",
   "execution_count": 34,
   "id": "7d85a306",
   "metadata": {},
   "outputs": [
    {
     "data": {
      "text/plain": [
       "[Document(metadata={'source': 'C:\\\\Users\\\\raule\\\\AppData\\\\Local\\\\Temp\\\\tmp7yg3sy23\\\\doc_0.txt'}, page_content='Fundamentos del Aprendizaje Automático (Machine Learning)\\n\\n    El aprendizaje automático es un subconjunto de la inteligencia artificial que permite \\n    a los sistemas aprender y mejorar a partir de la experiencia sin ser programados \\n    explícitamente. Hay tres tipos principales de aprendizaje automático: aprendizaje \\n    supervisado, aprendizaje no supervisado y aprendizaje por refuerzo. El aprendizaje \\n    supervisado utiliza datos etiquetados para entrenar modelos, mientras que el'),\n",
       " Document(metadata={'source': 'C:\\\\Users\\\\raule\\\\AppData\\\\Local\\\\Temp\\\\tmp7yg3sy23\\\\doc_1.txt'}, page_content='Aprendizaje Profundo y Redes Neuronales\\n\\n    El aprendizaje profundo es un subconjunto del aprendizaje automático basado en redes \\n    neuronales artificiales. Estas redes están inspiradas en el cerebro humano y consisten \\n    en capas de nodos interconectados. El aprendizaje profundo ha revolucionado campos \\n    como la visión por computadora, el procesamiento de lenguaje natural y el reconocimiento \\n    de voz. Las Redes Neuronales Convolucionales (CNN) son particularmente efectivas para'),\n",
       " Document(metadata={'source': 'C:\\\\Users\\\\raule\\\\AppData\\\\Local\\\\Temp\\\\tmp7yg3sy23\\\\doc_0.txt'}, page_content='para entrenar modelos, mientras que el \\n    aprendizaje no supervisado encuentra patrones en datos no etiquetados. El aprendizaje \\n    por refuerzo aprende a través de la interacción con un entorno utilizando recompensas \\n    y penalizaciones.')]"
      ]
     },
     "execution_count": 34,
     "metadata": {},
     "output_type": "execute_result"
    }
   ],
   "source": [
    "# Realizar búsqueda por similitud - encontrar documentos similares a la consulta\n",
    "query = \"¿Cuáles son los tipos de aprendizaje automático?\"\n",
    "\n",
    "# Buscar los 3 documentos más similares a la consulta\n",
    "similar_docs = vectorstore.similarity_search(query, k=3)\n",
    "similar_docs  # Mostrar los documentos encontrados"
   ]
  },
  {
   "cell_type": "code",
   "execution_count": 35,
   "id": "8f103e7a",
   "metadata": {},
   "outputs": [
    {
     "data": {
      "text/plain": [
       "[Document(metadata={'source': 'C:\\\\Users\\\\raule\\\\AppData\\\\Local\\\\Temp\\\\tmp7yg3sy23\\\\doc_2.txt'}, page_content='Procesamiento de Lenguaje Natural (PLN)\\n\\n    El PLN es un campo de la IA que se enfoca en la interacción entre computadoras y \\n    lenguaje humano. Las tareas clave en PLN incluyen clasificación de texto, \\n    reconocimiento de entidades nombradas, análisis de sentimientos, traducción automática \\n    y respuesta a preguntas. El PLN moderno depende en gran medida de arquitecturas \\n    transformer como BERT, GPT y T5. Estos modelos utilizan mecanismos de atención para \\n    entender el'),\n",
       " Document(metadata={'source': 'C:\\\\Users\\\\raule\\\\AppData\\\\Local\\\\Temp\\\\tmp7yg3sy23\\\\doc_1.txt'}, page_content='Aprendizaje Profundo y Redes Neuronales\\n\\n    El aprendizaje profundo es un subconjunto del aprendizaje automático basado en redes \\n    neuronales artificiales. Estas redes están inspiradas en el cerebro humano y consisten \\n    en capas de nodos interconectados. El aprendizaje profundo ha revolucionado campos \\n    como la visión por computadora, el procesamiento de lenguaje natural y el reconocimiento \\n    de voz. Las Redes Neuronales Convolucionales (CNN) son particularmente efectivas para'),\n",
       " Document(metadata={'source': 'C:\\\\Users\\\\raule\\\\AppData\\\\Local\\\\Temp\\\\tmp7yg3sy23\\\\doc_1.txt'}, page_content='(CNN) son particularmente efectivas para \\n    el procesamiento de imágenes, mientras que las Redes Neuronales Recurrentes (RNN) y \\n    los Transformers destacan en el procesamiento de datos secuenciales.')]"
      ]
     },
     "execution_count": 35,
     "metadata": {},
     "output_type": "execute_result"
    }
   ],
   "source": [
    "# Probar otra consulta sobre Procesamiento de Lenguaje Natural\n",
    "query = \"¿Qué es el PLN?\"\n",
    "\n",
    "# Buscar documentos relacionados con PLN\n",
    "similar_docs = vectorstore.similarity_search(query, k=3)\n",
    "similar_docs"
   ]
  },
  {
   "cell_type": "code",
   "execution_count": 36,
   "id": "d1ad450c",
   "metadata": {},
   "outputs": [
    {
     "data": {
      "text/plain": [
       "[Document(metadata={'source': 'C:\\\\Users\\\\raule\\\\AppData\\\\Local\\\\Temp\\\\tmp7yg3sy23\\\\doc_1.txt'}, page_content='Aprendizaje Profundo y Redes Neuronales\\n\\n    El aprendizaje profundo es un subconjunto del aprendizaje automático basado en redes \\n    neuronales artificiales. Estas redes están inspiradas en el cerebro humano y consisten \\n    en capas de nodos interconectados. El aprendizaje profundo ha revolucionado campos \\n    como la visión por computadora, el procesamiento de lenguaje natural y el reconocimiento \\n    de voz. Las Redes Neuronales Convolucionales (CNN) son particularmente efectivas para'),\n",
       " Document(metadata={'source': 'C:\\\\Users\\\\raule\\\\AppData\\\\Local\\\\Temp\\\\tmp7yg3sy23\\\\doc_0.txt'}, page_content='Fundamentos del Aprendizaje Automático (Machine Learning)\\n\\n    El aprendizaje automático es un subconjunto de la inteligencia artificial que permite \\n    a los sistemas aprender y mejorar a partir de la experiencia sin ser programados \\n    explícitamente. Hay tres tipos principales de aprendizaje automático: aprendizaje \\n    supervisado, aprendizaje no supervisado y aprendizaje por refuerzo. El aprendizaje \\n    supervisado utiliza datos etiquetados para entrenar modelos, mientras que el'),\n",
       " Document(metadata={'source': 'C:\\\\Users\\\\raule\\\\AppData\\\\Local\\\\Temp\\\\tmp7yg3sy23\\\\doc_0.txt'}, page_content='para entrenar modelos, mientras que el \\n    aprendizaje no supervisado encuentra patrones en datos no etiquetados. El aprendizaje \\n    por refuerzo aprende a través de la interacción con un entorno utilizando recompensas \\n    y penalizaciones.')]"
      ]
     },
     "execution_count": 36,
     "metadata": {},
     "output_type": "execute_result"
    }
   ],
   "source": [
    "# Probar consulta sobre Aprendizaje Profundo\n",
    "query = \"¿Qué es el Aprendizaje Profundo?\"\n",
    "\n",
    "# Buscar documentos relacionados con Deep Learning\n",
    "similar_docs = vectorstore.similarity_search(query, k=3)\n",
    "similar_docs"
   ]
  },
  {
   "cell_type": "code",
   "execution_count": 37,
   "id": "af936dba",
   "metadata": {},
   "outputs": [
    {
     "name": "stdout",
     "output_type": "stream",
     "text": [
      "Consulta: ¿Qué es el Aprendizaje Profundo?\n",
      "\n",
      "Los 3 chunks más similares:\n",
      "\n",
      "--- Chunk 1 ---\n",
      "Aprendizaje Profundo y Redes Neuronales\n",
      "\n",
      "    El aprendizaje profundo es un subconjunto del aprendizaje automático basado en redes \n",
      "    neuronales artificiales. Estas redes están inspiradas en el cereb...\n",
      "Fuente: C:\\Users\\raule\\AppData\\Local\\Temp\\tmp7yg3sy23\\doc_1.txt\n",
      "\n",
      "--- Chunk 2 ---\n",
      "Fundamentos del Aprendizaje Automático (Machine Learning)\n",
      "\n",
      "    El aprendizaje automático es un subconjunto de la inteligencia artificial que permite \n",
      "    a los sistemas aprender y mejorar a partir de ...\n",
      "Fuente: C:\\Users\\raule\\AppData\\Local\\Temp\\tmp7yg3sy23\\doc_0.txt\n",
      "\n",
      "--- Chunk 3 ---\n",
      "para entrenar modelos, mientras que el \n",
      "    aprendizaje no supervisado encuentra patrones en datos no etiquetados. El aprendizaje \n",
      "    por refuerzo aprende a través de la interacción con un entorno ut...\n",
      "Fuente: C:\\Users\\raule\\AppData\\Local\\Temp\\tmp7yg3sy23\\doc_0.txt\n"
     ]
    }
   ],
   "source": [
    "# Mostrar los resultados de búsqueda de manera más legible\n",
    "print(f\"Consulta: {query}\")\n",
    "print(f\"\\nLos {len(similar_docs)} chunks más similares:\")\n",
    "\n",
    "for i, doc in enumerate(similar_docs):\n",
    "    print(f\"\\n--- Chunk {i+1} ---\")\n",
    "    print(doc.page_content[:200] + \"...\")  # Mostrar solo los primeros 200 caracteres\n",
    "    print(f\"Fuente: {doc.metadata.get('source', 'Desconocida')}\")"
   ]
  },
  {
   "cell_type": "markdown",
   "id": "af96130b",
   "metadata": {},
   "source": [
    "### 7. Búsqueda por Similitud Avanzada con Puntuaciones"
   ]
  },
  {
   "cell_type": "code",
   "execution_count": 39,
   "id": "2a05714c",
   "metadata": {},
   "outputs": [
    {
     "data": {
      "text/plain": [
       "[(Document(metadata={'source': 'C:\\\\Users\\\\raule\\\\AppData\\\\Local\\\\Temp\\\\tmp7yg3sy23\\\\doc_1.txt'}, page_content='Aprendizaje Profundo y Redes Neuronales\\n\\n    El aprendizaje profundo es un subconjunto del aprendizaje automático basado en redes \\n    neuronales artificiales. Estas redes están inspiradas en el cerebro humano y consisten \\n    en capas de nodos interconectados. El aprendizaje profundo ha revolucionado campos \\n    como la visión por computadora, el procesamiento de lenguaje natural y el reconocimiento \\n    de voz. Las Redes Neuronales Convolucionales (CNN) son particularmente efectivas para'),\n",
       "  0.23319245874881744),\n",
       " (Document(metadata={'source': 'C:\\\\Users\\\\raule\\\\AppData\\\\Local\\\\Temp\\\\tmp7yg3sy23\\\\doc_0.txt'}, page_content='Fundamentos del Aprendizaje Automático (Machine Learning)\\n\\n    El aprendizaje automático es un subconjunto de la inteligencia artificial que permite \\n    a los sistemas aprender y mejorar a partir de la experiencia sin ser programados \\n    explícitamente. Hay tres tipos principales de aprendizaje automático: aprendizaje \\n    supervisado, aprendizaje no supervisado y aprendizaje por refuerzo. El aprendizaje \\n    supervisado utiliza datos etiquetados para entrenar modelos, mientras que el'),\n",
       "  0.3524824380874634),\n",
       " (Document(metadata={'source': 'C:\\\\Users\\\\raule\\\\AppData\\\\Local\\\\Temp\\\\tmp7yg3sy23\\\\doc_0.txt'}, page_content='para entrenar modelos, mientras que el \\n    aprendizaje no supervisado encuentra patrones en datos no etiquetados. El aprendizaje \\n    por refuerzo aprende a través de la interacción con un entorno utilizando recompensas \\n    y penalizaciones.'),\n",
       "  0.4296818971633911)]"
      ]
     },
     "execution_count": 39,
     "metadata": {},
     "output_type": "execute_result"
    }
   ],
   "source": [
    "# Búsqueda con puntuaciones de similitud para evaluar qué tan relevantes son los resultados\n",
    "results_scores = vectorstore.similarity_search_with_score(query, k=3)\n",
    "results_scores  # Mostrar documentos con sus puntuaciones de similitud"
   ]
  },
  {
   "cell_type": "markdown",
   "id": "93fa87ef",
   "metadata": {},
   "source": [
    "#### Entendiendo las Puntuaciones de Similitud\n",
    "\n",
    "La puntuación de similitud representa qué tan relacionado está un chunk de documento con tu consulta. La puntuación depende de la métrica de distancia utilizada:\n",
    "\n",
    "**ChromaDB por defecto: Usa distancia L2 (distancia Euclidiana)**\n",
    "- Puntuaciones más bajas = MÁS similar (más cerca en el espacio vectorial)\n",
    "- Puntuación de 0 = vectores idénticos\n",
    "- Rango típico: 0 a 2 (pero puede ser mayor)\n",
    "\n",
    "**Similitud coseno (si se configura):**\n",
    "- Puntuaciones más altas = MÁS similar\n",
    "- Rango: -1 a 1 (1 siendo idéntico)"
   ]
  },
  {
   "cell_type": "markdown",
   "id": "2f98d2c5",
   "metadata": {},
   "source": [
    "### 8. Inicializar LLM, Cadena RAG, Plantilla de Prompt y Consultar el Sistema RAG"
   ]
  },
  {
   "cell_type": "code",
   "execution_count": 40,
   "id": "e11208d8",
   "metadata": {},
   "outputs": [],
   "source": [
    "# Inicializar el modelo de lenguaje de OpenAI para generar respuestas\n",
    "from langchain_openai import ChatOpenAI\n",
    "\n",
    "llm = ChatOpenAI(\n",
    "    model_name=\"gpt-3.5-turbo\"  # Usar GPT-3.5 Turbo para respuestas rápidas y económicas\n",
    ")"
   ]
  },
  {
   "cell_type": "code",
   "execution_count": 41,
   "id": "318caf0c",
   "metadata": {},
   "outputs": [
    {
     "data": {
      "text/plain": [
       "AIMessage(content='Los Modelos de Lenguaje Grandes, también conocidos como Modelos de Lenguaje de Gran Escala, son modelos de inteligencia artificial diseñados para procesar y comprender el lenguaje humano a gran escala. Estos modelos utilizan técnicas de aprendizaje automático y procesamiento del lenguaje natural para analizar, generar y entender texto de manera más avanzada que los modelos tradicionales.\\n\\nEstos modelos utilizan grandes cantidades de datos de texto para entrenarse y aprender patrones lingüísticos y contextuales con el fin de mejorar su capacidad para entender y generar texto de manera más precisa y coherente. Algunos ejemplos de Modelos de Lenguaje Grandes son GPT-3 de OpenAI y BERT de Google. Estos modelos han demostrado ser muy útiles en una amplia gama de aplicaciones, como la traducción automática, la generación de texto y el análisis de sentimientos, entre otros.', additional_kwargs={'refusal': None}, response_metadata={'token_usage': {'completion_tokens': 210, 'prompt_tokens': 20, 'total_tokens': 230, 'completion_tokens_details': {'accepted_prediction_tokens': 0, 'audio_tokens': 0, 'reasoning_tokens': 0, 'rejected_prediction_tokens': 0}, 'prompt_tokens_details': {'audio_tokens': 0, 'cached_tokens': 0}}, 'model_name': 'gpt-3.5-turbo-0125', 'system_fingerprint': None, 'id': 'chatcmpl-COkGwgxk0XSffjf0Y6vqctsbW6pME', 'service_tier': 'default', 'finish_reason': 'stop', 'logprobs': None}, id='run--1e2db192-14c6-4bd2-a105-1d6cf2fc3d4f-0', usage_metadata={'input_tokens': 20, 'output_tokens': 210, 'total_tokens': 230, 'input_token_details': {'audio': 0, 'cache_read': 0}, 'output_token_details': {'audio': 0, 'reasoning': 0}})"
      ]
     },
     "execution_count": 41,
     "metadata": {},
     "output_type": "execute_result"
    }
   ],
   "source": [
    "# Probar el LLM con una consulta simple\n",
    "test_response = llm.invoke(\"¿Qué son los Modelos de Lenguaje Grandes?\")\n",
    "test_response  # Mostrar la respuesta del modelo"
   ]
  },
  {
   "cell_type": "code",
   "execution_count": 42,
   "id": "155ed230",
   "metadata": {},
   "outputs": [
    {
     "data": {
      "text/plain": [
       "ChatOpenAI(client=<openai.resources.chat.completions.completions.Completions object at 0x0000021536BDB320>, async_client=<openai.resources.chat.completions.completions.AsyncCompletions object at 0x0000021536BECC80>, root_client=<openai.OpenAI object at 0x0000021536BD8770>, root_async_client=<openai.AsyncOpenAI object at 0x0000021536BDB920>, model_kwargs={}, openai_api_key=SecretStr('**********'), stream_usage=True)"
      ]
     },
     "execution_count": 42,
     "metadata": {},
     "output_type": "execute_result"
    }
   ],
   "source": [
    "# Método alternativo para inicializar modelos de chat\n",
    "from langchain.chat_models.base import init_chat_model\n",
    "\n",
    "llm = init_chat_model(\"openai:gpt-3.5-turbo\")  # Inicializar usando string de configuración\n",
    "# llm = init_chat_model(\"groq:\")  # Alternativa con Groq (comentado)\n",
    "llm  # Mostrar configuración del modelo"
   ]
  },
  {
   "cell_type": "code",
   "execution_count": 43,
   "id": "4d478885",
   "metadata": {},
   "outputs": [
    {
     "data": {
      "text/plain": [
       "AIMessage(content='La Inteligencia Artificial es una rama de la tecnología que se enfoca en el diseño y desarrollo de sistemas y programas informáticos capaces de realizar tareas que normalmente requieren de la inteligencia humana, como el aprendizaje, la resolución de problemas, el reconocimiento de patrones y la toma de decisiones. Estos sistemas utilizan algoritmos y técnicas avanzadas de procesamiento de datos para simular la inteligencia humana en máquinas y lograr que estas puedan aprender y adaptarse a diferentes situaciones de manera autónoma.', additional_kwargs={'refusal': None}, response_metadata={'token_usage': {'completion_tokens': 124, 'prompt_tokens': 16, 'total_tokens': 140, 'completion_tokens_details': {'accepted_prediction_tokens': 0, 'audio_tokens': 0, 'reasoning_tokens': 0, 'rejected_prediction_tokens': 0}, 'prompt_tokens_details': {'audio_tokens': 0, 'cached_tokens': 0}}, 'model_name': 'gpt-3.5-turbo-0125', 'system_fingerprint': None, 'id': 'chatcmpl-COkHWT6HBcQQhIE2QwcgRAZqZLohU', 'service_tier': 'default', 'finish_reason': 'stop', 'logprobs': None}, id='run--27726924-c391-41a1-a16f-ea8cf80de861-0', usage_metadata={'input_tokens': 16, 'output_tokens': 124, 'total_tokens': 140, 'input_token_details': {'audio': 0, 'cache_read': 0}, 'output_token_details': {'audio': 0, 'reasoning': 0}})"
      ]
     },
     "execution_count": 43,
     "metadata": {},
     "output_type": "execute_result"
    }
   ],
   "source": [
    "# Probar el modelo con otra consulta\n",
    "llm.invoke(\"¿Qué es la Inteligencia Artificial?\")"
   ]
  },
  {
   "cell_type": "markdown",
   "id": "ef478ac6",
   "metadata": {},
   "source": [
    "### 9. Cadena RAG Moderna"
   ]
  },
  {
   "cell_type": "code",
   "execution_count": 44,
   "id": "1d2fce8f",
   "metadata": {},
   "outputs": [],
   "source": [
    "# Importar componentes necesarios para crear la cadena RAG moderna\n",
    "from langchain.chains import create_retrieval_chain  # Para crear cadena de recuperación\n",
    "from langchain_core.prompts import ChatPromptTemplate  # Para plantillas de prompts\n",
    "from langchain.chains.combine_documents import create_stuff_documents_chain  # Para combinar documentos"
   ]
  },
  {
   "cell_type": "code",
   "execution_count": 45,
   "id": "a72069a5",
   "metadata": {},
   "outputs": [
    {
     "data": {
      "text/plain": [
       "VectorStoreRetriever(tags=['Chroma', 'OpenAIEmbeddings'], vectorstore=<langchain_community.vectorstores.chroma.Chroma object at 0x00000215333270B0>, search_kwargs={})"
      ]
     },
     "execution_count": 45,
     "metadata": {},
     "output_type": "execute_result"
    }
   ],
   "source": [
    "# Convertir el almacén vectorial en un recuperador (retriever)\n",
    "retriever = vectorstore.as_retriever(\n",
    "    search_kwarg={\"k\": 3}  # Recuperar los 3 chunks más relevantes por defecto\n",
    ")\n",
    "retriever  # Mostrar configuración del recuperador"
   ]
  },
  {
   "cell_type": "code",
   "execution_count": 46,
   "id": "20c9ffd3",
   "metadata": {},
   "outputs": [],
   "source": [
    "# Crear una plantilla de prompt para el sistema RAG\n",
    "from langchain_core.prompts import ChatPromptTemplate\n",
    "\n",
    "system_prompt = \"\"\"Eres un asistente para tareas de responder preguntas. \n",
    "Usa los siguientes fragmentos de contexto recuperado para responder la pregunta. \n",
    "Si no conoces la respuesta, simplemente di que no lo sabes. \n",
    "Usa máximo tres oraciones y mantén la respuesta concisa.\n",
    "\n",
    "Contexto: {context}\"\"\"\n",
    "\n",
    "# Crear la plantilla de prompt con mensaje de sistema y humano\n",
    "prompt = ChatPromptTemplate.from_messages([\n",
    "    (\"system\", system_prompt),  # Instrucciones del sistema\n",
    "    (\"human\", \"{input}\")  # Input del usuario\n",
    "])"
   ]
  },
  {
   "cell_type": "code",
   "execution_count": 47,
   "id": "5beb8805",
   "metadata": {},
   "outputs": [
    {
     "data": {
      "text/plain": [
       "ChatPromptTemplate(input_variables=['context', 'input'], input_types={}, partial_variables={}, messages=[SystemMessagePromptTemplate(prompt=PromptTemplate(input_variables=['context'], input_types={}, partial_variables={}, template='Eres un asistente para tareas de responder preguntas. \\nUsa los siguientes fragmentos de contexto recuperado para responder la pregunta. \\nSi no conoces la respuesta, simplemente di que no lo sabes. \\nUsa máximo tres oraciones y mantén la respuesta concisa.\\n\\nContexto: {context}'), additional_kwargs={}), HumanMessagePromptTemplate(prompt=PromptTemplate(input_variables=['input'], input_types={}, partial_variables={}, template='{input}'), additional_kwargs={})])"
      ]
     },
     "execution_count": 47,
     "metadata": {},
     "output_type": "execute_result"
    }
   ],
   "source": [
    "# Mostrar la configuración del prompt\n",
    "prompt"
   ]
  },
  {
   "cell_type": "markdown",
   "id": "9c970780",
   "metadata": {},
   "source": [
    "##### ¿Qué es create_stuff_documents_chain?\n",
    "create_stuff_documents_chain crea una cadena que \"rellena\" (inserta) todos los documentos recuperados en un solo prompt y lo envía al LLM. Se llama \"stuff\" porque literalmente rellena todos los documentos en la ventana de contexto de una vez."
   ]
  },
  {
   "cell_type": "code",
   "execution_count": 48,
   "id": "a79afdd0",
   "metadata": {},
   "outputs": [
    {
     "data": {
      "text/plain": [
       "RunnableBinding(bound=RunnableBinding(bound=RunnableAssign(mapper={\n",
       "  context: RunnableLambda(format_docs)\n",
       "}), kwargs={}, config={'run_name': 'format_inputs'}, config_factories=[])\n",
       "| ChatPromptTemplate(input_variables=['context', 'input'], input_types={}, partial_variables={}, messages=[SystemMessagePromptTemplate(prompt=PromptTemplate(input_variables=['context'], input_types={}, partial_variables={}, template='Eres un asistente para tareas de responder preguntas. \\nUsa los siguientes fragmentos de contexto recuperado para responder la pregunta. \\nSi no conoces la respuesta, simplemente di que no lo sabes. \\nUsa máximo tres oraciones y mantén la respuesta concisa.\\n\\nContexto: {context}'), additional_kwargs={}), HumanMessagePromptTemplate(prompt=PromptTemplate(input_variables=['input'], input_types={}, partial_variables={}, template='{input}'), additional_kwargs={})])\n",
       "| ChatOpenAI(client=<openai.resources.chat.completions.completions.Completions object at 0x0000021536BDB320>, async_client=<openai.resources.chat.completions.completions.AsyncCompletions object at 0x0000021536BECC80>, root_client=<openai.OpenAI object at 0x0000021536BD8770>, root_async_client=<openai.AsyncOpenAI object at 0x0000021536BDB920>, model_kwargs={}, openai_api_key=SecretStr('**********'), stream_usage=True)\n",
       "| StrOutputParser(), kwargs={}, config={'run_name': 'stuff_documents_chain'}, config_factories=[])"
      ]
     },
     "execution_count": 48,
     "metadata": {},
     "output_type": "execute_result"
    }
   ],
   "source": [
    "# Crear una cadena de documentos que combina el LLM con el prompt\n",
    "from langchain.chains.combine_documents import create_stuff_documents_chain\n",
    "document_chain = create_stuff_documents_chain(llm, prompt)\n",
    "document_chain  # Mostrar la cadena creada"
   ]
  },
  {
   "cell_type": "markdown",
   "id": "bf2630f2",
   "metadata": {},
   "source": [
    "Esta cadena:\n",
    "\n",
    "- Toma los documentos recuperados\n",
    "- Los \"rellena\" en el marcador de posición {context} del prompt\n",
    "- Envía el prompt completo al LLM\n",
    "- Devuelve la respuesta del LLM"
   ]
  },
  {
   "cell_type": "markdown",
   "id": "f1d67cf5",
   "metadata": {},
   "source": [
    "#### ¿Qué es create_retrieval_chain?\n",
    "create_retrieval_chain es una función que combina un recuperador (que busca documentos relevantes) con una cadena de documentos (que procesa esos documentos con un LLM) para crear un pipeline RAG completo."
   ]
  },
  {
   "cell_type": "code",
   "execution_count": 49,
   "id": "21706431",
   "metadata": {},
   "outputs": [
    {
     "data": {
      "text/plain": [
       "RunnableBinding(bound=RunnableAssign(mapper={\n",
       "  context: RunnableBinding(bound=RunnableLambda(lambda x: x['input'])\n",
       "           | VectorStoreRetriever(tags=['Chroma', 'OpenAIEmbeddings'], vectorstore=<langchain_community.vectorstores.chroma.Chroma object at 0x00000215333270B0>, search_kwargs={}), kwargs={}, config={'run_name': 'retrieve_documents'}, config_factories=[])\n",
       "})\n",
       "| RunnableAssign(mapper={\n",
       "    answer: RunnableBinding(bound=RunnableBinding(bound=RunnableAssign(mapper={\n",
       "              context: RunnableLambda(format_docs)\n",
       "            }), kwargs={}, config={'run_name': 'format_inputs'}, config_factories=[])\n",
       "            | ChatPromptTemplate(input_variables=['context', 'input'], input_types={}, partial_variables={}, messages=[SystemMessagePromptTemplate(prompt=PromptTemplate(input_variables=['context'], input_types={}, partial_variables={}, template='Eres un asistente para tareas de responder preguntas. \\nUsa los siguientes fragmentos de contexto recuperado para responder la pregunta. \\nSi no conoces la respuesta, simplemente di que no lo sabes. \\nUsa máximo tres oraciones y mantén la respuesta concisa.\\n\\nContexto: {context}'), additional_kwargs={}), HumanMessagePromptTemplate(prompt=PromptTemplate(input_variables=['input'], input_types={}, partial_variables={}, template='{input}'), additional_kwargs={})])\n",
       "            | ChatOpenAI(client=<openai.resources.chat.completions.completions.Completions object at 0x0000021536BDB320>, async_client=<openai.resources.chat.completions.completions.AsyncCompletions object at 0x0000021536BECC80>, root_client=<openai.OpenAI object at 0x0000021536BD8770>, root_async_client=<openai.AsyncOpenAI object at 0x0000021536BDB920>, model_kwargs={}, openai_api_key=SecretStr('**********'), stream_usage=True)\n",
       "            | StrOutputParser(), kwargs={}, config={'run_name': 'stuff_documents_chain'}, config_factories=[])\n",
       "  }), kwargs={}, config={'run_name': 'retrieval_chain'}, config_factories=[])"
      ]
     },
     "execution_count": 49,
     "metadata": {},
     "output_type": "execute_result"
    }
   ],
   "source": [
    "# Crear la cadena RAG final combinando recuperador y cadena de documentos\n",
    "from langchain.chains import create_retrieval_chain\n",
    "rag_chain = create_retrieval_chain(retriever, document_chain)\n",
    "rag_chain  # Mostrar la cadena RAG completa"
   ]
  },
  {
   "cell_type": "code",
   "execution_count": null,
   "id": "e2294a3e",
   "metadata": {},
   "outputs": [],
   "source": []
  },
  {
   "cell_type": "code",
   "execution_count": 50,
   "id": "f7a92b1a",
   "metadata": {},
   "outputs": [],
   "source": [
    "# Probar la cadena RAG con una consulta\n",
    "response = rag_chain.invoke({\"input\": \"¿Qué es el Aprendizaje Profundo?\"})"
   ]
  },
  {
   "cell_type": "code",
   "execution_count": 51,
   "id": "36712cd0",
   "metadata": {},
   "outputs": [
    {
     "data": {
      "text/plain": [
       "{'input': '¿Qué es el Aprendizaje Profundo?',\n",
       " 'context': [Document(metadata={'source': 'C:\\\\Users\\\\raule\\\\AppData\\\\Local\\\\Temp\\\\tmp7yg3sy23\\\\doc_1.txt'}, page_content='Aprendizaje Profundo y Redes Neuronales\\n\\n    El aprendizaje profundo es un subconjunto del aprendizaje automático basado en redes \\n    neuronales artificiales. Estas redes están inspiradas en el cerebro humano y consisten \\n    en capas de nodos interconectados. El aprendizaje profundo ha revolucionado campos \\n    como la visión por computadora, el procesamiento de lenguaje natural y el reconocimiento \\n    de voz. Las Redes Neuronales Convolucionales (CNN) son particularmente efectivas para'),\n",
       "  Document(metadata={'source': 'C:\\\\Users\\\\raule\\\\AppData\\\\Local\\\\Temp\\\\tmp7yg3sy23\\\\doc_0.txt'}, page_content='Fundamentos del Aprendizaje Automático (Machine Learning)\\n\\n    El aprendizaje automático es un subconjunto de la inteligencia artificial que permite \\n    a los sistemas aprender y mejorar a partir de la experiencia sin ser programados \\n    explícitamente. Hay tres tipos principales de aprendizaje automático: aprendizaje \\n    supervisado, aprendizaje no supervisado y aprendizaje por refuerzo. El aprendizaje \\n    supervisado utiliza datos etiquetados para entrenar modelos, mientras que el'),\n",
       "  Document(metadata={'source': 'C:\\\\Users\\\\raule\\\\AppData\\\\Local\\\\Temp\\\\tmp7yg3sy23\\\\doc_0.txt'}, page_content='para entrenar modelos, mientras que el \\n    aprendizaje no supervisado encuentra patrones en datos no etiquetados. El aprendizaje \\n    por refuerzo aprende a través de la interacción con un entorno utilizando recompensas \\n    y penalizaciones.'),\n",
       "  Document(metadata={'source': 'C:\\\\Users\\\\raule\\\\AppData\\\\Local\\\\Temp\\\\tmp7yg3sy23\\\\doc_2.txt'}, page_content='Procesamiento de Lenguaje Natural (PLN)\\n\\n    El PLN es un campo de la IA que se enfoca en la interacción entre computadoras y \\n    lenguaje humano. Las tareas clave en PLN incluyen clasificación de texto, \\n    reconocimiento de entidades nombradas, análisis de sentimientos, traducción automática \\n    y respuesta a preguntas. El PLN moderno depende en gran medida de arquitecturas \\n    transformer como BERT, GPT y T5. Estos modelos utilizan mecanismos de atención para \\n    entender el')],\n",
       " 'answer': 'El aprendizaje profundo es un subconjunto del aprendizaje automático basado en redes neuronales artificiales con múltiples capas de nodos interconectados. Se ha usado para revolucionar campos como la visión por computadora, el procesamiento de lenguaje natural y el reconocimiento de voz.'}"
      ]
     },
     "execution_count": 51,
     "metadata": {},
     "output_type": "execute_result"
    }
   ],
   "source": [
    "# Mostrar la respuesta completa (incluye input, contexto y respuesta)\n",
    "response"
   ]
  },
  {
   "cell_type": "code",
   "execution_count": 52,
   "id": "643b720e",
   "metadata": {},
   "outputs": [
    {
     "data": {
      "text/plain": [
       "'El aprendizaje profundo es un subconjunto del aprendizaje automático basado en redes neuronales artificiales con múltiples capas de nodos interconectados. Se ha usado para revolucionar campos como la visión por computadora, el procesamiento de lenguaje natural y el reconocimiento de voz.'"
      ]
     },
     "execution_count": 52,
     "metadata": {},
     "output_type": "execute_result"
    }
   ],
   "source": [
    "# Extraer solo la respuesta del sistema RAG\n",
    "response['answer']"
   ]
  },
  {
   "cell_type": "code",
   "execution_count": 53,
   "id": "cd9528d5",
   "metadata": {},
   "outputs": [
    {
     "name": "stdout",
     "output_type": "stream",
     "text": [
      "Pregunta: ¿Cuáles son los tres tipos de aprendizaje automático?\n",
      "--------------------------------------------------\n",
      "Respuesta: Los tres tipos principales de aprendizaje automático son: aprendizaje supervisado, aprendizaje no supervisado y aprendizaje por refuerzo.\n",
      "\n",
      "Contexto Recuperado:\n",
      "\n",
      "--- Fuente 1 ---\n",
      "Fundamentos del Aprendizaje Automático (Machine Learning)\n",
      "\n",
      "    El aprendizaje automático es un subconjunto de la inteligencia artificial que permite \n",
      "    a los sistemas aprender y mejorar a partir de ...\n",
      "\n",
      "--- Fuente 2 ---\n",
      "Aprendizaje Profundo y Redes Neuronales\n",
      "\n",
      "    El aprendizaje profundo es un subconjunto del aprendizaje automático basado en redes \n",
      "    neuronales artificiales. Estas redes están inspiradas en el cereb...\n",
      "\n",
      "--- Fuente 3 ---\n",
      "para entrenar modelos, mientras que el \n",
      "    aprendizaje no supervisado encuentra patrones en datos no etiquetados. El aprendizaje \n",
      "    por refuerzo aprende a través de la interacción con un entorno ut...\n",
      "\n",
      "--- Fuente 4 ---\n",
      "(CNN) son particularmente efectivas para \n",
      "    el procesamiento de imágenes, mientras que las Redes Neuronales Recurrentes (RNN) y \n",
      "    los Transformers destacan en el procesamiento de datos secuencial...\n",
      "\n",
      "================================================================================\n",
      "\n",
      "Pregunta: ¿Qué es el aprendizaje profundo y cómo se relaciona con las redes neuronales?\n",
      "--------------------------------------------------\n",
      "Respuesta: El aprendizaje profundo es un subconjunto del aprendizaje automático basado en redes neuronales artificiales. Estas redes están inspiradas en el cerebro humano y consisten en capas de nodos interconectados.\n",
      "\n",
      "Contexto Recuperado:\n",
      "\n",
      "--- Fuente 1 ---\n",
      "Aprendizaje Profundo y Redes Neuronales\n",
      "\n",
      "    El aprendizaje profundo es un subconjunto del aprendizaje automático basado en redes \n",
      "    neuronales artificiales. Estas redes están inspiradas en el cereb...\n",
      "\n",
      "--- Fuente 2 ---\n",
      "(CNN) son particularmente efectivas para \n",
      "    el procesamiento de imágenes, mientras que las Redes Neuronales Recurrentes (RNN) y \n",
      "    los Transformers destacan en el procesamiento de datos secuencial...\n",
      "\n",
      "--- Fuente 3 ---\n",
      "Fundamentos del Aprendizaje Automático (Machine Learning)\n",
      "\n",
      "    El aprendizaje automático es un subconjunto de la inteligencia artificial que permite \n",
      "    a los sistemas aprender y mejorar a partir de ...\n",
      "\n",
      "--- Fuente 4 ---\n",
      "para entrenar modelos, mientras que el \n",
      "    aprendizaje no supervisado encuentra patrones en datos no etiquetados. El aprendizaje \n",
      "    por refuerzo aprende a través de la interacción con un entorno ut...\n",
      "\n",
      "================================================================================\n",
      "\n",
      "Pregunta: ¿Para qué se usan mejor las CNN?\n",
      "--------------------------------------------------\n",
      "Respuesta: Las Redes Neuronales Convolucionales (CNN) son particularmente efectivas para el procesamiento de imágenes.\n",
      "\n",
      "Contexto Recuperado:\n",
      "\n",
      "--- Fuente 1 ---\n",
      "(CNN) son particularmente efectivas para \n",
      "    el procesamiento de imágenes, mientras que las Redes Neuronales Recurrentes (RNN) y \n",
      "    los Transformers destacan en el procesamiento de datos secuencial...\n",
      "\n",
      "--- Fuente 2 ---\n",
      "Aprendizaje Profundo y Redes Neuronales\n",
      "\n",
      "    El aprendizaje profundo es un subconjunto del aprendizaje automático basado en redes \n",
      "    neuronales artificiales. Estas redes están inspiradas en el cereb...\n",
      "\n",
      "--- Fuente 3 ---\n",
      "para entrenar modelos, mientras que el \n",
      "    aprendizaje no supervisado encuentra patrones en datos no etiquetados. El aprendizaje \n",
      "    por refuerzo aprende a través de la interacción con un entorno ut...\n",
      "\n",
      "--- Fuente 4 ---\n",
      "mecanismos de atención para \n",
      "    entender el contexto y las relaciones entre palabras en el texto....\n",
      "\n",
      "================================================================================\n",
      "\n"
     ]
    }
   ],
   "source": [
    "# Función para consultar el sistema RAG moderno de manera más organizada\n",
    "def query_rag_modern(question):\n",
    "    \"\"\"\n",
    "    Función que consulta el sistema RAG y muestra resultados de forma legible\n",
    "    \"\"\"\n",
    "    print(f\"Pregunta: {question}\")\n",
    "    print(\"-\" * 50)\n",
    "    \n",
    "    # Usar la cadena RAG para obtener respuesta\n",
    "    result = rag_chain.invoke({\"input\": question})\n",
    "    \n",
    "    print(f\"Respuesta: {result['answer']}\")\n",
    "    print(\"\\nContexto Recuperado:\")\n",
    "    for i, doc in enumerate(result['context']):\n",
    "        print(f\"\\n--- Fuente {i+1} ---\")\n",
    "        print(doc.page_content[:200] + \"...\")\n",
    "    \n",
    "    return result\n",
    "\n",
    "# Preguntas de prueba para evaluar el sistema\n",
    "test_questions = [\n",
    "    \"¿Cuáles son los tres tipos de aprendizaje automático?\",\n",
    "    \"¿Qué es el aprendizaje profundo y cómo se relaciona con las redes neuronales?\",\n",
    "    \"¿Para qué se usan mejor las CNN?\"\n",
    "]\n",
    "\n",
    "# Probar cada pregunta\n",
    "for question in test_questions:\n",
    "    result = query_rag_modern(question)\n",
    "    print(\"\\n\" + \"=\"*80 + \"\\n\")"
   ]
  },
  {
   "cell_type": "markdown",
   "id": "cb95621f",
   "metadata": {},
   "source": [
    "### 10. Crear Cadena RAG Alternativa - Usando LCEL (Lenguaje de Expresión de LangChain)"
   ]
  },
  {
   "cell_type": "code",
   "execution_count": 54,
   "id": "2648ce74",
   "metadata": {},
   "outputs": [],
   "source": [
    "# Enfoque más flexible usando LCEL (LangChain Expression Language)\n",
    "from langchain_core.output_parsers import StrOutputParser  # Para convertir salida a string\n",
    "from langchain_core.runnables import RunnablePassthrough, RunnableParallel  # Para operaciones avanzadas"
   ]
  },
  {
   "cell_type": "code",
   "execution_count": 55,
   "id": "5b38f31a",
   "metadata": {},
   "outputs": [
    {
     "data": {
      "text/plain": [
       "ChatPromptTemplate(input_variables=['context', 'question'], input_types={}, partial_variables={}, messages=[HumanMessagePromptTemplate(prompt=PromptTemplate(input_variables=['context', 'question'], input_types={}, partial_variables={}, template='Usa el siguiente contexto para responder la pregunta. \\nSi no conoces la respuesta basándote en el contexto, di que no lo sabes.\\nProporciona detalles específicos del contexto para respaldar tu respuesta.\\n\\nContexto:\\n{context}\\n\\nPregunta: {question}\\n\\nRespuesta:'), additional_kwargs={})])"
      ]
     },
     "execution_count": 55,
     "metadata": {},
     "output_type": "execute_result"
    }
   ],
   "source": [
    "# Crear un prompt personalizado para LCEL\n",
    "custom_prompt = ChatPromptTemplate.from_template(\"\"\"Usa el siguiente contexto para responder la pregunta. \n",
    "Si no conoces la respuesta basándote en el contexto, di que no lo sabes.\n",
    "Proporciona detalles específicos del contexto para respaldar tu respuesta.\n",
    "\n",
    "Contexto:\n",
    "{context}\n",
    "\n",
    "Pregunta: {question}\n",
    "\n",
    "Respuesta:\"\"\")\n",
    "custom_prompt  # Mostrar la plantilla de prompt personalizada"
   ]
  },
  {
   "cell_type": "code",
   "execution_count": 56,
   "id": "64c39bc3",
   "metadata": {},
   "outputs": [
    {
     "data": {
      "text/plain": [
       "VectorStoreRetriever(tags=['Chroma', 'OpenAIEmbeddings'], vectorstore=<langchain_community.vectorstores.chroma.Chroma object at 0x00000215333270B0>, search_kwargs={})"
      ]
     },
     "execution_count": 56,
     "metadata": {},
     "output_type": "execute_result"
    }
   ],
   "source": [
    "# Verificar el recuperador\n",
    "retriever"
   ]
  },
  {
   "cell_type": "code",
   "execution_count": 57,
   "id": "eb38511d",
   "metadata": {},
   "outputs": [],
   "source": [
    "# Función para formatear los documentos de salida para el prompt\n",
    "def format_docs(docs):\n",
    "    \"\"\"\n",
    "    Combina múltiples documentos en un string único separado por líneas\n",
    "    \"\"\"\n",
    "    return \"\\n\\n\".join(doc.page_content for doc in docs)"
   ]
  },
  {
   "cell_type": "code",
   "execution_count": 58,
   "id": "57ece729",
   "metadata": {},
   "outputs": [
    {
     "data": {
      "text/plain": [
       "{\n",
       "  context: VectorStoreRetriever(tags=['Chroma', 'OpenAIEmbeddings'], vectorstore=<langchain_community.vectorstores.chroma.Chroma object at 0x00000215333270B0>, search_kwargs={})\n",
       "           | RunnableLambda(format_docs),\n",
       "  question: RunnablePassthrough()\n",
       "}\n",
       "| ChatPromptTemplate(input_variables=['context', 'question'], input_types={}, partial_variables={}, messages=[HumanMessagePromptTemplate(prompt=PromptTemplate(input_variables=['context', 'question'], input_types={}, partial_variables={}, template='Usa el siguiente contexto para responder la pregunta. \\nSi no conoces la respuesta basándote en el contexto, di que no lo sabes.\\nProporciona detalles específicos del contexto para respaldar tu respuesta.\\n\\nContexto:\\n{context}\\n\\nPregunta: {question}\\n\\nRespuesta:'), additional_kwargs={})])\n",
       "| ChatOpenAI(client=<openai.resources.chat.completions.completions.Completions object at 0x0000021536BDB320>, async_client=<openai.resources.chat.completions.completions.AsyncCompletions object at 0x0000021536BECC80>, root_client=<openai.OpenAI object at 0x0000021536BD8770>, root_async_client=<openai.AsyncOpenAI object at 0x0000021536BDB920>, model_kwargs={}, openai_api_key=SecretStr('**********'), stream_usage=True)\n",
       "| StrOutputParser()"
      ]
     },
     "execution_count": 58,
     "metadata": {},
     "output_type": "execute_result"
    }
   ],
   "source": [
    "# Construir la cadena usando LCEL (sintaxis más expresiva)\n",
    "rag_chain_lcel = (\n",
    "    { \n",
    "        \"context\": retriever | format_docs,  # Recuperar documentos y formatearlos\n",
    "        \"question\": RunnablePassthrough()  # Pasar la pregunta directamente\n",
    "     }\n",
    "    | custom_prompt  # Aplicar el prompt personalizado\n",
    "    | llm  # Enviar al modelo de lenguaje\n",
    "    | StrOutputParser()  # Convertir salida a string\n",
    ")\n",
    "\n",
    "rag_chain_lcel  # Mostrar la cadena LCEL construida"
   ]
  },
  {
   "cell_type": "code",
   "execution_count": 59,
   "id": "8662d849",
   "metadata": {},
   "outputs": [
    {
     "data": {
      "text/plain": [
       "'El aprendizaje profundo es un subconjunto del aprendizaje automático basado en redes neuronales artificiales. Estas redes están inspiradas en el cerebro humano y consisten en capas de nodos interconectados. El aprendizaje profundo ha revolucionado campos como la visión por computadora, el procesamiento de lenguaje natural y el reconocimiento de voz.'"
      ]
     },
     "execution_count": 59,
     "metadata": {},
     "output_type": "execute_result"
    }
   ],
   "source": [
    "# Probar la cadena LCEL con una consulta\n",
    "response = rag_chain_lcel.invoke(\"¿Qué es el Aprendizaje Profundo?\")\n",
    "response  # Mostrar solo la respuesta (string)"
   ]
  },
  {
   "cell_type": "code",
   "execution_count": 60,
   "id": "156ef293",
   "metadata": {},
   "outputs": [
    {
     "name": "stderr",
     "output_type": "stream",
     "text": [
      "C:\\Users\\raule\\AppData\\Local\\Temp\\ipykernel_20252\\1689932662.py:2: LangChainDeprecationWarning: The method `BaseRetriever.get_relevant_documents` was deprecated in langchain-core 0.1.46 and will be removed in 1.0. Use :meth:`~invoke` instead.\n",
      "  retriever.get_relevant_documents(\"¿Qué es el Aprendizaje Profundo?\")\n"
     ]
    },
    {
     "data": {
      "text/plain": [
       "[Document(metadata={'source': 'C:\\\\Users\\\\raule\\\\AppData\\\\Local\\\\Temp\\\\tmp7yg3sy23\\\\doc_1.txt'}, page_content='Aprendizaje Profundo y Redes Neuronales\\n\\n    El aprendizaje profundo es un subconjunto del aprendizaje automático basado en redes \\n    neuronales artificiales. Estas redes están inspiradas en el cerebro humano y consisten \\n    en capas de nodos interconectados. El aprendizaje profundo ha revolucionado campos \\n    como la visión por computadora, el procesamiento de lenguaje natural y el reconocimiento \\n    de voz. Las Redes Neuronales Convolucionales (CNN) son particularmente efectivas para'),\n",
       " Document(metadata={'source': 'C:\\\\Users\\\\raule\\\\AppData\\\\Local\\\\Temp\\\\tmp7yg3sy23\\\\doc_0.txt'}, page_content='Fundamentos del Aprendizaje Automático (Machine Learning)\\n\\n    El aprendizaje automático es un subconjunto de la inteligencia artificial que permite \\n    a los sistemas aprender y mejorar a partir de la experiencia sin ser programados \\n    explícitamente. Hay tres tipos principales de aprendizaje automático: aprendizaje \\n    supervisado, aprendizaje no supervisado y aprendizaje por refuerzo. El aprendizaje \\n    supervisado utiliza datos etiquetados para entrenar modelos, mientras que el'),\n",
       " Document(metadata={'source': 'C:\\\\Users\\\\raule\\\\AppData\\\\Local\\\\Temp\\\\tmp7yg3sy23\\\\doc_0.txt'}, page_content='para entrenar modelos, mientras que el \\n    aprendizaje no supervisado encuentra patrones en datos no etiquetados. El aprendizaje \\n    por refuerzo aprende a través de la interacción con un entorno utilizando recompensas \\n    y penalizaciones.'),\n",
       " Document(metadata={'source': 'C:\\\\Users\\\\raule\\\\AppData\\\\Local\\\\Temp\\\\tmp7yg3sy23\\\\doc_2.txt'}, page_content='Procesamiento de Lenguaje Natural (PLN)\\n\\n    El PLN es un campo de la IA que se enfoca en la interacción entre computadoras y \\n    lenguaje humano. Las tareas clave en PLN incluyen clasificación de texto, \\n    reconocimiento de entidades nombradas, análisis de sentimientos, traducción automática \\n    y respuesta a preguntas. El PLN moderno depende en gran medida de arquitecturas \\n    transformer como BERT, GPT y T5. Estos modelos utilizan mecanismos de atención para \\n    entender el')]"
      ]
     },
     "execution_count": 60,
     "metadata": {},
     "output_type": "execute_result"
    }
   ],
   "source": [
    "# Obtener documentos relevantes directamente del recuperador (método alternativo)\n",
    "retriever.get_relevant_documents(\"¿Qué es el Aprendizaje Profundo?\")"
   ]
  },
  {
   "cell_type": "code",
   "execution_count": 61,
   "id": "682eb95b",
   "metadata": {},
   "outputs": [],
   "source": [
    "# Función para consultar usando el enfoque LCEL - Versión corregida\n",
    "def query_rag_lcel(question):\n",
    "    \"\"\"\n",
    "    Consulta el sistema RAG usando la cadena LCEL\n",
    "    \"\"\"\n",
    "    print(f\"Pregunta: {question}\")\n",
    "    print(\"-\" * 50)\n",
    "    \n",
    "    # Método 1: Pasar string directamente (cuando se usa RunnablePassthrough)\n",
    "    answer = rag_chain_lcel.invoke(question)\n",
    "    print(f\"Respuesta: {answer}\")\n",
    "    \n",
    "    # Obtener documentos fuente por separado si es necesario\n",
    "    docs = retriever.get_relevant_documents(question)\n",
    "    print(\"\\nDocumentos Fuente:\")\n",
    "    for i, doc in enumerate(docs):\n",
    "        print(f\"\\n--- Fuente {i+1} ---\")\n",
    "        print(doc.page_content[:200] + \"...\")"
   ]
  },
  {
   "cell_type": "code",
   "execution_count": 62,
   "id": "fac30700",
   "metadata": {},
   "outputs": [
    {
     "name": "stdout",
     "output_type": "stream",
     "text": [
      "Probando Cadena LCEL:\n",
      "Pregunta: ¿Cuáles son los conceptos clave en el aprendizaje por refuerzo?\n",
      "--------------------------------------------------\n",
      "Respuesta: Los conceptos clave en el aprendizaje por refuerzo son la interacción con un entorno utilizando recompensas y penalizaciones.\n",
      "\n",
      "Documentos Fuente:\n",
      "\n",
      "--- Fuente 1 ---\n",
      "para entrenar modelos, mientras que el \n",
      "    aprendizaje no supervisado encuentra patrones en datos no etiquetados. El aprendizaje \n",
      "    por refuerzo aprende a través de la interacción con un entorno ut...\n",
      "\n",
      "--- Fuente 2 ---\n",
      "mecanismos de atención para \n",
      "    entender el contexto y las relaciones entre palabras en el texto....\n",
      "\n",
      "--- Fuente 3 ---\n",
      "Fundamentos del Aprendizaje Automático (Machine Learning)\n",
      "\n",
      "    El aprendizaje automático es un subconjunto de la inteligencia artificial que permite \n",
      "    a los sistemas aprender y mejorar a partir de ...\n",
      "\n",
      "--- Fuente 4 ---\n",
      "Aprendizaje Profundo y Redes Neuronales\n",
      "\n",
      "    El aprendizaje profundo es un subconjunto del aprendizaje automático basado en redes \n",
      "    neuronales artificiales. Estas redes están inspiradas en el cereb...\n"
     ]
    }
   ],
   "source": [
    "# Probar la cadena LCEL\n",
    "print(\"Probando Cadena LCEL:\")\n",
    "query_rag_lcel(\"¿Cuáles son los conceptos clave en el aprendizaje por refuerzo?\")"
   ]
  },
  {
   "cell_type": "code",
   "execution_count": 65,
   "id": "d0e5f487",
   "metadata": {},
   "outputs": [
    {
     "name": "stdout",
     "output_type": "stream",
     "text": [
      "Pregunta: Que es el  aprendizaje automatico?\n",
      "--------------------------------------------------\n",
      "Respuesta: El aprendizaje automático es un subconjunto de la inteligencia artificial que permite a los sistemas aprender y mejorar a partir de la experiencia sin ser programados explícitamente. Se basa en el uso de datos para entrenar modelos y hay tres tipos principales de aprendizaje automático: supervisado, no supervisado y por refuerzo.\n",
      "\n",
      "Documentos Fuente:\n",
      "\n",
      "--- Fuente 1 ---\n",
      "Fundamentos del Aprendizaje Automático (Machine Learning)\n",
      "\n",
      "    El aprendizaje automático es un subconjunto de la inteligencia artificial que permite \n",
      "    a los sistemas aprender y mejorar a partir de ...\n",
      "\n",
      "--- Fuente 2 ---\n",
      "Aprendizaje Profundo y Redes Neuronales\n",
      "\n",
      "    El aprendizaje profundo es un subconjunto del aprendizaje automático basado en redes \n",
      "    neuronales artificiales. Estas redes están inspiradas en el cereb...\n",
      "\n",
      "--- Fuente 3 ---\n",
      "para entrenar modelos, mientras que el \n",
      "    aprendizaje no supervisado encuentra patrones en datos no etiquetados. El aprendizaje \n",
      "    por refuerzo aprende a través de la interacción con un entorno ut...\n",
      "\n",
      "--- Fuente 4 ---\n",
      "mecanismos de atención para \n",
      "    entender el contexto y las relaciones entre palabras en el texto....\n"
     ]
    }
   ],
   "source": [
    "query_rag_lcel(\"Que es el  aprendizaje automatico?\")"
   ]
  },
  {
   "cell_type": "code",
   "execution_count": 66,
   "id": "7530816c",
   "metadata": {},
   "outputs": [
    {
     "name": "stdout",
     "output_type": "stream",
     "text": [
      "Pregunta: Que es el  aprendizaje profundo?\n",
      "--------------------------------------------------\n",
      "Respuesta: El aprendizaje profundo es un subconjunto del aprendizaje automático basado en redes neuronales artificiales. Estas redes están inspiradas en el cerebro humano y consisten en capas de nodos interconectados. El aprendizaje profundo ha revolucionado campos como la visión por computadora, el procesamiento de lenguaje natural y el reconocimiento de voz.\n",
      "\n",
      "Documentos Fuente:\n",
      "\n",
      "--- Fuente 1 ---\n",
      "Aprendizaje Profundo y Redes Neuronales\n",
      "\n",
      "    El aprendizaje profundo es un subconjunto del aprendizaje automático basado en redes \n",
      "    neuronales artificiales. Estas redes están inspiradas en el cereb...\n",
      "\n",
      "--- Fuente 2 ---\n",
      "Fundamentos del Aprendizaje Automático (Machine Learning)\n",
      "\n",
      "    El aprendizaje automático es un subconjunto de la inteligencia artificial que permite \n",
      "    a los sistemas aprender y mejorar a partir de ...\n",
      "\n",
      "--- Fuente 3 ---\n",
      "para entrenar modelos, mientras que el \n",
      "    aprendizaje no supervisado encuentra patrones en datos no etiquetados. El aprendizaje \n",
      "    por refuerzo aprende a través de la interacción con un entorno ut...\n",
      "\n",
      "--- Fuente 4 ---\n",
      "mecanismos de atención para \n",
      "    entender el contexto y las relaciones entre palabras en el texto....\n"
     ]
    }
   ],
   "source": [
    "query_rag_lcel(\"Que es el  aprendizaje profundo?\")"
   ]
  },
  {
   "cell_type": "markdown",
   "id": "0869510c",
   "metadata": {},
   "source": [
    "### 11. Agregar Nuevos Documentos al Almacén Vectorial Existente"
   ]
  },
  {
   "cell_type": "code",
   "execution_count": 67,
   "id": "c464cf32",
   "metadata": {},
   "outputs": [
    {
     "data": {
      "text/plain": [
       "<langchain_community.vectorstores.chroma.Chroma at 0x215333270b0>"
      ]
     },
     "execution_count": 67,
     "metadata": {},
     "output_type": "execute_result"
    }
   ],
   "source": [
    "# Verificar el almacén vectorial actual\n",
    "vectorstore"
   ]
  },
  {
   "cell_type": "code",
   "execution_count": 68,
   "id": "5c379255",
   "metadata": {},
   "outputs": [],
   "source": [
    "# Agregar nuevos documentos al almacén vectorial existente\n",
    "new_document = \"\"\"\n",
    "Aprendizaje por Refuerzo en Detalle\n",
    "\n",
    "El aprendizaje por refuerzo (RL) es un tipo de aprendizaje automático donde un agente \n",
    "aprende a tomar decisiones interactuando con un entorno. El agente recibe recompensas \n",
    "o penalizaciones basadas en sus acciones y aprende a maximizar la recompensa acumulada \n",
    "a lo largo del tiempo. Los conceptos clave en RL incluyen: estados, acciones, recompensas, \n",
    "políticas y funciones de valor. Los algoritmos populares de RL incluyen Q-learning, \n",
    "Deep Q-Networks (DQN), métodos de Gradiente de Política y métodos Actor-Crítico. \n",
    "El RL se ha aplicado exitosamente en juegos (como AlphaGo), robótica y sistemas autónomos.\n",
    "\"\"\""
   ]
  },
  {
   "cell_type": "code",
   "execution_count": 69,
   "id": "5b431aee",
   "metadata": {},
   "outputs": [
    {
     "data": {
      "text/plain": [
       "'\\nAprendizaje por Refuerzo en Detalle\\n\\nEl aprendizaje por refuerzo (RL) es un tipo de aprendizaje automático donde un agente \\naprende a tomar decisiones interactuando con un entorno. El agente recibe recompensas \\no penalizaciones basadas en sus acciones y aprende a maximizar la recompensa acumulada \\na lo largo del tiempo. Los conceptos clave en RL incluyen: estados, acciones, recompensas, \\npolíticas y funciones de valor. Los algoritmos populares de RL incluyen Q-learning, \\nDeep Q-Networks (DQN), métodos de Gradiente de Política y métodos Actor-Crítico. \\nEl RL se ha aplicado exitosamente en juegos (como AlphaGo), robótica y sistemas autónomos.\\n'"
      ]
     },
     "execution_count": 69,
     "metadata": {},
     "output_type": "execute_result"
    }
   ],
   "source": [
    "new_document"
   ]
  },
  {
   "cell_type": "code",
   "execution_count": 70,
   "id": "7bd5df9f",
   "metadata": {},
   "outputs": [
    {
     "data": {
      "text/plain": [
       "[Document(metadata={'source': 'C:\\\\Users\\\\raule\\\\AppData\\\\Local\\\\Temp\\\\tmp7yg3sy23\\\\doc_0.txt'}, page_content='Fundamentos del Aprendizaje Automático (Machine Learning)\\n\\n    El aprendizaje automático es un subconjunto de la inteligencia artificial que permite \\n    a los sistemas aprender y mejorar a partir de la experiencia sin ser programados \\n    explícitamente. Hay tres tipos principales de aprendizaje automático: aprendizaje \\n    supervisado, aprendizaje no supervisado y aprendizaje por refuerzo. El aprendizaje \\n    supervisado utiliza datos etiquetados para entrenar modelos, mientras que el'),\n",
       " Document(metadata={'source': 'C:\\\\Users\\\\raule\\\\AppData\\\\Local\\\\Temp\\\\tmp7yg3sy23\\\\doc_0.txt'}, page_content='para entrenar modelos, mientras que el \\n    aprendizaje no supervisado encuentra patrones en datos no etiquetados. El aprendizaje \\n    por refuerzo aprende a través de la interacción con un entorno utilizando recompensas \\n    y penalizaciones.'),\n",
       " Document(metadata={'source': 'C:\\\\Users\\\\raule\\\\AppData\\\\Local\\\\Temp\\\\tmp7yg3sy23\\\\doc_1.txt'}, page_content='Aprendizaje Profundo y Redes Neuronales\\n\\n    El aprendizaje profundo es un subconjunto del aprendizaje automático basado en redes \\n    neuronales artificiales. Estas redes están inspiradas en el cerebro humano y consisten \\n    en capas de nodos interconectados. El aprendizaje profundo ha revolucionado campos \\n    como la visión por computadora, el procesamiento de lenguaje natural y el reconocimiento \\n    de voz. Las Redes Neuronales Convolucionales (CNN) son particularmente efectivas para'),\n",
       " Document(metadata={'source': 'C:\\\\Users\\\\raule\\\\AppData\\\\Local\\\\Temp\\\\tmp7yg3sy23\\\\doc_1.txt'}, page_content='(CNN) son particularmente efectivas para \\n    el procesamiento de imágenes, mientras que las Redes Neuronales Recurrentes (RNN) y \\n    los Transformers destacan en el procesamiento de datos secuenciales.'),\n",
       " Document(metadata={'source': 'C:\\\\Users\\\\raule\\\\AppData\\\\Local\\\\Temp\\\\tmp7yg3sy23\\\\doc_2.txt'}, page_content='Procesamiento de Lenguaje Natural (PLN)\\n\\n    El PLN es un campo de la IA que se enfoca en la interacción entre computadoras y \\n    lenguaje humano. Las tareas clave en PLN incluyen clasificación de texto, \\n    reconocimiento de entidades nombradas, análisis de sentimientos, traducción automática \\n    y respuesta a preguntas. El PLN moderno depende en gran medida de arquitecturas \\n    transformer como BERT, GPT y T5. Estos modelos utilizan mecanismos de atención para \\n    entender el'),\n",
       " Document(metadata={'source': 'C:\\\\Users\\\\raule\\\\AppData\\\\Local\\\\Temp\\\\tmp7yg3sy23\\\\doc_2.txt'}, page_content='mecanismos de atención para \\n    entender el contexto y las relaciones entre palabras en el texto.')]"
      ]
     },
     "execution_count": 70,
     "metadata": {},
     "output_type": "execute_result"
    }
   ],
   "source": [
    "chunks"
   ]
  },
  {
   "cell_type": "code",
   "execution_count": 71,
   "id": "894dd275",
   "metadata": {},
   "outputs": [],
   "source": [
    "# Crear un nuevo documento con metadatos personalizados\n",
    "new_doc = Document(\n",
    "    page_content=new_document,\n",
    "    metadata={\"source\": \"adicion_manual\", \"topic\": \"aprendizaje_por_refuerzo\"}  # Metadatos en español\n",
    ")"
   ]
  },
  {
   "cell_type": "code",
   "execution_count": 72,
   "id": "15f35837",
   "metadata": {},
   "outputs": [
    {
     "data": {
      "text/plain": [
       "Document(metadata={'source': 'adicion_manual', 'topic': 'aprendizaje_por_refuerzo'}, page_content='\\nAprendizaje por Refuerzo en Detalle\\n\\nEl aprendizaje por refuerzo (RL) es un tipo de aprendizaje automático donde un agente \\naprende a tomar decisiones interactuando con un entorno. El agente recibe recompensas \\no penalizaciones basadas en sus acciones y aprende a maximizar la recompensa acumulada \\na lo largo del tiempo. Los conceptos clave en RL incluyen: estados, acciones, recompensas, \\npolíticas y funciones de valor. Los algoritmos populares de RL incluyen Q-learning, \\nDeep Q-Networks (DQN), métodos de Gradiente de Política y métodos Actor-Crítico. \\nEl RL se ha aplicado exitosamente en juegos (como AlphaGo), robótica y sistemas autónomos.\\n')"
      ]
     },
     "execution_count": 72,
     "metadata": {},
     "output_type": "execute_result"
    }
   ],
   "source": [
    "new_doc"
   ]
  },
  {
   "cell_type": "code",
   "execution_count": 73,
   "id": "16202c1b",
   "metadata": {},
   "outputs": [
    {
     "data": {
      "text/plain": [
       "[Document(metadata={'source': 'adicion_manual', 'topic': 'aprendizaje_por_refuerzo'}, page_content='Aprendizaje por Refuerzo en Detalle\\n\\nEl aprendizaje por refuerzo (RL) es un tipo de aprendizaje automático donde un agente \\naprende a tomar decisiones interactuando con un entorno. El agente recibe recompensas \\no penalizaciones basadas en sus acciones y aprende a maximizar la recompensa acumulada \\na lo largo del tiempo. Los conceptos clave en RL incluyen: estados, acciones, recompensas, \\npolíticas y funciones de valor. Los algoritmos populares de RL incluyen Q-learning, \\nDeep Q-Networks (DQN),'),\n",
       " Document(metadata={'source': 'adicion_manual', 'topic': 'aprendizaje_por_refuerzo'}, page_content='RL incluyen Q-learning, \\nDeep Q-Networks (DQN), métodos de Gradiente de Política y métodos Actor-Crítico. \\nEl RL se ha aplicado exitosamente en juegos (como AlphaGo), robótica y sistemas autónomos.')]"
      ]
     },
     "execution_count": 73,
     "metadata": {},
     "output_type": "execute_result"
    }
   ],
   "source": [
    "# Dividir el nuevo documento en chunks\n",
    "new_chunks = text_splitter.split_documents([new_doc])\n",
    "new_chunks  # Mostrar los chunks creados"
   ]
  },
  {
   "cell_type": "code",
   "execution_count": 74,
   "id": "f91ae2fd",
   "metadata": {},
   "outputs": [
    {
     "data": {
      "text/plain": [
       "['2937d6e1-8b33-4cc8-a999-25913a4bfb84',\n",
       " '816f00b6-2292-424c-a817-6d2612b4f4dd']"
      ]
     },
     "execution_count": 74,
     "metadata": {},
     "output_type": "execute_result"
    }
   ],
   "source": [
    "# Agregar nuevos documentos al almacén vectorial existente\n",
    "vectorstore.add_documents(new_chunks)  # Agrega los chunks y devuelve IDs únicos"
   ]
  },
  {
   "cell_type": "code",
   "execution_count": 75,
   "id": "d3384f76",
   "metadata": {},
   "outputs": [
    {
     "name": "stdout",
     "output_type": "stream",
     "text": [
      "Se agregaron 2 nuevos chunks al almacén vectorial\n",
      "Total de vectores ahora: 8\n"
     ]
    }
   ],
   "source": [
    "# Verificar que se agregaron los nuevos chunks\n",
    "print(f\"Se agregaron {len(new_chunks)} nuevos chunks al almacén vectorial\")\n",
    "print(f\"Total de vectores ahora: {vectorstore._collection.count()}\")"
   ]
  },
  {
   "cell_type": "code",
   "execution_count": 76,
   "id": "32c2680f",
   "metadata": {},
   "outputs": [
    {
     "name": "stdout",
     "output_type": "stream",
     "text": [
      "Pregunta: ¿Cuáles son los conceptos clave en el aprendizaje por refuerzo?\n",
      "--------------------------------------------------\n",
      "Respuesta: Los conceptos clave en el aprendizaje por refuerzo incluyen: estados, acciones, recompensas, políticas y funciones de valor.\n",
      "\n",
      "Documentos Fuente:\n",
      "\n",
      "--- Fuente 1 ---\n",
      "Aprendizaje por Refuerzo en Detalle\n",
      "\n",
      "El aprendizaje por refuerzo (RL) es un tipo de aprendizaje automático donde un agente \n",
      "aprende a tomar decisiones interactuando con un entorno. El agente recibe re...\n",
      "\n",
      "--- Fuente 2 ---\n",
      "para entrenar modelos, mientras que el \n",
      "    aprendizaje no supervisado encuentra patrones en datos no etiquetados. El aprendizaje \n",
      "    por refuerzo aprende a través de la interacción con un entorno ut...\n",
      "\n",
      "--- Fuente 3 ---\n",
      "mecanismos de atención para \n",
      "    entender el contexto y las relaciones entre palabras en el texto....\n",
      "\n",
      "--- Fuente 4 ---\n",
      "Fundamentos del Aprendizaje Automático (Machine Learning)\n",
      "\n",
      "    El aprendizaje automático es un subconjunto de la inteligencia artificial que permite \n",
      "    a los sistemas aprender y mejorar a partir de ...\n"
     ]
    }
   ],
   "source": [
    "# Consultar con el almacén vectorial actualizado (que incluye el nuevo documento)\n",
    "new_question = \"¿Cuáles son los conceptos clave en el aprendizaje por refuerzo?\"\n",
    "result = query_rag_lcel(new_question)\n",
    "result"
   ]
  },
  {
   "cell_type": "markdown",
   "id": "6cd68b1f",
   "metadata": {},
   "source": [
    "### 12. Técnicas RAG Avanzadas - Memoria Conversacional\n",
    "\n",
    "**Entendiendo la Memoria Conversacional en RAG**\n",
    "\n",
    "La memoria conversacional permite que los sistemas RAG mantengan contexto a través de múltiples interacciones. Esto es crucial para:\n",
    "\n",
    "- Preguntas de seguimiento que referencian respuestas anteriores\n",
    "- Resolución de pronombres (ej: \"esto\", \"ellos\", \"eso\")\n",
    "- Consultas dependientes del contexto que se basan en discusión previa\n",
    "- Flujo de diálogo natural donde los usuarios no repiten contexto\n",
    "\n",
    "**Desafío Clave:**\n",
    "El RAG tradicional recupera documentos basándose solo en la consulta actual, perdiendo contexto importante de la conversación. Por ejemplo:\n",
    "\n",
    "Usuario: \"Háblame sobre Python\"\n",
    "Bot: explica el lenguaje de programación Python\n",
    "Usuario: \"¿Cuáles son sus principales librerías?\" ← \"sus\" se refiere a Python, pero el recuperador no lo sabe\n",
    "\n",
    "**Solución:**\n",
    "El enfoque moderno usa un proceso de dos pasos:\n",
    "\n",
    "1. **Reformulación de Consulta:** Transforma preguntas dependientes del contexto en consultas independientes\n",
    "2. **Recuperación Consciente del Contexto:** Usa la consulta reformulada para buscar documentos relevantes"
   ]
  },
  {
   "cell_type": "markdown",
   "id": "e9189de7",
   "metadata": {},
   "source": [
    "**Componentes Clave:**\n",
    "- create_history_aware_retriever: Hace que el recuperador entienda el contexto de la conversación\n",
    "- MessagesPlaceholder: Marcador de posición para el historial de chat en prompts\n",
    "- HumanMessage/AIMessage: Tipos de mensaje estructurados para historial de conversación"
   ]
  },
  {
   "cell_type": "code",
   "execution_count": 77,
   "id": "7198db6c",
   "metadata": {},
   "outputs": [],
   "source": [
    "# Importar componentes para memoria conversacional\n",
    "from langchain.chains import create_history_aware_retriever  # Para recuperador consciente del historial\n",
    "from langchain_core.prompts import MessagesPlaceholder  # Para incluir historial en prompts\n",
    "from langchain_core.messages import HumanMessage, AIMessage  # Para estructurar mensajes"
   ]
  },
  {
   "cell_type": "code",
   "execution_count": 78,
   "id": "eaa69a98",
   "metadata": {},
   "outputs": [],
   "source": [
    "# Crear un prompt que incluye el historial de chat\n",
    "contextualize_q_system_prompt = \"\"\"Dado un historial de chat y la última pregunta del usuario \n",
    "que podría referenciar contexto en el historial de chat, formula una pregunta independiente \n",
    "que pueda entenderse sin el historial de chat. NO respondas la pregunta, \n",
    "solo reformúlala si es necesario; de lo contrario, devuélvela tal como está.\"\"\"\n",
    "\n",
    "# Crear plantilla de prompt con marcador de posición para historial\n",
    "contextualize_q_prompt = ChatPromptTemplate.from_messages([\n",
    "    (\"system\", contextualize_q_system_prompt),  # Instrucciones del sistema\n",
    "    MessagesPlaceholder(\"chat_history\"),  # Aquí se insertará el historial\n",
    "    (\"human\", \"{input}\"),  # Entrada del usuario actual\n",
    "])"
   ]
  },
  {
   "cell_type": "code",
   "execution_count": 79,
   "id": "4424ee54",
   "metadata": {},
   "outputs": [
    {
     "data": {
      "text/plain": [
       "RunnableBinding(bound=RunnableBranch(branches=[(RunnableLambda(lambda x: not x.get('chat_history', False)), RunnableLambda(lambda x: x['input'])\n",
       "| VectorStoreRetriever(tags=['Chroma', 'OpenAIEmbeddings'], vectorstore=<langchain_community.vectorstores.chroma.Chroma object at 0x00000215333270B0>, search_kwargs={}))], default=ChatPromptTemplate(input_variables=['chat_history', 'input'], input_types={'chat_history': list[typing.Annotated[typing.Union[typing.Annotated[langchain_core.messages.ai.AIMessage, Tag(tag='ai')], typing.Annotated[langchain_core.messages.human.HumanMessage, Tag(tag='human')], typing.Annotated[langchain_core.messages.chat.ChatMessage, Tag(tag='chat')], typing.Annotated[langchain_core.messages.system.SystemMessage, Tag(tag='system')], typing.Annotated[langchain_core.messages.function.FunctionMessage, Tag(tag='function')], typing.Annotated[langchain_core.messages.tool.ToolMessage, Tag(tag='tool')], typing.Annotated[langchain_core.messages.ai.AIMessageChunk, Tag(tag='AIMessageChunk')], typing.Annotated[langchain_core.messages.human.HumanMessageChunk, Tag(tag='HumanMessageChunk')], typing.Annotated[langchain_core.messages.chat.ChatMessageChunk, Tag(tag='ChatMessageChunk')], typing.Annotated[langchain_core.messages.system.SystemMessageChunk, Tag(tag='SystemMessageChunk')], typing.Annotated[langchain_core.messages.function.FunctionMessageChunk, Tag(tag='FunctionMessageChunk')], typing.Annotated[langchain_core.messages.tool.ToolMessageChunk, Tag(tag='ToolMessageChunk')]], FieldInfo(annotation=NoneType, required=True, discriminator=Discriminator(discriminator=<function _get_type at 0x0000021509CE7560>, custom_error_type=None, custom_error_message=None, custom_error_context=None))]]}, partial_variables={}, messages=[SystemMessagePromptTemplate(prompt=PromptTemplate(input_variables=[], input_types={}, partial_variables={}, template='Dado un historial de chat y la última pregunta del usuario \\nque podría referenciar contexto en el historial de chat, formula una pregunta independiente \\nque pueda entenderse sin el historial de chat. NO respondas la pregunta, \\nsolo reformúlala si es necesario; de lo contrario, devuélvela tal como está.'), additional_kwargs={}), MessagesPlaceholder(variable_name='chat_history'), HumanMessagePromptTemplate(prompt=PromptTemplate(input_variables=['input'], input_types={}, partial_variables={}, template='{input}'), additional_kwargs={})])\n",
       "| ChatOpenAI(client=<openai.resources.chat.completions.completions.Completions object at 0x0000021536BDB320>, async_client=<openai.resources.chat.completions.completions.AsyncCompletions object at 0x0000021536BECC80>, root_client=<openai.OpenAI object at 0x0000021536BD8770>, root_async_client=<openai.AsyncOpenAI object at 0x0000021536BDB920>, model_kwargs={}, openai_api_key=SecretStr('**********'), stream_usage=True)\n",
       "| StrOutputParser()\n",
       "| VectorStoreRetriever(tags=['Chroma', 'OpenAIEmbeddings'], vectorstore=<langchain_community.vectorstores.chroma.Chroma object at 0x00000215333270B0>, search_kwargs={})), kwargs={}, config={'run_name': 'chat_retriever_chain'}, config_factories=[])"
      ]
     },
     "execution_count": 79,
     "metadata": {},
     "output_type": "execute_result"
    }
   ],
   "source": [
    "# Crear recuperador consciente del historial\n",
    "history_aware_retriever = create_history_aware_retriever(\n",
    "    llm, retriever, contextualize_q_prompt  # LLM, recuperador base y prompt de contextualización\n",
    ")\n",
    "history_aware_retriever  # Mostrar el recuperador mejorado"
   ]
  },
  {
   "cell_type": "code",
   "execution_count": 81,
   "id": "49143814",
   "metadata": {},
   "outputs": [
    {
     "name": "stdout",
     "output_type": "stream",
     "text": [
      "Se creó una cadena RAG conversacional!\n"
     ]
    }
   ],
   "source": [
    "# Create a new document chain with history\n",
    "qa_system_prompt = \"\"\"Eres asistente en tareas de preguntas y respuestas.\n",
    "Usa los siguientes fragmentos de contexto recuperados para responder la pregunta.\n",
    "Si no sabes la respuesta, simplemente di que no la sabes.\n",
    "Usa un máximo de tres oraciones y mantén la respuesta concisa..\n",
    "\n",
    "Context: {context}\"\"\"\n",
    "\n",
    "qa_prompt = ChatPromptTemplate.from_messages([\n",
    "    (\"system\", qa_system_prompt),\n",
    "    MessagesPlaceholder(\"chat_history\"),\n",
    "    (\"human\", \"{input}\"),\n",
    "])\n",
    "\n",
    "question_answer_chain = create_stuff_documents_chain(llm, qa_prompt)\n",
    "\n",
    "# Create conversational RAG chain\n",
    "conversational_rag_chain = create_retrieval_chain(\n",
    "    history_aware_retriever, \n",
    "    question_answer_chain\n",
    ")\n",
    "print(\"Se creó una cadena RAG conversacional!\")"
   ]
  },
  {
   "cell_type": "code",
   "execution_count": 82,
   "id": "0d7aa4dd",
   "metadata": {},
   "outputs": [
    {
     "name": "stdout",
     "output_type": "stream",
     "text": [
      "Q: que es el aprendizaje automatico?\n",
      "A: El aprendizaje automático es un subconjunto de la inteligencia artificial que permite a los sistemas aprender y mejorar a partir de la experiencia sin ser programados explícitamente, utilizando principalmente datos.\n"
     ]
    }
   ],
   "source": [
    "chat_history=[]\n",
    "# First question\n",
    "result1 = conversational_rag_chain.invoke({\n",
    "    \"chat_history\": chat_history,\n",
    "    \"input\": \"que es el aprendizaje automatico?\"\n",
    "})\n",
    "print(f\"Q: que es el aprendizaje automatico?\")\n",
    "print(f\"A: {result1['answer']}\")"
   ]
  },
  {
   "cell_type": "code",
   "execution_count": 83,
   "id": "628e28f3",
   "metadata": {},
   "outputs": [],
   "source": [
    "chat_history.extend([\n",
    "    HumanMessage(content=\"que es el aprendizaje automatico\"),\n",
    "    AIMessage(content=result1['answer'])\n",
    "])"
   ]
  },
  {
   "cell_type": "code",
   "execution_count": 84,
   "id": "234e65ab",
   "metadata": {},
   "outputs": [
    {
     "data": {
      "text/plain": [
       "[HumanMessage(content='que es el aprendizaje automatico', additional_kwargs={}, response_metadata={}),\n",
       " AIMessage(content='El aprendizaje automático es un subconjunto de la inteligencia artificial que permite a los sistemas aprender y mejorar a partir de la experiencia sin ser programados explícitamente, utilizando principalmente datos.', additional_kwargs={}, response_metadata={})]"
      ]
     },
     "execution_count": 84,
     "metadata": {},
     "output_type": "execute_result"
    }
   ],
   "source": [
    "chat_history"
   ]
  },
  {
   "cell_type": "code",
   "execution_count": 85,
   "id": "67bca7fa",
   "metadata": {},
   "outputs": [
    {
     "data": {
      "text/plain": [
       "{'chat_history': [HumanMessage(content='que es el aprendizaje automatico', additional_kwargs={}, response_metadata={}),\n",
       "  AIMessage(content='El aprendizaje automático es un subconjunto de la inteligencia artificial que permite a los sistemas aprender y mejorar a partir de la experiencia sin ser programados explícitamente, utilizando principalmente datos.', additional_kwargs={}, response_metadata={})],\n",
       " 'input': '¿Cuáles son sus principales tipos?',\n",
       " 'context': [Document(metadata={'source': 'C:\\\\Users\\\\raule\\\\AppData\\\\Local\\\\Temp\\\\tmp7yg3sy23\\\\doc_0.txt'}, page_content='Fundamentos del Aprendizaje Automático (Machine Learning)\\n\\n    El aprendizaje automático es un subconjunto de la inteligencia artificial que permite \\n    a los sistemas aprender y mejorar a partir de la experiencia sin ser programados \\n    explícitamente. Hay tres tipos principales de aprendizaje automático: aprendizaje \\n    supervisado, aprendizaje no supervisado y aprendizaje por refuerzo. El aprendizaje \\n    supervisado utiliza datos etiquetados para entrenar modelos, mientras que el'),\n",
       "  Document(metadata={'source': 'C:\\\\Users\\\\raule\\\\AppData\\\\Local\\\\Temp\\\\tmp7yg3sy23\\\\doc_1.txt'}, page_content='Aprendizaje Profundo y Redes Neuronales\\n\\n    El aprendizaje profundo es un subconjunto del aprendizaje automático basado en redes \\n    neuronales artificiales. Estas redes están inspiradas en el cerebro humano y consisten \\n    en capas de nodos interconectados. El aprendizaje profundo ha revolucionado campos \\n    como la visión por computadora, el procesamiento de lenguaje natural y el reconocimiento \\n    de voz. Las Redes Neuronales Convolucionales (CNN) son particularmente efectivas para'),\n",
       "  Document(metadata={'topic': 'aprendizaje_por_refuerzo', 'source': 'adicion_manual'}, page_content='Aprendizaje por Refuerzo en Detalle\\n\\nEl aprendizaje por refuerzo (RL) es un tipo de aprendizaje automático donde un agente \\naprende a tomar decisiones interactuando con un entorno. El agente recibe recompensas \\no penalizaciones basadas en sus acciones y aprende a maximizar la recompensa acumulada \\na lo largo del tiempo. Los conceptos clave en RL incluyen: estados, acciones, recompensas, \\npolíticas y funciones de valor. Los algoritmos populares de RL incluyen Q-learning, \\nDeep Q-Networks (DQN),'),\n",
       "  Document(metadata={'topic': 'aprendizaje_por_refuerzo', 'source': 'adicion_manual'}, page_content='RL incluyen Q-learning, \\nDeep Q-Networks (DQN), métodos de Gradiente de Política y métodos Actor-Crítico. \\nEl RL se ha aplicado exitosamente en juegos (como AlphaGo), robótica y sistemas autónomos.')],\n",
       " 'answer': 'Los tres tipos principales de aprendizaje automático son: aprendizaje supervisado, aprendizaje no supervisado y aprendizaje por refuerzo.'}"
      ]
     },
     "execution_count": 85,
     "metadata": {},
     "output_type": "execute_result"
    }
   ],
   "source": [
    "## Follow up question\n",
    "# Follow-up question\n",
    "result2 = conversational_rag_chain.invoke({\n",
    "    \"chat_history\": chat_history,\n",
    "    \"input\": \"¿Cuáles son sus principales tipos?\"  # Refers to ML from previous question\n",
    "})\n",
    "result2"
   ]
  },
  {
   "cell_type": "code",
   "execution_count": 86,
   "id": "d28231be",
   "metadata": {},
   "outputs": [
    {
     "data": {
      "text/plain": [
       "'Los tres tipos principales de aprendizaje automático son: aprendizaje supervisado, aprendizaje no supervisado y aprendizaje por refuerzo.'"
      ]
     },
     "execution_count": 86,
     "metadata": {},
     "output_type": "execute_result"
    }
   ],
   "source": [
    "result2['answer']"
   ]
  },
  {
   "cell_type": "markdown",
   "id": "e79e708a",
   "metadata": {},
   "source": [
    "### Uso de GROQ LLM\n",
    " "
   ]
  },
  {
   "cell_type": "code",
   "execution_count": 97,
   "id": "0da1e8a3",
   "metadata": {},
   "outputs": [
    {
     "data": {
      "text/plain": [
       "ChatOpenAI(client=<openai.resources.chat.completions.completions.Completions object at 0x000001D96AA93110>, async_client=<openai.resources.chat.completions.completions.AsyncCompletions object at 0x000001D96AA92FD0>, root_client=<openai.OpenAI object at 0x000001D96AB19810>, root_async_client=<openai.AsyncOpenAI object at 0x000001D96AB196E0>, model_kwargs={}, openai_api_key=SecretStr('**********'))"
      ]
     },
     "execution_count": 97,
     "metadata": {},
     "output_type": "execute_result"
    }
   ],
   "source": [
    "llm"
   ]
  },
  {
   "cell_type": "code",
   "execution_count": 87,
   "id": "dd7312bf",
   "metadata": {},
   "outputs": [
    {
     "data": {
      "text/plain": [
       "True"
      ]
     },
     "execution_count": 87,
     "metadata": {},
     "output_type": "execute_result"
    }
   ],
   "source": [
    "load_dotenv()"
   ]
  },
  {
   "cell_type": "code",
   "execution_count": 88,
   "id": "a92bacd8",
   "metadata": {},
   "outputs": [
    {
     "data": {
      "text/plain": [
       "''"
      ]
     },
     "execution_count": 88,
     "metadata": {},
     "output_type": "execute_result"
    }
   ],
   "source": [
    "os.getenv(\"GROQ_API_KEY\")"
   ]
  },
  {
   "cell_type": "code",
   "execution_count": 89,
   "id": "36d21da1",
   "metadata": {},
   "outputs": [],
   "source": [
    "from langchain_groq import ChatGroq\n",
    "from langchain.chat_models import init_chat_model"
   ]
  },
  {
   "cell_type": "code",
   "execution_count": 90,
   "id": "6c68732c",
   "metadata": {},
   "outputs": [],
   "source": [
    "os.environ[\"GROQ_API_KEY\"]=os.getenv(\"GROQ_API_KEY\")"
   ]
  },
  {
   "cell_type": "code",
   "execution_count": 91,
   "id": "9c759127",
   "metadata": {},
   "outputs": [
    {
     "data": {
      "text/plain": [
       "ChatGroq(client=<groq.resources.chat.completions.Completions object at 0x0000021537273020>, async_client=<groq.resources.chat.completions.AsyncCompletions object at 0x00000215382B3C20>, model_name='gemma2-9b-it', model_kwargs={}, groq_api_key=SecretStr(''))"
      ]
     },
     "execution_count": 91,
     "metadata": {},
     "output_type": "execute_result"
    }
   ],
   "source": [
    "llm=ChatGroq(model=\"gemma2-9b-it\",api_key=os.getenv(\"GROQ_API_KEY\"))\n",
    "llm"
   ]
  },
  {
   "cell_type": "code",
   "execution_count": 92,
   "id": "1b0e7c9b",
   "metadata": {},
   "outputs": [
    {
     "data": {
      "text/plain": [
       "ChatGroq(client=<groq.resources.chat.completions.Completions object at 0x00000215382B3DD0>, async_client=<groq.resources.chat.completions.AsyncCompletions object at 0x00000215382B4290>, model_name='gemma2-9b-it', model_kwargs={}, groq_api_key=SecretStr(''))"
      ]
     },
     "execution_count": 92,
     "metadata": {},
     "output_type": "execute_result"
    }
   ],
   "source": [
    "llm=init_chat_model(model=\"groq:gemma2-9b-it\")\n",
    "llm"
   ]
  },
  {
   "cell_type": "code",
   "execution_count": null,
   "id": "fecb894b",
   "metadata": {},
   "outputs": [],
   "source": []
  }
 ],
 "metadata": {
  "kernelspec": {
   "display_name": ".venv",
   "language": "python",
   "name": "python3"
  },
  "language_info": {
   "codemirror_mode": {
    "name": "ipython",
    "version": 3
   },
   "file_extension": ".py",
   "mimetype": "text/x-python",
   "name": "python",
   "nbconvert_exporter": "python",
   "pygments_lexer": "ipython3",
   "version": "3.12.11"
  }
 },
 "nbformat": 4,
 "nbformat_minor": 5
}
