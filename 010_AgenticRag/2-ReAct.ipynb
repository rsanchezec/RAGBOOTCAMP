{
 "cells": [
  {
   "cell_type": "markdown",
   "id": "f7172573",
   "metadata": {},
   "source": [
    "### 🤖 Implementar ReAct con LangGraph\n",
    "\n",
    "#### ¿Qué es ReAct?\n",
    "ReAct (Razonamiento + Actuación) es un framework donde un LLM:\n",
    "\n",
    "- **Razona paso a paso** (por ejemplo, descompone preguntas, toma decisiones)\n",
    "\n",
    "- **Actúa** llamando herramientas como búsqueda, calculadoras o recuperadores\n",
    "\n",
    "Esto lo hace perfecto para RAG Agéntico:\n",
    "✅ Pensar → Recuperar → Observar → Reflexionar → Respuesta Final"
   ]
  },
  {
   "cell_type": "code",
   "execution_count": 3,
   "id": "325681f3",
   "metadata": {},
   "outputs": [],
   "source": [
    "# Importación de librerías necesarias para el sistema ReAct con LangGraph\n",
    "import os  # Para manejo de variables de entorno\n",
    "\n",
    "# LangGraph - Framework para construir agentes con grafos\n",
    "from langgraph.prebuilt import create_react_agent  # Crea un agente ReAct preconfigurado\n",
    "from langgraph.graph import END  # Constante que marca el final del grafo\n",
    "from langgraph.graph import StateGraph  # Clase para construir grafos basados en estado\n",
    "from langgraph.graph.message import add_messages  # Función para agregar mensajes al estado\n",
    "\n",
    "# LangChain - Framework para aplicaciones con LLMs\n",
    "from langchain.agents import Tool  # Clase para definir herramientas que el agente puede usar\n",
    "from langchain.tools import WikipediaQueryRun  # Herramienta para buscar en Wikipedia\n",
    "from langchain.utilities import WikipediaAPIWrapper  # Wrapper de la API de Wikipedia\n",
    "\n",
    "# Vector stores y embeddings\n",
    "from langchain_community.vectorstores import FAISS  # Base de datos vectorial FAISS\n",
    "from langchain_openai import OpenAIEmbeddings  # Embeddings de OpenAI\n",
    "\n",
    "# Carga y procesamiento de documentos\n",
    "from langchain_community.document_loaders import WebBaseLoader  # Cargador de contenido web\n",
    "from langchain.text_splitter import RecursiveCharacterTextSplitter  # Divisor de texto recursivo\n",
    "\n",
    "# Typing para definición de tipos\n",
    "from typing import Annotated, TypedDict, Sequence  # Herramientas de tipado\n",
    "\n",
    "# Tipos de mensajes de LangChain\n",
    "from langchain_core.messages import BaseMessage, HumanMessage, AIMessage  # Clases de mensajes"
   ]
  },
  {
   "cell_type": "code",
   "execution_count": 4,
   "id": "a362be75",
   "metadata": {},
   "outputs": [],
   "source": [
    "# --------------------------\n",
    "# 1. Crear Herramienta de Recuperación (Retriever Tool)\n",
    "# --------------------------\n",
    "\n",
    "# Cargar contenido desde un blog sobre agentes autónomos\n",
    "docs = WebBaseLoader(\"https://lilianweng.github.io/posts/2023-06-23-agent/\").load()\n",
    "\n",
    "# Crear un divisor de texto recursivo para particionar el contenido\n",
    "# chunk_size=500: cada fragmento tendrá máximo 500 caracteres\n",
    "# chunk_overlap=50: habrá 50 caracteres de superposición entre fragmentos para mantener contexto\n",
    "splitter = RecursiveCharacterTextSplitter(chunk_size=500, chunk_overlap=50)\n",
    "\n",
    "# Dividir los documentos en fragmentos más pequeños (chunks)\n",
    "chunks = splitter.split_documents(docs)\n",
    "\n",
    "# Inicializar el modelo de embeddings de OpenAI\n",
    "embedding = OpenAIEmbeddings()\n",
    "\n",
    "# Crear una base de datos vectorial FAISS a partir de los chunks\n",
    "# Esto convierte cada fragmento en un vector numérico para búsqueda por similitud\n",
    "vectorstore = FAISS.from_documents(chunks, embedding)\n",
    "\n",
    "# Crear un retriever (recuperador) a partir del vectorstore\n",
    "# El retriever permite buscar documentos relevantes dada una consulta\n",
    "retriever = vectorstore.as_retriever()"
   ]
  },
  {
   "cell_type": "code",
   "execution_count": 5,
   "id": "93297e2c",
   "metadata": {},
   "outputs": [
    {
     "data": {
      "text/plain": [
       "[Document(id='a597ff97-7379-4f76-ba53-5a1b2a40c320', metadata={'source': 'https://lilianweng.github.io/posts/2023-06-23-agent/', 'title': \"LLM Powered Autonomous Agents | Lil'Log\", 'description': 'Building agents with LLM (large language model) as its core controller is a cool concept. Several proof-of-concepts demos, such as AutoGPT, GPT-Engineer and BabyAGI, serve as inspiring examples. The potentiality of LLM extends beyond generating well-written copies, stories, essays and programs; it can be framed as a powerful general problem solver.\\nAgent System Overview\\nIn a LLM-powered autonomous agent system, LLM functions as the agent’s brain, complemented by several key components:\\n\\nPlanning\\n\\nSubgoal and decomposition: The agent breaks down large tasks into smaller, manageable subgoals, enabling efficient handling of complex tasks.\\nReflection and refinement: The agent can do self-criticism and self-reflection over past actions, learn from mistakes and refine them for future steps, thereby improving the quality of final results.\\n\\n\\nMemory\\n\\nShort-term memory: I would consider all the in-context learning (See Prompt Engineering) as utilizing short-term memory of the model to learn.\\nLong-term memory: This provides the agent with the capability to retain and recall (infinite) information over extended periods, often by leveraging an external vector store and fast retrieval.\\n\\n\\nTool use\\n\\nThe agent learns to call external APIs for extra information that is missing from the model weights (often hard to change after pre-training), including current information, code execution capability, access to proprietary information sources and more.\\n\\n\\n\\n\\n\\t\\n\\tOverview of a LLM-powered autonomous agent system.\\n\\nComponent One: Planning\\nA complicated task usually involves many steps. An agent needs to know what they are and plan ahead.', 'language': 'en'}, page_content='Or\\n@article{weng2023agent,\\n  title   = \"LLM-powered Autonomous Agents\",\\n  author  = \"Weng, Lilian\",\\n  journal = \"lilianweng.github.io\",\\n  year    = \"2023\",\\n  month   = \"Jun\",\\n  url     = \"https://lilianweng.github.io/posts/2023-06-23-agent/\"\\n}\\nReferences#\\n[1] Wei et al. “Chain of thought prompting elicits reasoning in large language models.” NeurIPS 2022\\n[2] Yao et al. “Tree of Thoughts: Dliberate Problem Solving with Large Language Models.” arXiv preprint arXiv:2305.10601 (2023).'),\n",
       " Document(id='dad94a8e-67db-43df-84c7-59e24ef98157', metadata={'source': 'https://lilianweng.github.io/posts/2023-06-23-agent/', 'title': \"LLM Powered Autonomous Agents | Lil'Log\", 'description': 'Building agents with LLM (large language model) as its core controller is a cool concept. Several proof-of-concepts demos, such as AutoGPT, GPT-Engineer and BabyAGI, serve as inspiring examples. The potentiality of LLM extends beyond generating well-written copies, stories, essays and programs; it can be framed as a powerful general problem solver.\\nAgent System Overview\\nIn a LLM-powered autonomous agent system, LLM functions as the agent’s brain, complemented by several key components:\\n\\nPlanning\\n\\nSubgoal and decomposition: The agent breaks down large tasks into smaller, manageable subgoals, enabling efficient handling of complex tasks.\\nReflection and refinement: The agent can do self-criticism and self-reflection over past actions, learn from mistakes and refine them for future steps, thereby improving the quality of final results.\\n\\n\\nMemory\\n\\nShort-term memory: I would consider all the in-context learning (See Prompt Engineering) as utilizing short-term memory of the model to learn.\\nLong-term memory: This provides the agent with the capability to retain and recall (infinite) information over extended periods, often by leveraging an external vector store and fast retrieval.\\n\\n\\nTool use\\n\\nThe agent learns to call external APIs for extra information that is missing from the model weights (often hard to change after pre-training), including current information, code execution capability, access to proprietary information sources and more.\\n\\n\\n\\n\\n\\t\\n\\tOverview of a LLM-powered autonomous agent system.\\n\\nComponent One: Planning\\nA complicated task usually involves many steps. An agent needs to know what they are and plan ahead.', 'language': 'en'}, page_content='Boiko et al. (2023) also looked into LLM-empowered agents for scientific discovery, to handle autonomous design, planning, and performance of complex scientific experiments. This agent can use tools to browse the Internet, read documentation, execute code, call robotics experimentation APIs and leverage other LLMs.\\nFor example, when requested to \"develop a novel anticancer drug\", the model came up with the following reasoning steps:'),\n",
       " Document(id='10f0775e-e6ce-462d-a0f8-cd521177455d', metadata={'source': 'https://lilianweng.github.io/posts/2023-06-23-agent/', 'title': \"LLM Powered Autonomous Agents | Lil'Log\", 'description': 'Building agents with LLM (large language model) as its core controller is a cool concept. Several proof-of-concepts demos, such as AutoGPT, GPT-Engineer and BabyAGI, serve as inspiring examples. The potentiality of LLM extends beyond generating well-written copies, stories, essays and programs; it can be framed as a powerful general problem solver.\\nAgent System Overview\\nIn a LLM-powered autonomous agent system, LLM functions as the agent’s brain, complemented by several key components:\\n\\nPlanning\\n\\nSubgoal and decomposition: The agent breaks down large tasks into smaller, manageable subgoals, enabling efficient handling of complex tasks.\\nReflection and refinement: The agent can do self-criticism and self-reflection over past actions, learn from mistakes and refine them for future steps, thereby improving the quality of final results.\\n\\n\\nMemory\\n\\nShort-term memory: I would consider all the in-context learning (See Prompt Engineering) as utilizing short-term memory of the model to learn.\\nLong-term memory: This provides the agent with the capability to retain and recall (infinite) information over extended periods, often by leveraging an external vector store and fast retrieval.\\n\\n\\nTool use\\n\\nThe agent learns to call external APIs for extra information that is missing from the model weights (often hard to change after pre-training), including current information, code execution capability, access to proprietary information sources and more.\\n\\n\\n\\n\\n\\t\\n\\tOverview of a LLM-powered autonomous agent system.\\n\\nComponent One: Planning\\nA complicated task usually involves many steps. An agent needs to know what they are and plan ahead.', 'language': 'en'}, page_content='Citation#\\nCited as:\\n\\nWeng, Lilian. (Jun 2023). “LLM-powered Autonomous Agents”. Lil’Log. https://lilianweng.github.io/posts/2023-06-23-agent/.'),\n",
       " Document(id='6fdac6d7-00a1-41e1-9074-42ed947a8513', metadata={'source': 'https://lilianweng.github.io/posts/2023-06-23-agent/', 'title': \"LLM Powered Autonomous Agents | Lil'Log\", 'description': 'Building agents with LLM (large language model) as its core controller is a cool concept. Several proof-of-concepts demos, such as AutoGPT, GPT-Engineer and BabyAGI, serve as inspiring examples. The potentiality of LLM extends beyond generating well-written copies, stories, essays and programs; it can be framed as a powerful general problem solver.\\nAgent System Overview\\nIn a LLM-powered autonomous agent system, LLM functions as the agent’s brain, complemented by several key components:\\n\\nPlanning\\n\\nSubgoal and decomposition: The agent breaks down large tasks into smaller, manageable subgoals, enabling efficient handling of complex tasks.\\nReflection and refinement: The agent can do self-criticism and self-reflection over past actions, learn from mistakes and refine them for future steps, thereby improving the quality of final results.\\n\\n\\nMemory\\n\\nShort-term memory: I would consider all the in-context learning (See Prompt Engineering) as utilizing short-term memory of the model to learn.\\nLong-term memory: This provides the agent with the capability to retain and recall (infinite) information over extended periods, often by leveraging an external vector store and fast retrieval.\\n\\n\\nTool use\\n\\nThe agent learns to call external APIs for extra information that is missing from the model weights (often hard to change after pre-training), including current information, code execution capability, access to proprietary information sources and more.\\n\\n\\n\\n\\n\\t\\n\\tOverview of a LLM-powered autonomous agent system.\\n\\nComponent One: Planning\\nA complicated task usually involves many steps. An agent needs to know what they are and plan ahead.', 'language': 'en'}, page_content=\"LLM Powered Autonomous Agents | Lil'Log\\n\\n\\n\\n\\n\\n\\n\\n\\n\\n\\n\\n\\n\\n\\n\\n\\n\\n\\n\\n\\n\\n\\n\\n\\n\\n\\n\\n\\n\\n\\n\\n\\n\\n\\n\\n\\n\\n\\n\\nLil'Log\\n\\n\\n\\n\\n\\n\\n\\n\\n\\n\\n\\n\\n\\n\\n\\n\\n\\n|\\n\\n\\n\\n\\n\\n\\nPosts\\n\\n\\n\\n\\nArchive\\n\\n\\n\\n\\nSearch\\n\\n\\n\\n\\nTags\\n\\n\\n\\n\\nFAQ\\n\\n\\n\\n\\n\\n\\n\\n\\n\\n      LLM Powered Autonomous Agents\\n    \\nDate: June 23, 2023  |  Estimated Reading Time: 31 min  |  Author: Lilian Weng\\n\\n\\n \\n\\n\\nTable of Contents\\n\\n\\n\\nAgent System Overview\\n\\nComponent One: Planning\\n\\nTask Decomposition\\n\\nSelf-Reflection\\n\\n\\nComponent Two: Memory\\n\\nTypes of Memory\\n\\nMaximum Inner Product Search (MIPS)\")]"
      ]
     },
     "execution_count": 5,
     "metadata": {},
     "output_type": "execute_result"
    }
   ],
   "source": [
    "# Probar el retriever con una consulta sobre agentes autónomos\n",
    "# Esto busca en el vectorstore los fragmentos más similares a la pregunta\n",
    "retriever.invoke(\"what are autonomous agents\")"
   ]
  },
  {
   "cell_type": "code",
   "execution_count": 6,
   "id": "16772a15",
   "metadata": {},
   "outputs": [],
   "source": [
    "# Definir la función que ejecutará la herramienta de recuperación RAG\n",
    "def retriever_tool_func(query: str) -> str:\n",
    "    \"\"\"\n",
    "    Función que busca en la base de conocimiento usando el retriever.\n",
    "    \n",
    "    Args:\n",
    "        query: La pregunta o consulta del usuario\n",
    "        \n",
    "    Returns:\n",
    "        str: Contenido concatenado de los documentos relevantes encontrados\n",
    "    \"\"\"\n",
    "    # Imprimir mensaje indicando que se está usando la herramienta\n",
    "    print(\"📚 Usando herramienta RAGRetriever\")\n",
    "    \n",
    "    # Invocar el retriever con la consulta para obtener documentos relevantes\n",
    "    docs = retriever.invoke(query)\n",
    "    \n",
    "    # Unir el contenido de todos los documentos con saltos de línea\n",
    "    # Esto devuelve un solo string con toda la información relevante\n",
    "    return \"\\n\".join([doc.page_content for doc in docs])"
   ]
  },
  {
   "cell_type": "code",
   "execution_count": 9,
   "id": "42b7e841",
   "metadata": {},
   "outputs": [
    {
     "name": "stdout",
     "output_type": "stream",
     "text": [
      "📚 Usando herramienta RAGRetriever\n"
     ]
    },
    {
     "data": {
      "text/plain": [
       "'Or\\n@article{weng2023agent,\\n  title   = \"LLM-powered Autonomous Agents\",\\n  author  = \"Weng, Lilian\",\\n  journal = \"lilianweng.github.io\",\\n  year    = \"2023\",\\n  month   = \"Jun\",\\n  url     = \"https://lilianweng.github.io/posts/2023-06-23-agent/\"\\n}\\nReferences#\\n[1] Wei et al. “Chain of thought prompting elicits reasoning in large language models.” NeurIPS 2022\\n[2] Yao et al. “Tree of Thoughts: Dliberate Problem Solving with Large Language Models.” arXiv preprint arXiv:2305.10601 (2023).\\nBoiko et al. (2023) also looked into LLM-empowered agents for scientific discovery, to handle autonomous design, planning, and performance of complex scientific experiments. This agent can use tools to browse the Internet, read documentation, execute code, call robotics experimentation APIs and leverage other LLMs.\\nFor example, when requested to \"develop a novel anticancer drug\", the model came up with the following reasoning steps:\\nCitation#\\nCited as:\\n\\nWeng, Lilian. (Jun 2023). “LLM-powered Autonomous Agents”. Lil’Log. https://lilianweng.github.io/posts/2023-06-23-agent/.\\nLLM Powered Autonomous Agents | Lil\\'Log\\n\\n\\n\\n\\n\\n\\n\\n\\n\\n\\n\\n\\n\\n\\n\\n\\n\\n\\n\\n\\n\\n\\n\\n\\n\\n\\n\\n\\n\\n\\n\\n\\n\\n\\n\\n\\n\\n\\n\\nLil\\'Log\\n\\n\\n\\n\\n\\n\\n\\n\\n\\n\\n\\n\\n\\n\\n\\n\\n\\n|\\n\\n\\n\\n\\n\\n\\nPosts\\n\\n\\n\\n\\nArchive\\n\\n\\n\\n\\nSearch\\n\\n\\n\\n\\nTags\\n\\n\\n\\n\\nFAQ\\n\\n\\n\\n\\n\\n\\n\\n\\n\\n      LLM Powered Autonomous Agents\\n    \\nDate: June 23, 2023  |  Estimated Reading Time: 31 min  |  Author: Lilian Weng\\n\\n\\n \\n\\n\\nTable of Contents\\n\\n\\n\\nAgent System Overview\\n\\nComponent One: Planning\\n\\nTask Decomposition\\n\\nSelf-Reflection\\n\\n\\nComponent Two: Memory\\n\\nTypes of Memory\\n\\nMaximum Inner Product Search (MIPS)'"
      ]
     },
     "execution_count": 9,
     "metadata": {},
     "output_type": "execute_result"
    }
   ],
   "source": [
    "# Probar la función de la herramienta directamente\n",
    "# Esto simula cómo el agente llamará a la herramienta ¿Qué son los agentes autónomos?\n",
    "retriever_tool_func(\"what are autonomous agents\")"
   ]
  },
  {
   "cell_type": "code",
   "execution_count": 10,
   "id": "744b3daf",
   "metadata": {},
   "outputs": [
    {
     "name": "stdout",
     "output_type": "stream",
     "text": [
      "RAGRetriever\n"
     ]
    }
   ],
   "source": [
    "# Crear el objeto Tool para el retriever\n",
    "# Esto envuelve nuestra función en un formato que LangChain/LangGraph pueden usar\n",
    "retriever_tool = Tool(\n",
    "    name=\"RAGRetriever\",  # Nombre único de la herramienta\n",
    "    description=\"Usa esta herramienta para obtener información relevante de la base de conocimiento\",  # Descripción que ayuda al LLM a decidir cuándo usarla\n",
    "    func=retriever_tool_func  # Función que se ejecutará cuando se llame a la herramienta\n",
    ")\n",
    "\n",
    "# Mostrar el objeto tool\n",
    "retriever_tool\n",
    "\n",
    "# Imprimir el nombre de la herramienta para verificar\n",
    "print(retriever_tool.name)"
   ]
  },
  {
   "cell_type": "code",
   "execution_count": 11,
   "id": "104093c3",
   "metadata": {},
   "outputs": [
    {
     "data": {
      "text/plain": [
       "WikipediaQueryRun(api_wrapper=WikipediaAPIWrapper(wiki_client=<module 'wikipedia' from 'c:\\\\Udemy\\\\RAGBootcamp\\\\.venv\\\\Lib\\\\site-packages\\\\wikipedia\\\\__init__.py'>, top_k_results=3, lang='en', load_all_available_meta=False, doc_content_chars_max=4000))"
      ]
     },
     "execution_count": 11,
     "metadata": {},
     "output_type": "execute_result"
    }
   ],
   "source": [
    "# Crear la herramienta de Wikipedia\n",
    "# WikipediaQueryRun permite al agente buscar información general en Wikipedia\n",
    "wiki_tool = WikipediaQueryRun(\n",
    "    api_wrapper=WikipediaAPIWrapper()  # Wrapper que maneja las llamadas a la API de Wikipedia\n",
    ")\n",
    "\n",
    "# Mostrar el objeto wiki_tool\n",
    "wiki_tool"
   ]
  },
  {
   "cell_type": "code",
   "execution_count": 12,
   "id": "2e953f0d",
   "metadata": {},
   "outputs": [],
   "source": [
    "# Importar librerías necesarias para configurar el modelo de lenguaje\n",
    "import os  # Para variables de entorno\n",
    "from langchain.chat_models import init_chat_model  # Función para inicializar modelos de chat\n",
    "from dotenv import load_dotenv  # Para cargar variables de entorno desde archivo .env\n",
    "\n",
    "# Configurar la API key de OpenAI desde las variables de entorno\n",
    "os.environ[\"OPENAI_API_KEY\"] = os.getenv(\"OPENAI_API_KEY\")\n",
    "\n",
    "# Inicializar el modelo de chat GPT-4o de OpenAI\n",
    "# Este será el \"cerebro\" del agente que razona y decide qué herramientas usar\n",
    "llm = init_chat_model(\"openai:gpt-4o\")"
   ]
  },
  {
   "cell_type": "code",
   "execution_count": 13,
   "id": "3b77c9d4",
   "metadata": {},
   "outputs": [
    {
     "data": {
      "image/png": "[encoded data removed]",
      "text/plain": [
       "<langgraph.graph.state.CompiledStateGraph object at 0x00000277633BAE40>"
      ]
     },
     "execution_count": 13,
     "metadata": {},
     "output_type": "execute_result"
    }
   ],
   "source": [
    "# ----------------------------\n",
    "# 2. Definir el Nodo del Agente\n",
    "# ----------------------------\n",
    "\n",
    "# Crear lista de herramientas disponibles para el agente\n",
    "# El agente podrá elegir entre estas herramientas según la consulta\n",
    "tools = [retriever_tool, wiki_tool]\n",
    "\n",
    "# Crear el agente ReAct nativo de LangGraph\n",
    "# Este agente implementa el patrón ReAct: Reasoning (razonamiento) + Acting (actuación)\n",
    "# - Recibe el LLM que tomará las decisiones\n",
    "# - Recibe las herramientas que puede usar\n",
    "react_node = create_react_agent(llm, tools)\n",
    "\n",
    "# Mostrar el agente creado\n",
    "react_node"
   ]
  },
  {
   "cell_type": "code",
   "execution_count": 15,
   "id": "0708561d",
   "metadata": {},
   "outputs": [],
   "source": [
    "# --------------------------\n",
    "# 3. Estado del Agente LangGraph\n",
    "# --------------------------\n",
    "\n",
    "# Definir la clase que representa el estado del agente\n",
    "class AgentState(TypedDict):\n",
    "    \"\"\"\n",
    "    Define la estructura del estado que fluye a través del grafo.\n",
    "    \n",
    "    messages: Lista de mensajes en la conversación\n",
    "    Annotated[Sequence[BaseMessage], add_messages] indica que:\n",
    "    - Es una secuencia de mensajes (BaseMessage)\n",
    "    - Usa add_messages como función reductora para combinar estados\n",
    "    \"\"\"\n",
    "    messages: Annotated[Sequence[BaseMessage], add_messages]"
   ]
  },
  {
   "cell_type": "code",
   "execution_count": 16,
   "id": "d49f8070",
   "metadata": {},
   "outputs": [
    {
     "data": {
      "image/png": "[encoded data removed]",
      "text/plain": [
       "<langgraph.graph.state.CompiledStateGraph object at 0x0000027718DDF050>"
      ]
     },
     "execution_count": 16,
     "metadata": {},
     "output_type": "execute_result"
    }
   ],
   "source": [
    "# --------------------------\n",
    "# 4. Construir el Grafo de LangGraph\n",
    "# --------------------------\n",
    "\n",
    "# Crear el constructor del grafo con el tipo de estado definido\n",
    "builder = StateGraph(AgentState)\n",
    "\n",
    "# Agregar el nodo del agente ReAct al grafo\n",
    "# \"react_agent\" es el nombre del nodo, react_node es la función que se ejecuta\n",
    "builder.add_node(\"react_agent\", react_node)\n",
    "\n",
    "# Establecer \"react_agent\" como punto de entrada del grafo\n",
    "# Esto significa que la ejecución siempre comenzará aquí\n",
    "builder.set_entry_point(\"react_agent\")\n",
    "\n",
    "# Agregar una arista (edge) desde \"react_agent\" hacia END\n",
    "# Esto significa que después de ejecutar el agente, el flujo termina\n",
    "builder.add_edge(\"react_agent\", END)\n",
    "\n",
    "# Compilar el grafo para hacerlo ejecutable\n",
    "# La compilación optimiza y valida el grafo\n",
    "graph = builder.compile()\n",
    "\n",
    "# Mostrar el objeto del grafo compilado\n",
    "graph"
   ]
  },
  {
   "cell_type": "code",
   "execution_count": 18,
   "id": "c2d9a20d",
   "metadata": {},
   "outputs": [
    {
     "name": "stdout",
     "output_type": "stream",
     "text": [
      "📚 Usando herramienta RAGRetriever\n",
      "\n",
      "✅ Respuesta Final:\n",
      " ### Agent Loop\n",
      "\n",
      "The concept of an \"agent loop\" relates to the cycle of actions and learning that an autonomous agent undergoes. This involves the use of an artificial intelligence (AI) model, often empowered by large language models (LLMs). The loop consists of the agent performing tasks independently, learning from these actions, and iteratively improving its performance. For example, the agent perceptions is concatenated with learning history and inputted back into the model, with the goal of enhancing future task performance by learning the reinforcement learning process itself rather than training for specific tasks.\n",
      "\n",
      "### Autonomous Agents\n",
      "\n",
      "According to Wikipedia, an autonomous agent is a type of artificial intelligence system that is capable of performing complex tasks on its own. It can perceive its environment and take autonomous actions to achieve its objectives, with the potential to enhance its behavior through machine learning or by acquiring new knowledge. This concept is central to the idea of intelligent agents, which range from simple thermostats to complex AI systems, and involves goal-directed behavior that can evolve over time.\n"
     ]
    }
   ],
   "source": [
    "# --------------------------\n",
    "# 5. Ejecutar el Agente ReAct\n",
    "# --------------------------\n",
    "\n",
    "if __name__ == \"__main__\":\n",
    "    # Definir la consulta del usuario\n",
    "    # Esta pregunta requiere información tanto del retriever como de Wikipedia ¿Qué es un bucle de agente (agent loop) y cómo describe Wikipedia a los agentes autónomos?\n",
    "    user_query = \"What is an agent loop and how does Wikipedia describe autonomous agents?\"\n",
    "    \n",
    "    # Crear el estado inicial con el mensaje del usuario\n",
    "    # HumanMessage representa un mensaje enviado por el usuario\n",
    "    state = {\"messages\": [HumanMessage(content=user_query)]}\n",
    "    \n",
    "    # Invocar el grafo con el estado inicial\n",
    "    # El agente procesará la consulta, decidirá qué herramientas usar y generará una respuesta\n",
    "    result = graph.invoke(state)\n",
    "\n",
    "    # Imprimir la respuesta final del agente\n",
    "    # result[\"messages\"][-1] obtiene el último mensaje, que contiene la respuesta final\n",
    "    print(\"\\n✅ Respuesta Final:\\n\", result[\"messages\"][-1].content)"
   ]
  },
  {
   "cell_type": "markdown",
   "id": "a1674ba0",
   "metadata": {},
   "source": [
    "### Creación de herramientas para agentes RAG con LangGraph\n",
    "\n",
    "Para crear herramientas para agentes RAG usando LangGraph, esencialmente estás construyendo funciones invocables por el LLM que tu agente puede llamar como parte de su bucle de razonamiento + actuación (ReAct).\n",
    "\n",
    "LangGraph usa la abstracción Tool de LangChain y soporta completamente herramientas para:\n",
    "\n",
    "- Recuperación RAG\n",
    "- Búsqueda\n",
    "- Wikipedia\n",
    "- SQL\n",
    "- APIs Web\n",
    "- Calculadoras, etc.\n",
    "\n",
    "#### ✅ Requisitos de Diseño de Herramientas\n",
    "\n",
    "Una herramienta de LangGraph debe:\n",
    "\n",
    "- Tener un **nombre** (identificador único)\n",
    "- Tener una **descripción** (usada por el LLM para decidir cuándo usarla)\n",
    "- Tener una **función invocable** (`func`), que acepta una sola entrada (usualmente `str`) y retorna `str`"
   ]
  },
  {
   "cell_type": "code",
   "execution_count": 19,
   "id": "c8d26a6e",
   "metadata": {},
   "outputs": [],
   "source": [
    "# Importar todas las librerías necesarias para crear múltiples herramientas RAG\n",
    "import os  # Para manejo de variables de entorno\n",
    "from typing import Annotated, Sequence, TypedDict  # Para tipado de datos\n",
    "\n",
    "# LangChain Tools y utilidades\n",
    "from langchain.agents import Tool  # Clase base para crear herramientas\n",
    "from langchain.tools import WikipediaQueryRun  # Herramienta de Wikipedia\n",
    "from langchain.utilities import WikipediaAPIWrapper  # Wrapper API de Wikipedia\n",
    "\n",
    "# Vector stores y embeddings\n",
    "from langchain_community.vectorstores import FAISS  # Base de datos vectorial\n",
    "from langchain_openai import OpenAIEmbeddings  # Embeddings de OpenAI\n",
    "\n",
    "# Cargadores de documentos de múltiples fuentes\n",
    "from langchain_community.document_loaders import WebBaseLoader  # Carga contenido web\n",
    "from langchain_community.document_loaders import ArxivLoader  # Carga papers de ArXiv\n",
    "from langchain_community.document_loaders import TextLoader  # Carga archivos de texto\n",
    "\n",
    "# Text splitting\n",
    "from langchain.text_splitter import RecursiveCharacterTextSplitter  # División recursiva de texto\n",
    "\n",
    "# LangGraph\n",
    "from langgraph.prebuilt import create_react_agent  # Crear agente ReAct\n",
    "from langgraph.graph import StateGraph, END  # Construcción del grafo\n",
    "from langgraph.graph.message import add_messages  # Manejo de mensajes\n",
    "\n",
    "# Tipos de mensajes\n",
    "from langchain_core.messages import BaseMessage, HumanMessage  # Clases de mensajes"
   ]
  },
  {
   "cell_type": "code",
   "execution_count": 20,
   "id": "f834985d",
   "metadata": {},
   "outputs": [
    {
     "data": {
      "text/plain": [
       "ChatOpenAI(client=<openai.resources.chat.completions.completions.Completions object at 0x0000027718DDC4A0>, async_client=<openai.resources.chat.completions.completions.AsyncCompletions object at 0x0000027718DF2540>, root_client=<openai.OpenAI object at 0x00000277633BAD80>, root_async_client=<openai.AsyncOpenAI object at 0x0000027718DDC9B0>, model_name='gpt-4o', model_kwargs={}, openai_api_key=SecretStr('**********'), stream_usage=True)"
      ]
     },
     "execution_count": 20,
     "metadata": {},
     "output_type": "execute_result"
    }
   ],
   "source": [
    "# Verificar que el modelo LLM esté correctamente configurado\n",
    "llm"
   ]
  },
  {
   "cell_type": "code",
   "execution_count": 21,
   "id": "6bed0361",
   "metadata": {},
   "outputs": [],
   "source": [
    "### Función genérica para crear una herramienta de recuperación desde un archivo de texto\n",
    "def make_retriever_tool_from_text(file, name, desc):\n",
    "    \"\"\"\n",
    "    Crea una herramienta de recuperación RAG a partir de un archivo de texto.\n",
    "    \n",
    "    Args:\n",
    "        file: Ruta al archivo de texto\n",
    "        name: Nombre de la herramienta\n",
    "        desc: Descripción de la herramienta (ayuda al LLM a decidir cuándo usarla)\n",
    "    \n",
    "    Returns:\n",
    "        Tool: Objeto Tool configurado con el retriever\n",
    "    \"\"\"\n",
    "    # Cargar el documento de texto con codificación UTF-8\n",
    "    docs = TextLoader(file, encoding=\"utf-8\").load()\n",
    "    \n",
    "    # Dividir el documento en chunks de 500 caracteres con 50 de superposición\n",
    "    chunks = RecursiveCharacterTextSplitter(\n",
    "        chunk_size=500,  # Tamaño máximo de cada fragmento\n",
    "        chunk_overlap=50  # Superposición entre fragmentos para mantener contexto\n",
    "    ).split_documents(docs)\n",
    "    \n",
    "    # Crear un vectorstore FAISS con los chunks y embeddings de OpenAI\n",
    "    vs = FAISS.from_documents(chunks, OpenAIEmbeddings())\n",
    "    \n",
    "    # Convertir el vectorstore en un retriever\n",
    "    retriever = vs.as_retriever()\n",
    "\n",
    "    # Definir la función interna que ejecutará la herramienta\n",
    "    def tool_func(query: str) -> str:\n",
    "        \"\"\"Función que se ejecuta cuando el agente llama a esta herramienta\"\"\"\n",
    "        # Imprimir mensaje indicando qué herramienta se está usando\n",
    "        print(f\"📚 Usando herramienta: {name}\")\n",
    "        \n",
    "        # Buscar documentos relevantes usando el retriever\n",
    "        results = retriever.invoke(query)\n",
    "        \n",
    "        # Unir el contenido de todos los documentos encontrados\n",
    "        return \"\\n\\n\".join(doc.page_content for doc in results)\n",
    "    \n",
    "    # Retornar el objeto Tool configurado\n",
    "    return Tool(name=name, description=desc, func=tool_func)\n",
    "\n",
    "\n",
    "# ----------------------------\n",
    "# Crear Herramienta de Wikipedia\n",
    "# ----------------------------\n",
    "wiki_tool = Tool(\n",
    "    name=\"Wikipedia\",  # Nombre de la herramienta\n",
    "    description=\"Usa esta herramienta para obtener conocimiento general del mundo desde Wikipedia.\",  # Descripción\n",
    "    func=WikipediaQueryRun(api_wrapper=WikipediaAPIWrapper())  # Función que ejecuta búsquedas en Wikipedia\n",
    ")\n",
    "\n",
    "\n",
    "# ----------------------------\n",
    "# Crear Herramienta de ArXiv\n",
    "# ----------------------------\n",
    "def arxiv_search(query: str) -> str:\n",
    "    \"\"\"\n",
    "    Busca papers académicos en ArXiv.\n",
    "    \n",
    "    Args:\n",
    "        query: Consulta de búsqueda\n",
    "        \n",
    "    Returns:\n",
    "        str: Contenido de los papers encontrados (máximo 1000 caracteres por paper)\n",
    "    \"\"\"\n",
    "    # Imprimir mensaje indicando búsqueda en ArXiv\n",
    "    print(\"🧪 Buscando en ArXiv...\")\n",
    "    \n",
    "    # Cargar papers usando ArxivLoader\n",
    "    results = ArxivLoader(query).load()\n",
    "    \n",
    "    # Retornar los primeros 1000 caracteres de los 2 primeros papers encontrados\n",
    "    # Si no se encuentra nada, retornar mensaje indicativo\n",
    "    return \"\\n\\n\".join(doc.page_content[:1000] for doc in results[:2]) or \"No se encontraron papers.\"\n",
    "\n",
    "# Crear el objeto Tool para ArXiv\n",
    "arxiv_tool = Tool(\n",
    "    name=\"ArxivSearch\",  # Nombre de la herramienta\n",
    "    description=\"Usa esta herramienta para obtener papers académicos recientes sobre temas técnicos.\",  # Descripción\n",
    "    func=arxiv_search  # Función de búsqueda\n",
    ")"
   ]
  },
  {
   "cell_type": "code",
   "execution_count": 23,
   "id": "6f055f7b",
   "metadata": {},
   "outputs": [
    {
     "data": {
      "text/plain": [
       "Tool(name='InternalTechDocs', description='Busca en documentos técnicos internos para arquitectura propietaria y métodos.', func=<function make_retriever_tool_from_text.<locals>.tool_func at 0x0000027716C6AFC0>)"
      ]
     },
     "execution_count": 23,
     "metadata": {},
     "output_type": "execute_result"
    }
   ],
   "source": [
    "# Crear la primera herramienta de documentos internos\n",
    "# Esta herramienta busca en documentos técnicos internos de la organización\n",
    "internal_tool_1 = make_retriever_tool_from_text(\n",
    "    \"internal_docs.txt\",  # Archivo con documentación técnica interna\n",
    "    \"InternalTechDocs\",  # Nombre de la herramienta\n",
    "    \"Busca en documentos técnicos internos para arquitectura propietaria y métodos.\"  # Descripción\n",
    ")\n",
    "\n",
    "# Mostrar el objeto tool creado\n",
    "internal_tool_1"
   ]
  },
  {
   "cell_type": "code",
   "execution_count": 24,
   "id": "03d60a30",
   "metadata": {},
   "outputs": [
    {
     "data": {
      "text/plain": [
       "Tool(name='InternalResearchNotes', description='Busca en notas de investigación interna para resultados experimentales y diseños de agentes.', func=<function make_retriever_tool_from_text.<locals>.tool_func at 0x0000027718730B80>)"
      ]
     },
     "execution_count": 24,
     "metadata": {},
     "output_type": "execute_result"
    }
   ],
   "source": [
    "# Crear la segunda herramienta de documentos internos\n",
    "# Esta herramienta busca en notas de investigación interna\n",
    "internal_tool_2 = make_retriever_tool_from_text(\n",
    "    \"research_notes.txt\",  # Archivo con notas de investigación\n",
    "    \"InternalResearchNotes\",  # Nombre de la herramienta\n",
    "    \"Busca en notas de investigación interna para resultados experimentales y diseños de agentes.\"  # Descripción\n",
    ")\n",
    "\n",
    "# Mostrar el objeto tool creado\n",
    "internal_tool_2"
   ]
  },
  {
   "cell_type": "code",
   "execution_count": 25,
   "id": "99788378",
   "metadata": {},
   "outputs": [
    {
     "data": {
      "image/png": "[encoded data removed]",
      "text/plain": [
       "<langgraph.graph.state.CompiledStateGraph object at 0x00000277186D92E0>"
      ]
     },
     "execution_count": 25,
     "metadata": {},
     "output_type": "execute_result"
    }
   ],
   "source": [
    "# Crear la lista completa de herramientas disponibles para el agente\n",
    "# El agente podrá elegir entre estas 4 herramientas según la consulta:\n",
    "# 1. Wikipedia - conocimiento general\n",
    "# 2. ArXiv - papers académicos\n",
    "# 3. InternalTechDocs - documentación técnica interna\n",
    "# 4. InternalResearchNotes - notas de investigación interna\n",
    "tools = [wiki_tool, arxiv_tool, internal_tool_1, internal_tool_2]\n",
    "\n",
    "# Crear el nodo del agente ReAct con el LLM y todas las herramientas\n",
    "# El agente usará GPT-4o para razonar qué herramienta usar en cada momento\n",
    "react_node = create_react_agent(llm, tools)\n",
    "\n",
    "# Mostrar el agente creado\n",
    "react_node"
   ]
  },
  {
   "cell_type": "code",
   "execution_count": 26,
   "id": "3b3957b5",
   "metadata": {},
   "outputs": [],
   "source": [
    "# Definir la clase de estado para el agente multi-herramienta\n",
    "class AgentState(TypedDict):\n",
    "    \"\"\"\n",
    "    Estado que fluye a través del grafo del agente.\n",
    "    \n",
    "    Attributes:\n",
    "        messages: Secuencia de mensajes de la conversación\n",
    "                  Annotated con add_messages para combinar estados correctamente\n",
    "    \"\"\"\n",
    "    messages: Annotated[Sequence[BaseMessage], add_messages]"
   ]
  },
  {
   "cell_type": "code",
   "execution_count": 27,
   "id": "279bca91",
   "metadata": {},
   "outputs": [
    {
     "data": {
      "image/png": "[encoded data removed]",
      "text/plain": [
       "<langgraph.graph.state.CompiledStateGraph object at 0x000002771839FD40>"
      ]
     },
     "execution_count": 27,
     "metadata": {},
     "output_type": "execute_result"
    }
   ],
   "source": [
    "# Construir el grafo de LangGraph para el agente RAG Agéntico\n",
    "# Crear el constructor con el tipo de estado\n",
    "builder = StateGraph(AgentState)\n",
    "\n",
    "# Agregar el nodo del agente con acceso a múltiples herramientas\n",
    "# \"agentic_rag\" es el nombre descriptivo del nodo\n",
    "builder.add_node(\"agentic_rag\", react_node)\n",
    "\n",
    "# Establecer el punto de entrada del grafo\n",
    "builder.set_entry_point(\"agentic_rag\")\n",
    "\n",
    "# Agregar arista al final después del agente\n",
    "# El flujo va: entrada → agentic_rag → fin\n",
    "builder.add_edge(\"agentic_rag\", END)\n",
    "\n",
    "# Compilar el grafo para hacerlo ejecutable\n",
    "graph = builder.compile()\n",
    "\n",
    "# Mostrar el grafo compilado\n",
    "graph"
   ]
  },
  {
   "cell_type": "code",
   "execution_count": 28,
   "id": "ee74476e",
   "metadata": {},
   "outputs": [
    {
     "name": "stdout",
     "output_type": "stream",
     "text": [
      "📚 Usando herramienta: InternalResearchNotes\n",
      "🧪 Buscando en ArXiv...\n",
      "\n",
      "✅ Respuesta Final:\n",
      " ### Notas de Investigación Interna sobre Variantes de Transformers\n",
      "\n",
      "1. **TinyBERT:**\n",
      "   - **Aplicación:** Clasificación de tickets de soporte para etiquetado de prioridad.\n",
      "   - **Evaluación:** 87% de F1 score; confusión en la clase ambigua C.\n",
      "   - **Adaptabilidad:** Funciona bien con adaptadores FFN de 2 capas para transferencia de dominio.\n",
      "\n",
      "2. **Experimentos Adicionales:**\n",
      "   - **FlashAttention2:** Integrado en LLaMA2, reduciendo la latencia de contexto en ~50%.\n",
      "   - **Chain-of-Thought Prompting:** Mejora en un 8% en tareas lógicas frente a preguntas directas; la reflexión aumenta la precisión en un 3%.\n",
      "   - **EfficientFormer:** Precisión Top-1 del 92.4% en TinyImageNet; uso de memoria 290MB (batch size = 16); objetivo de despliegue en Raspberry Pi 4, buen rendimiento en modo int8 cuantizado.\n",
      "   - **Longformer:** Evaluado en registros de soporte al cliente (máx. tokens: 8192); latencia >1.2s por consulta en configuración de streaming.\n",
      "   - **Tool-Augmented Prompting:** Integración de LangGraph + Wikipedia + búsqueda SQL para razonamiento dinámico de recuperación-agente.\n",
      "\n",
      "3. **Evaluación Humana:**\n",
      "   - Anotadores internos calificando fluidez, utilidad y corrección.\n",
      "   - Evaluador sintético: GPT-4 usado adicionalmente.\n",
      "\n",
      "4. **LLaMA2:**\n",
      "   - Sintonizado con instrucciones usando 20k tickets internos.\n",
      "   - Combinado con RAG para chatbot Q&A; latencia: ~300ms en A100.\n",
      "   - Métrica de evaluación: Tasa de ganancia vs humano (75%).\n",
      "   - Retroalimentación de juez GPT-4: \"Razonamiento contextual bueno, facticidad necesita mejoras\".\n",
      "\n",
      "### Sugerencias Recientes de ArXiv\n",
      "\n",
      "Desafortunadamente, hubo un error al intentar recuperar datos recientes de ArXiv sobre variantes de transformers. Podría intentar de nuevo más tarde o revisar directamente en el sitio de ArXiv para obtener publicaciones recientes.\n"
     ]
    }
   ],
   "source": [
    "# Definir una consulta compleja que requiere múltiples herramientas\n",
    "# Esta pregunta necesita:\n",
    "# 1. InternalResearchNotes - para información interna sobre transformers\n",
    "# 2. ArXiv - para papers recientes sobre el tema\n",
    "query = \"¿Qué dicen nuestras notas de investigación internas sobre variantes de transformers, y qué sugiere ArXiv recientemente?\"\n",
    "\n",
    "# Crear el estado inicial con el mensaje del usuario\n",
    "state = {\"messages\": [HumanMessage(content=query)]}\n",
    "\n",
    "# Invocar el grafo\n",
    "# El agente ReAct:\n",
    "# 1. Analizará la pregunta\n",
    "# 2. Decidirá usar InternalResearchNotes primero\n",
    "# 3. Luego usará ArxivSearch\n",
    "# 4. Combinará la información de ambas fuentes\n",
    "# 5. Generará una respuesta completa\n",
    "result = graph.invoke(state)\n",
    "\n",
    "# Imprimir la respuesta final del agente\n",
    "# Esta respuesta contendrá información sintetizada de múltiples fuentes\n",
    "print(\"\\n✅ Respuesta Final:\\n\", result[\"messages\"][-1].content)"
   ]
  }
 ],
 "metadata": {
  "kernelspec": {
   "display_name": ".venv",
   "language": "python",
   "name": "python3"
  },
  "language_info": {
   "codemirror_mode": {
    "name": "ipython",
    "version": 3
   },
   "file_extension": ".py",
   "mimetype": "text/x-python",
   "name": "python",
   "nbconvert_exporter": "python",
   "pygments_lexer": "ipython3",
   "version": "3.12.11"
  }
 },
 "nbformat": 4,
 "nbformat_minor": 5
}
